{
 "cells": [
  {
   "cell_type": "markdown",
   "id": "c6547d74",
   "metadata": {},
   "source": [
    "# 압축\n",
    "https://school.programmers.co.kr/learn/courses/30/lessons/17684"
   ]
  },
  {
   "cell_type": "code",
   "execution_count": 3,
   "id": "64dce6a1",
   "metadata": {
    "ExecuteTime": {
     "end_time": "2023-09-25T04:32:08.390549Z",
     "start_time": "2023-09-25T04:32:08.382564Z"
    }
   },
   "outputs": [
    {
     "data": {
      "text/plain": [
       "[11, 1, 27, 15]"
      ]
     },
     "execution_count": 3,
     "metadata": {},
     "output_type": "execute_result"
    }
   ],
   "source": [
    "def solution(msg):\n",
    "    alphabet = [chr(i) for i in range(65,91)]\n",
    "    idx = [ord(i) - 64 for i in alphabet]\n",
    "    \n",
    "    answer = []\n",
    "    i = 0\n",
    "    j = 1\n",
    "    \n",
    "    while True:\n",
    "        \n",
    "        if j == len(msg):\n",
    "            answer.append(idx[alphabet.index(msg[i:j])])\n",
    "            break\n",
    "\n",
    "        if msg[i:j+1] not in alphabet:\n",
    "            alphabet.append(msg[i:j+1])\n",
    "            idx.append(idx[-1] + 1)\n",
    "            answer.append(idx[alphabet.index(msg[i:j])])\n",
    "            i = j\n",
    "\n",
    "        j += 1\n",
    "\n",
    "    return answer\n",
    "solution(\"KAKAO\")"
   ]
  }
 ],
 "metadata": {
  "kernelspec": {
   "display_name": "free",
   "language": "python",
   "name": "free"
  },
  "language_info": {
   "codemirror_mode": {
    "name": "ipython",
    "version": 3
   },
   "file_extension": ".py",
   "mimetype": "text/x-python",
   "name": "python",
   "nbconvert_exporter": "python",
   "pygments_lexer": "ipython3",
   "version": "3.8.13"
  }
 },
 "nbformat": 4,
 "nbformat_minor": 5
}
