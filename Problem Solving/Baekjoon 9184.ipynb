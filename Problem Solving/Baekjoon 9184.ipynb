{
 "cells": [
  {
   "cell_type": "markdown",
   "id": "b1c01478",
   "metadata": {},
   "source": [
    "# 신나는 함수 실행\n",
    "https://www.acmicpc.net/problem/9184"
   ]
  },
  {
   "cell_type": "code",
   "execution_count": 23,
   "id": "314bbca9",
   "metadata": {
    "ExecuteTime": {
     "end_time": "2023-09-18T02:13:44.096469Z",
     "start_time": "2023-09-18T02:13:35.721415Z"
    },
    "scrolled": true
   },
   "outputs": [
    {
     "name": "stdout",
     "output_type": "stream",
     "text": [
      "1 1 1\n",
      "w(1, 1, 1) = 2\n",
      "2 2 2\n",
      "w(2, 2, 2) = 4\n",
      "10 4 6\n",
      "w(10, 4, 6) = 523\n",
      "-1 -1 -1\n"
     ]
    }
   ],
   "source": [
    "def w(a, b, c):\n",
    "    if a <= 0 or b <= 0 or c <= 0:\n",
    "        return 1\n",
    "    \n",
    "    if a > 20 or b > 20 or c > 20:\n",
    "        return w(20, 20, 20)\n",
    "    \n",
    "    if dp[a][b][c]:\n",
    "        return dp[a][b][c]\n",
    "    \n",
    "    if a < b and b < c:\n",
    "        dp[a][b][c] = w(a, b, c-1) + w(a, b-1, c-1) - w(a, b-1, c)\n",
    "        \n",
    "    dp[a][b][c] = w(a-1, b, c) + w(a-1, b-1, c) + w(a-1, b, c-1) - w(a-1, b-1, c-1)\n",
    "    \n",
    "    return dp[a][b][c]\n",
    "\n",
    "dp = list([[0]*(51) for _ in range(51)] for _ in range(51))\n",
    "\n",
    "while True:\n",
    "    a, b, c = map(int, input().split())\n",
    "    if a == -1 and b == -1 and c == -1:\n",
    "        break\n",
    "    print(f'w({a}, {b}, {c}) = {w(a,b,c)}')"
   ]
  }
 ],
 "metadata": {
  "kernelspec": {
   "display_name": "Python 3 (ipykernel)",
   "language": "python",
   "name": "python3"
  },
  "language_info": {
   "codemirror_mode": {
    "name": "ipython",
    "version": 3
   },
   "file_extension": ".py",
   "mimetype": "text/x-python",
   "name": "python",
   "nbconvert_exporter": "python",
   "pygments_lexer": "ipython3",
   "version": "3.8.13"
  }
 },
 "nbformat": 4,
 "nbformat_minor": 5
}
