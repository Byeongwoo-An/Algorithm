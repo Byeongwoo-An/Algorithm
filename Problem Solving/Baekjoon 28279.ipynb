{
 "cells": [
  {
   "cell_type": "markdown",
   "id": "2e2af310",
   "metadata": {},
   "source": [
    "# 덱 2\n",
    "https://www.acmicpc.net/problem/28279"
   ]
  },
  {
   "cell_type": "code",
   "execution_count": 23,
   "id": "618513a7",
   "metadata": {
    "ExecuteTime": {
     "end_time": "2023-09-14T01:30:48.187015Z",
     "start_time": "2023-09-14T01:30:33.832868Z"
    }
   },
   "outputs": [
    {
     "name": "stdout",
     "output_type": "stream",
     "text": [
      "11\n",
      "6\n",
      "1\n",
      "1 3\n",
      "1 8\n",
      "7\n",
      "8\n",
      "8\n",
      "3\n",
      "3\n",
      "8\n",
      "2 5\n",
      "1 2\n",
      "5\n",
      "3\n",
      "4\n",
      "5\n",
      "4\n",
      "3\n"
     ]
    }
   ],
   "source": [
    "from collections import deque\n",
    "import sys\n",
    "\n",
    "input = sys.stdin.readline\n",
    "n = int(input())\n",
    "q = deque()\n",
    "\n",
    "for _ in range(n):\n",
    "    \n",
    "    command = list(map(int, input().split()))\n",
    "    \n",
    "    \n",
    "    if command[0] == 1:\n",
    "        q.insert(0, command[1])\n",
    "    elif command[0] == 2:\n",
    "        q.append(command[1])\n",
    "    elif command[0] == 3:\n",
    "        if q:\n",
    "            print(q.popleft())\n",
    "        else:\n",
    "            print(-1)\n",
    "    elif command[0] == 4:\n",
    "        if q:\n",
    "            print(q.pop())\n",
    "        else:\n",
    "            print(-1)\n",
    "    elif command[0] == 5:\n",
    "        print(len(q))\n",
    "    elif command[0] == 6:\n",
    "        if q:\n",
    "            print(0)\n",
    "        else:\n",
    "            print(1)\n",
    "    elif command[0] == 7:\n",
    "        if q:\n",
    "            print(q[0])\n",
    "        else:\n",
    "            print(-1)\n",
    "    elif command[0] == 8:\n",
    "        if q:\n",
    "            print(q[-1])\n",
    "        else:\n",
    "            print(-1)"
   ]
  }
 ],
 "metadata": {
  "kernelspec": {
   "display_name": "Python 3 (ipykernel)",
   "language": "python",
   "name": "python3"
  },
  "language_info": {
   "codemirror_mode": {
    "name": "ipython",
    "version": 3
   },
   "file_extension": ".py",
   "mimetype": "text/x-python",
   "name": "python",
   "nbconvert_exporter": "python",
   "pygments_lexer": "ipython3",
   "version": "3.8.13"
  }
 },
 "nbformat": 4,
 "nbformat_minor": 5
}
