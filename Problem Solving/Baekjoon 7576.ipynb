{
 "cells": [
  {
   "cell_type": "markdown",
   "id": "cf01001c",
   "metadata": {},
   "source": [
    "# 토마토\n",
    "https://www.acmicpc.net/problem/7576"
   ]
  },
  {
   "cell_type": "code",
   "execution_count": 106,
   "id": "1fa21619",
   "metadata": {
    "ExecuteTime": {
     "end_time": "2023-10-11T11:50:24.626822Z",
     "start_time": "2023-10-11T11:50:09.519720Z"
    }
   },
   "outputs": [
    {
     "name": "stdout",
     "output_type": "stream",
     "text": [
      "6 4\n",
      "1 -1 0 0 0 0\n",
      "0 -1 0 0 0 0\n",
      "0 0 0 0 -1 0\n",
      "0 0 0 0 -1 1\n",
      "6\n"
     ]
    }
   ],
   "source": [
    "from collections import deque\n",
    "\n",
    "m,n = map(int, input().split())\n",
    "box = [list(map(int,input().split())) for _ in range(n)]\n",
    "\n",
    "\n",
    "q = deque([])\n",
    "for i in range(n):\n",
    "    for j in range(m):\n",
    "        if box[i][j] == 1:\n",
    "            q.append([i, j])\n",
    "            \n",
    "dx = [-1, 1, 0, 0]\n",
    "dy = [0, 0, -1, 1]\n",
    "def bfs():\n",
    "    while q:\n",
    "        x, y = q.popleft()\n",
    "        for i in range(4):\n",
    "            nx = x + dx[i]\n",
    "            ny = y + dy[i]\n",
    "            if 0 <= nx < n and 0 <= ny < m and box[nx][ny] == 0:\n",
    "                box[nx][ny] = box[x][y] + 1\n",
    "                q.append([nx, ny])\n",
    "bfs()\n",
    "cnt = 0\n",
    "for i in range(n):\n",
    "    for j in range(m):\n",
    "        if box[i][j] == 0:\n",
    "            print(\"-1\")\n",
    "            exit(0)\n",
    "        if cnt < box[i][j]:\n",
    "            cnt = box[i][j]\n",
    "print(cnt-1)"
   ]
  }
 ],
 "metadata": {
  "kernelspec": {
   "display_name": "Python 3 (ipykernel)",
   "language": "python",
   "name": "python3"
  },
  "language_info": {
   "codemirror_mode": {
    "name": "ipython",
    "version": 3
   },
   "file_extension": ".py",
   "mimetype": "text/x-python",
   "name": "python",
   "nbconvert_exporter": "python",
   "pygments_lexer": "ipython3",
   "version": "3.7.13"
  }
 },
 "nbformat": 4,
 "nbformat_minor": 5
}
