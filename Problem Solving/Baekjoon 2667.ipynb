{
 "cells": [
  {
   "cell_type": "markdown",
   "id": "2ff15d0e",
   "metadata": {},
   "source": [
    "# 단지번호붙이기\n",
    "https://www.acmicpc.net/problem/2667"
   ]
  },
  {
   "cell_type": "code",
   "execution_count": 31,
   "id": "d251fcb8",
   "metadata": {},
   "outputs": [
    {
     "name": "stdout",
     "output_type": "stream",
     "text": [
      "4\n",
      "1011\n",
      "0111\n",
      "0000\n",
      "1000\n",
      "3\n",
      "1\n",
      "1\n",
      "5\n"
     ]
    }
   ],
   "source": [
    "n = int(input())\n",
    "graph = []\n",
    "for _ in range(n):\n",
    "    graph.append(list(map(int, input())))\n",
    "    \n",
    "dx = [-1,1,0,0]\n",
    "dy = [0,0,1,-1]\n",
    "\n",
    "def dfs(x,y):\n",
    "    if x >= n or y >= n or x < 0 or y < 0:\n",
    "        return False\n",
    "    if graph[x][y] == 1:\n",
    "        global cnt\n",
    "        cnt += 1\n",
    "        graph [x][y] = 0\n",
    "        for i in range(4):\n",
    "            nx = x+dx[i]\n",
    "            ny = y+dy[i]\n",
    "            dfs(nx,ny)\n",
    "        return True\n",
    "    return False\n",
    "\n",
    "cnt = 0\n",
    "result = 0\n",
    "num = []\n",
    "for i in range(n):\n",
    "    for j in range(n):\n",
    "        if dfs(i,j) == True:\n",
    "            num.append(cnt)\n",
    "            result += 1\n",
    "            cnt = 0 \n",
    "print(result)\n",
    "sorted_ = sorted(num)\n",
    "for i in range(len(num)):\n",
    "    print(sorted_[i])"
   ]
  }
 ],
 "metadata": {
  "kernelspec": {
   "display_name": "Python 3 (ipykernel)",
   "language": "python",
   "name": "python3"
  },
  "language_info": {
   "codemirror_mode": {
    "name": "ipython",
    "version": 3
   },
   "file_extension": ".py",
   "mimetype": "text/x-python",
   "name": "python",
   "nbconvert_exporter": "python",
   "pygments_lexer": "ipython3",
   "version": "3.9.7"
  }
 },
 "nbformat": 4,
 "nbformat_minor": 5
}
