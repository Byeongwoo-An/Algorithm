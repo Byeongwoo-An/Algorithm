{
 "cells": [
  {
   "cell_type": "markdown",
   "id": "5d2ad225",
   "metadata": {},
   "source": [
    "# 순열 사이클\n",
    "https://www.acmicpc.net/problem/10451"
   ]
  },
  {
   "cell_type": "code",
   "execution_count": 128,
   "id": "23d8ac7c",
   "metadata": {},
   "outputs": [
    {
     "name": "stdout",
     "output_type": "stream",
     "text": [
      "2\n",
      "8\n",
      "3 2 7 8 1 4 5 6\n",
      "3\n",
      "10\n",
      "2 1 3 4 5 6 7 9 10 8\n",
      "7\n"
     ]
    }
   ],
   "source": [
    "def dfs(x):\n",
    "    visited[x] = 1\n",
    "    next_ = per[x]\n",
    "    if visited[next_] == 0:\n",
    "        dfs(next_)\n",
    "\n",
    "t = int(input())\n",
    "for _ in range(t):\n",
    "    n = int(input())\n",
    "    per = [0] + list(map(int, input().split()))\n",
    "    visited = [0] * (len(per))\n",
    "    \n",
    "    cnt = 0\n",
    "    for i in range(1,n+1):\n",
    "        if visited[i] == 0:\n",
    "            dfs(i)\n",
    "            cnt += 1\n",
    "    print(cnt)"
   ]
  }
 ],
 "metadata": {
  "kernelspec": {
   "display_name": "Python 3 (ipykernel)",
   "language": "python",
   "name": "python3"
  },
  "language_info": {
   "codemirror_mode": {
    "name": "ipython",
    "version": 3
   },
   "file_extension": ".py",
   "mimetype": "text/x-python",
   "name": "python",
   "nbconvert_exporter": "python",
   "pygments_lexer": "ipython3",
   "version": "3.9.7"
  }
 },
 "nbformat": 4,
 "nbformat_minor": 5
}
