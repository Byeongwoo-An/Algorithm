{
 "cells": [
  {
   "cell_type": "markdown",
   "id": "d0bc47df",
   "metadata": {},
   "source": [
    "# 1920 수 찾기\n",
    "https://www.acmicpc.net/problem/1920"
   ]
  },
  {
   "cell_type": "code",
   "execution_count": 95,
   "id": "19d38562",
   "metadata": {
    "ExecuteTime": {
     "end_time": "2023-08-08T02:06:13.455598Z",
     "start_time": "2023-08-08T02:06:07.056972Z"
    }
   },
   "outputs": [
    {
     "name": "stdout",
     "output_type": "stream",
     "text": [
      "3\n",
      "1 5 9\n",
      "9\n",
      "1 2 3 4 5 6 7 8 9\n",
      "1\n",
      "0\n",
      "0\n",
      "0\n",
      "1\n",
      "0\n",
      "0\n",
      "0\n",
      "1\n"
     ]
    }
   ],
   "source": [
    "n = int(input())\n",
    "a = list(map(int, input().split()))\n",
    "m = int(input())\n",
    "x = list(map(int, input().split()))\n",
    "\n",
    "sort_a = sorted(a)\n",
    "\n",
    "for i in range(m):\n",
    "    s = 0\n",
    "    e = n-1\n",
    "    while s <= e:\n",
    "        j = (s + e)//2\n",
    "        if x[i] > sort_a[j]:\n",
    "            s = j+1\n",
    "        else:\n",
    "            e = j-1\n",
    "    if s > len(sort_a)-1:\n",
    "        print(0)\n",
    "    elif sort_a[s] == x[i]:\n",
    "        print(1)\n",
    "    else:\n",
    "        print(0)"
   ]
  }
 ],
 "metadata": {
  "kernelspec": {
   "display_name": "free",
   "language": "python",
   "name": "free"
  },
  "language_info": {
   "codemirror_mode": {
    "name": "ipython",
    "version": 3
   },
   "file_extension": ".py",
   "mimetype": "text/x-python",
   "name": "python",
   "nbconvert_exporter": "python",
   "pygments_lexer": "ipython3",
   "version": "3.8.13"
  }
 },
 "nbformat": 4,
 "nbformat_minor": 5
}
