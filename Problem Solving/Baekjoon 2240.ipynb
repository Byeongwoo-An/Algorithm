{
 "cells": [
  {
   "cell_type": "markdown",
   "id": "4553ea43",
   "metadata": {},
   "source": [
    "# 자두나무\n",
    "https://www.acmicpc.net/problem/2240"
   ]
  },
  {
   "cell_type": "code",
   "execution_count": 11,
   "id": "2ab02a20",
   "metadata": {
    "ExecuteTime": {
     "end_time": "2023-10-16T04:05:51.877463Z",
     "start_time": "2023-10-16T04:05:45.394004Z"
    }
   },
   "outputs": [
    {
     "name": "stdout",
     "output_type": "stream",
     "text": [
      "7 2\n",
      "2\n",
      "1\n",
      "1\n",
      "2\n",
      "2\n",
      "1\n",
      "1\n"
     ]
    }
   ],
   "source": [
    "t, w = map(int,input().split())\n",
    "\n",
    "tree = [0]\n",
    "for i in range(t):\n",
    "    tree.append(int(input()))\n",
    "dp = [[0]*(w+1) for _ in range(t+1)]"
   ]
  },
  {
   "cell_type": "code",
   "execution_count": 14,
   "id": "3bfd6e36",
   "metadata": {
    "ExecuteTime": {
     "end_time": "2023-10-16T04:17:51.290669Z",
     "start_time": "2023-10-16T04:17:51.270231Z"
    }
   },
   "outputs": [
    {
     "name": "stdout",
     "output_type": "stream",
     "text": [
      "6\n"
     ]
    }
   ],
   "source": [
    "# t 자두 떨어짐, w 움직이는 횟수\n",
    "for i in range(t + 1):\n",
    "    \n",
    "    if tree[i] == 1:\n",
    "        dp[i][0] = dp[i-1][0] + 1\n",
    "        \n",
    "    else:\n",
    "        dp[i][0] = dp[i-1][0]\n",
    "        \n",
    "    for j in range(1,w + 1):\n",
    "        if tree[i] == 2 and j%2 == 1:\n",
    "            dp[i][j] = max(dp[i-1][j-1], dp[i-1][j]) + 1\n",
    "            \n",
    "        elif tree[i] == 1 and j%2 == 0:\n",
    "            dp[i][j] = max(dp[i-1][j-1], dp[i-1][j]) + 1\n",
    "            \n",
    "        else:\n",
    "            dp[i][j] = max(dp[i-1][j-1], dp[i-1][j])\n",
    "print(max(dp[t]))"
   ]
  },
  {
   "cell_type": "code",
   "execution_count": 16,
   "id": "4e80cc75",
   "metadata": {
    "ExecuteTime": {
     "end_time": "2023-10-16T04:20:07.618487Z",
     "start_time": "2023-10-16T04:20:07.608086Z"
    }
   },
   "outputs": [
    {
     "data": {
      "text/plain": [
       "[0, 2, 1, 1, 2, 2, 1, 1]"
      ]
     },
     "execution_count": 16,
     "metadata": {},
     "output_type": "execute_result"
    }
   ],
   "source": [
    "tree"
   ]
  },
  {
   "cell_type": "code",
   "execution_count": 15,
   "id": "2b9810fb",
   "metadata": {
    "ExecuteTime": {
     "end_time": "2023-10-16T04:17:51.741328Z",
     "start_time": "2023-10-16T04:17:51.736291Z"
    }
   },
   "outputs": [
    {
     "data": {
      "text/plain": [
       "[[0, 0, 0],\n",
       " [0, 1, 0],\n",
       " [1, 1, 2],\n",
       " [2, 1, 3],\n",
       " [2, 3, 3],\n",
       " [2, 4, 3],\n",
       " [3, 4, 5],\n",
       " [4, 4, 6]]"
      ]
     },
     "execution_count": 15,
     "metadata": {},
     "output_type": "execute_result"
    }
   ],
   "source": [
    "dp"
   ]
  },
  {
   "cell_type": "code",
   "execution_count": null,
   "id": "65deae13",
   "metadata": {},
   "outputs": [],
   "source": [
    "2\n",
    "1\n",
    "1\n",
    "2\n",
    "2\n",
    "1\n",
    "1"
   ]
  }
 ],
 "metadata": {
  "kernelspec": {
   "display_name": "Python 3 (ipykernel)",
   "language": "python",
   "name": "python3"
  },
  "language_info": {
   "codemirror_mode": {
    "name": "ipython",
    "version": 3
   },
   "file_extension": ".py",
   "mimetype": "text/x-python",
   "name": "python",
   "nbconvert_exporter": "python",
   "pygments_lexer": "ipython3",
   "version": "3.7.13"
  }
 },
 "nbformat": 4,
 "nbformat_minor": 5
}
