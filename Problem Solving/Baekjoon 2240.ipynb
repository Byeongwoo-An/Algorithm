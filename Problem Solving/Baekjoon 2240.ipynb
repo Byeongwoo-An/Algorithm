{
 "cells": [
  {
   "cell_type": "markdown",
   "id": "de4ddaf6",
   "metadata": {},
   "source": [
    "# 자두나무\n",
    "https://www.acmicpc.net/problem/2240"
   ]
  },
  {
   "cell_type": "code",
   "execution_count": 17,
   "id": "fec7822e",
   "metadata": {
    "ExecuteTime": {
     "end_time": "2023-10-16T04:26:36.199109Z",
     "start_time": "2023-10-16T04:26:21.617293Z"
    }
   },
   "outputs": [
    {
     "name": "stdout",
     "output_type": "stream",
     "text": [
      "7 2\n",
      "2\n",
      "1\n",
      "1\n",
      "2\n",
      "2\n",
      "1\n",
      "1\n",
      "6\n"
     ]
    }
   ],
   "source": [
    "t, w = map(int,input().split())\n",
    "\n",
    "tree = [0]\n",
    "for i in range(t):\n",
    "    tree.append(int(input()))\n",
    "dp = [[0]*(w+1) for _ in range(t+1)]\n",
    "\n",
    "# t 자두 떨어짐, w 움직이는 횟수\n",
    "for i in range(t + 1):\n",
    "    \n",
    "    if tree[i] == 1:\n",
    "        dp[i][0] = dp[i-1][0] + 1\n",
    "        \n",
    "    else:\n",
    "        dp[i][0] = dp[i-1][0]\n",
    "        \n",
    "    for j in range(1,w + 1):\n",
    "        if tree[i] == 2 and j%2 == 1:\n",
    "            dp[i][j] = max(dp[i-1][j-1], dp[i-1][j]) + 1\n",
    "            \n",
    "        elif tree[i] == 1 and j%2 == 0:\n",
    "            dp[i][j] = max(dp[i-1][j-1], dp[i-1][j]) + 1\n",
    "            \n",
    "        else:\n",
    "            dp[i][j] = max(dp[i-1][j-1], dp[i-1][j])\n",
    "print(max(dp[t]))"
   ]
  }
 ],
 "metadata": {
  "kernelspec": {
   "display_name": "Python 3 (ipykernel)",
   "language": "python",
   "name": "python3"
  },
  "language_info": {
   "codemirror_mode": {
    "name": "ipython",
    "version": 3
   },
   "file_extension": ".py",
   "mimetype": "text/x-python",
   "name": "python",
   "nbconvert_exporter": "python",
   "pygments_lexer": "ipython3",
   "version": "3.7.13"
  }
 },
 "nbformat": 4,
 "nbformat_minor": 5
}
