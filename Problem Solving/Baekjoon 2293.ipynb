{
 "cells": [
  {
   "cell_type": "markdown",
   "id": "c744f200",
   "metadata": {},
   "source": [
    "# 동전 1\n",
    "https://www.acmicpc.net/problem/2293"
   ]
  },
  {
   "cell_type": "code",
   "execution_count": 186,
   "id": "73dddd9c",
   "metadata": {
    "ExecuteTime": {
     "end_time": "2023-09-20T05:25:26.469026Z",
     "start_time": "2023-09-20T05:25:22.721771Z"
    }
   },
   "outputs": [
    {
     "name": "stdout",
     "output_type": "stream",
     "text": [
      "3 10\n",
      "1\n",
      "2\n",
      "5\n",
      "10\n"
     ]
    }
   ],
   "source": [
    "n, k = map(int, input().split())\n",
    "coin = []\n",
    "for _ in range(n):\n",
    "    coin.append(int(input()))\n",
    "\n",
    "dp = [0]*100001\n",
    "dp[0] = 1\n",
    "for i in coin:\n",
    "    for j in range(1,k+1):\n",
    "        if j-i >= 0:\n",
    "            dp[j] += dp[j-i]\n",
    "print(dp[k])"
   ]
  }
 ],
 "metadata": {
  "kernelspec": {
   "display_name": "Python 3 (ipykernel)",
   "language": "python",
   "name": "python3"
  },
  "language_info": {
   "codemirror_mode": {
    "name": "ipython",
    "version": 3
   },
   "file_extension": ".py",
   "mimetype": "text/x-python",
   "name": "python",
   "nbconvert_exporter": "python",
   "pygments_lexer": "ipython3",
   "version": "3.8.13"
  }
 },
 "nbformat": 4,
 "nbformat_minor": 5
}
