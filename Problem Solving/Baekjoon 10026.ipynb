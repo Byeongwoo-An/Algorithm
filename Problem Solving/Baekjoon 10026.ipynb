{
 "cells": [
  {
   "cell_type": "markdown",
   "id": "2dd66d67",
   "metadata": {},
   "source": [
    "# 적록색약\n",
    "https://www.acmicpc.net/problem/10026"
   ]
  },
  {
   "cell_type": "code",
   "execution_count": 64,
   "id": "4e575023",
   "metadata": {
    "ExecuteTime": {
     "end_time": "2023-10-11T12:38:03.741942Z",
     "start_time": "2023-10-11T12:37:51.378429Z"
    }
   },
   "outputs": [
    {
     "name": "stdout",
     "output_type": "stream",
     "text": [
      "5\n",
      "RRRBB\n",
      "GGBBB\n",
      "BBBRR\n",
      "BBRRR\n",
      "RRRRR\n",
      "4 3\n"
     ]
    }
   ],
   "source": [
    "# 먼저 적록색약이 아닌 사람이 봤을 때를 구한 다음, R과 G을 같은 색으로 바꾸는 방법도 있음.\n",
    "from collections import deque\n",
    "n = int(input())\n",
    "color = [list(map(str,input())) for _ in range(n)]\n",
    "\n",
    "dx = [-1, 1, 0, 0]\n",
    "dy = [0, 0, -1, 1]\n",
    "\n",
    "def bfs(v):\n",
    "    q = deque([v])\n",
    "    while q:\n",
    "        x, y = q.popleft()\n",
    "        for i in range(4):\n",
    "            nx = x + dx[i]\n",
    "            ny = y + dy[i]\n",
    "            if 0 <= nx < n and 0 <= ny < n and color[nx][ny] == color[x][y] and visited[nx][ny] == 0:\n",
    "                visited[nx][ny] = 1\n",
    "                q.append([nx,ny])\n",
    "                \n",
    "def color_bfs(v):\n",
    "    q = deque([v])\n",
    "    while q:\n",
    "        x, y = q.popleft()\n",
    "        for i in range(4):\n",
    "            nx = x + dx[i]\n",
    "            ny = y + dy[i]\n",
    "            if 0 <= nx < n and 0 <= ny < n and visited[nx][ny] == 0:\n",
    "                if (color[x][y] == \"G\" or color[x][y] == \"R\") and (color[nx][ny] == \"G\" or color[nx][ny] == \"R\"):\n",
    "                    visited[nx][ny] = 1\n",
    "                    q.append([nx,ny])\n",
    "                elif (color[x][y] == \"B\") and (color[nx][ny] == \"B\"):\n",
    "                    visited[nx][ny] = 1\n",
    "                    q.append([nx,ny])\n",
    "                    \n",
    "visited = [[0]*n for _ in range(n)]\n",
    "visited[0][0] = 1\n",
    "bfs((0,0))\n",
    "cnt1 = 1\n",
    "for i in range(n):\n",
    "    for j in range(n):\n",
    "        if visited[i][j] == 1:\n",
    "            continue\n",
    "        bfs((i,j))\n",
    "        cnt1 += 1\n",
    "        \n",
    "visited = [[0]*n for _ in range(n)]        \n",
    "visited[0][0] = 1\n",
    "color_bfs((0,0))\n",
    "cnt2 = 1\n",
    "for i in range(n):\n",
    "    for j in range(n):\n",
    "        if visited[i][j] == 1:\n",
    "            continue\n",
    "        color_bfs((i,j))\n",
    "        cnt2 += 1\n",
    "print(cnt1, cnt2)"
   ]
  }
 ],
 "metadata": {
  "kernelspec": {
   "display_name": "Python 3 (ipykernel)",
   "language": "python",
   "name": "python3"
  },
  "language_info": {
   "codemirror_mode": {
    "name": "ipython",
    "version": 3
   },
   "file_extension": ".py",
   "mimetype": "text/x-python",
   "name": "python",
   "nbconvert_exporter": "python",
   "pygments_lexer": "ipython3",
   "version": "3.7.13"
  }
 },
 "nbformat": 4,
 "nbformat_minor": 5
}
