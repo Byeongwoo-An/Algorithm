{
 "cells": [
  {
   "cell_type": "markdown",
   "id": "3ff6cd41",
   "metadata": {},
   "source": [
    "# DFS와 BFS\n",
    "https://www.acmicpc.net/problem/1260"
   ]
  },
  {
   "cell_type": "code",
   "execution_count": 64,
   "id": "239845b6",
   "metadata": {
    "ExecuteTime": {
     "end_time": "2023-09-04T02:58:01.415083Z",
     "start_time": "2023-09-04T02:57:54.151910Z"
    }
   },
   "outputs": [
    {
     "name": "stdout",
     "output_type": "stream",
     "text": [
      "4 5 1\n",
      "1 2\n",
      "1 3\n",
      "1 4 \n",
      "2 4\n",
      "3 4\n",
      "1 2 4 3 \n",
      "1 2 3 4 "
     ]
    }
   ],
   "source": [
    "from collections import deque\n",
    "n, m ,v = map(int, input().split())\n",
    "\n",
    "graph = [[False]*(n+1) for _ in range(n+1)]\n",
    "for _ in range(m):\n",
    "    a, b = map(int, input().split())\n",
    "    graph[a][b] = True\n",
    "    graph[b][a] = True\n",
    "    \n",
    "bfs_visit = [False] * (n+1)\n",
    "dfs_visit = [False] * (n+1)\n",
    "\n",
    "def bfs(v):\n",
    "    q = deque([v])\n",
    "    bfs_visit[v] = True\n",
    "    while q:\n",
    "        v = q.popleft()\n",
    "        print(v, end=\" \")\n",
    "        for i in range(1, n+1):\n",
    "            if (bfs_visit[i] == False and graph[v][i] == True):\n",
    "                q.append(i)\n",
    "                bfs_visit[i] = True\n",
    "                \n",
    "def dfs(v):\n",
    "    dfs_visit[v] = True\n",
    "    print(v, end=\" \")\n",
    "    for i in range(1, n+1):\n",
    "        if (dfs_visit[i] == False and graph[v][i] == True):\n",
    "            dfs(i)\n",
    "            \n",
    "dfs(v)       \n",
    "print()\n",
    "bfs(v)"
   ]
  }
 ],
 "metadata": {
  "kernelspec": {
   "display_name": "free",
   "language": "python",
   "name": "free"
  },
  "language_info": {
   "codemirror_mode": {
    "name": "ipython",
    "version": 3
   },
   "file_extension": ".py",
   "mimetype": "text/x-python",
   "name": "python",
   "nbconvert_exporter": "python",
   "pygments_lexer": "ipython3",
   "version": "3.8.13"
  }
 },
 "nbformat": 4,
 "nbformat_minor": 5
}
