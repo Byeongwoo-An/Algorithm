{
 "cells": [
  {
   "cell_type": "markdown",
   "id": "0f162f21",
   "metadata": {},
   "source": [
    "# queuestack\n",
    "https://www.acmicpc.net/problem/24511"
   ]
  },
  {
   "cell_type": "code",
   "execution_count": null,
   "id": "18eae360",
   "metadata": {},
   "outputs": [],
   "source": [
    "# 시간초과\n",
    "from collections import deque\n",
    "import sys\n",
    "\n",
    "# input = sys.stdin.readline\n",
    "n = int(input())\n",
    "a = list(map(int, input().split()))\n",
    "b = list(map(int, input().split()))\n",
    "m = int(input())\n",
    "c = list(map(int, input().split()))\n",
    "\n",
    "for i in c:\n",
    "    tmp = [i]\n",
    "    for j in range(n):\n",
    "        if a[j] == 0:\n",
    "            b.insert(j,tmp[-1])\n",
    "            tmp.append(b.pop(j+1))\n",
    "        else:\n",
    "            b.insert(j,tmp[-1])\n",
    "            tmp.append(b.pop(j))\n",
    "    \n",
    "    print(tmp[-1], end=\" \")"
   ]
  },
  {
   "cell_type": "code",
   "execution_count": 17,
   "id": "e3d82877",
   "metadata": {
    "ExecuteTime": {
     "end_time": "2023-09-14T07:32:36.265950Z",
     "start_time": "2023-09-14T07:32:29.423661Z"
    }
   },
   "outputs": [
    {
     "name": "stdout",
     "output_type": "stream",
     "text": [
      "4\n",
      "0 1 1 0\n",
      "1 2 3 4\n",
      "3\n",
      "2 4 7\n",
      "4 1 2 "
     ]
    }
   ],
   "source": [
    "# 스택은 넣었다 빼는 원소가 같으니 의미가 없음. 큐만 고려하여 구현.\n",
    "# 큐에 해당하는 원소들로 하나의 큐로 만듦.\n",
    "from collections import deque\n",
    "import sys\n",
    "\n",
    "# input = sys.stdin.readline\n",
    "n = int(input())\n",
    "a = list(map(int, input().split()))\n",
    "b = list(map(int, input().split()))\n",
    "m = int(input())\n",
    "c = list(map(int, input().split()))\n",
    "\n",
    "q = deque()\n",
    "for i in range(n):\n",
    "    if a[i] == 0:\n",
    "        q.appendleft(b[i])\n",
    "\n",
    "for j in range(m):\n",
    "    q.append(c[j])\n",
    "    print(q.popleft(), end=\" \")"
   ]
  }
 ],
 "metadata": {
  "kernelspec": {
   "display_name": "Python 3 (ipykernel)",
   "language": "python",
   "name": "python3"
  },
  "language_info": {
   "codemirror_mode": {
    "name": "ipython",
    "version": 3
   },
   "file_extension": ".py",
   "mimetype": "text/x-python",
   "name": "python",
   "nbconvert_exporter": "python",
   "pygments_lexer": "ipython3",
   "version": "3.8.13"
  }
 },
 "nbformat": 4,
 "nbformat_minor": 5
}
