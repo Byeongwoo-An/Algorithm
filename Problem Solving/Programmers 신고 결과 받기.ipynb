{
 "cells": [
  {
   "cell_type": "code",
   "execution_count": 1,
   "id": "fec2121e",
   "metadata": {},
   "outputs": [
    {
     "data": {
      "text/plain": [
       "[2, 1, 1, 0]"
      ]
     },
     "execution_count": 1,
     "metadata": {},
     "output_type": "execute_result"
    }
   ],
   "source": [
    "def solution(id_list, report, k):\n",
    "    report_cnt = {}\n",
    "    report_user = {}\n",
    "    answer = []\n",
    "    \n",
    "    for i in id_list:\n",
    "        report_cnt[i] = 0\n",
    "        report_user[i] = []\n",
    "        \n",
    "    for j in report:\n",
    "        split = j.split(\" \")\n",
    "        report_user[split[1]].append(split[0])\n",
    "\n",
    "    for z in report_user.keys():\n",
    "        if len(set(report_user[z])) >= k:\n",
    "            for y in set(report_user[z]):\n",
    "                report_cnt[y] += 1\n",
    "    \n",
    "    \n",
    "    return list(report_cnt.values())\n",
    "\n",
    "solution([\"muzi\", \"frodo\", \"apeach\", \"neo\"], [\"muzi frodo\",\"apeach frodo\",\"frodo neo\",\"muzi neo\",\"apeach muzi\"], 2)"
   ]
  }
 ],
 "metadata": {
  "kernelspec": {
   "display_name": "Python 3 (ipykernel)",
   "language": "python",
   "name": "python3"
  },
  "language_info": {
   "codemirror_mode": {
    "name": "ipython",
    "version": 3
   },
   "file_extension": ".py",
   "mimetype": "text/x-python",
   "name": "python",
   "nbconvert_exporter": "python",
   "pygments_lexer": "ipython3",
   "version": "3.9.7"
  }
 },
 "nbformat": 4,
 "nbformat_minor": 5
}
