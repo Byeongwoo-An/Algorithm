{
 "cells": [
  {
   "cell_type": "markdown",
   "id": "67001c3b",
   "metadata": {},
   "source": [
    "# 뉴스 클러스터링\n",
    "https://school.programmers.co.kr/learn/courses/30/lessons/17677#"
   ]
  },
  {
   "cell_type": "code",
   "execution_count": 1,
   "id": "375f1172",
   "metadata": {
    "ExecuteTime": {
     "end_time": "2023-09-24T08:59:55.037482Z",
     "start_time": "2023-09-24T08:59:55.018503Z"
    }
   },
   "outputs": [],
   "source": [
    "# 내 풀이"
   ]
  },
  {
   "cell_type": "code",
   "execution_count": 2,
   "id": "934f4714",
   "metadata": {
    "ExecuteTime": {
     "end_time": "2023-09-24T08:59:55.067472Z",
     "start_time": "2023-09-24T08:59:55.039478Z"
    }
   },
   "outputs": [
    {
     "data": {
      "text/plain": [
       "43690"
      ]
     },
     "execution_count": 2,
     "metadata": {},
     "output_type": "execute_result"
    }
   ],
   "source": [
    "import re\n",
    "from collections import Counter\n",
    "\n",
    "def solution(str1, str2):\n",
    "    \n",
    "    answer = 0\n",
    "    \n",
    "    str1 = str1.lower()\n",
    "    str2 = str2.lower()\n",
    "    \n",
    "    set1 = []\n",
    "    set2 = []\n",
    "    for i in range(0,len(str1)-1):\n",
    "        tmp1 = str1[i:i+2]\n",
    "        tmp1 = re.sub(\"[^a-z]\",\"\", tmp1)\n",
    "        if len(tmp1) == 2:\n",
    "            set1.append(tmp1)\n",
    "        else:\n",
    "            pass\n",
    "        \n",
    "    for i in range(0,len(str2)-1):\n",
    "        tmp2 = str2[i:i+2]\n",
    "        tmp2 = re.sub(\"[^a-z]\",\"\", tmp2)\n",
    "        if len(tmp2) == 2:\n",
    "            set2.append(tmp2)\n",
    "        else:\n",
    "            pass\n",
    "        \n",
    "    if (len(set1) == 0) and (len(set2) == 0):\n",
    "        answer = 65536\n",
    "    else:\n",
    "\n",
    "        cnt1 = Counter(set1)\n",
    "        cnt2 = Counter(set2)\n",
    "        \n",
    "        set_inter = set(cnt1.keys()) & set(cnt2.keys())\n",
    "        set_union = set(cnt1.keys()) | set(cnt2.keys())\n",
    "        set_diff = set_union - set_inter\n",
    "        \n",
    "        inter = 0\n",
    "        union = 0\n",
    "        if set_diff:\n",
    "            for i in set_diff:\n",
    "                union += max(cnt1[i], cnt2[i])\n",
    "    \n",
    "        for i in set_inter:  \n",
    "            union += max(cnt1[i], cnt2[i])\n",
    "            inter += min(cnt1[i], cnt2[i])\n",
    "        answer = int((inter/union) * 65536)\n",
    "            \n",
    "    return answer\n",
    "\n",
    "solution(\"aa1+aa2\",\"AAAA12\")"
   ]
  },
  {
   "cell_type": "code",
   "execution_count": 3,
   "id": "c7e3b100",
   "metadata": {
    "ExecuteTime": {
     "end_time": "2023-09-24T08:59:55.082668Z",
     "start_time": "2023-09-24T08:59:55.068469Z"
    }
   },
   "outputs": [],
   "source": [
    "# Ohters"
   ]
  },
  {
   "cell_type": "code",
   "execution_count": 4,
   "id": "78cad159",
   "metadata": {
    "ExecuteTime": {
     "end_time": "2023-09-24T08:59:55.097733Z",
     "start_time": "2023-09-24T08:59:55.084655Z"
    }
   },
   "outputs": [
    {
     "data": {
      "text/plain": [
       "43690"
      ]
     },
     "execution_count": 4,
     "metadata": {},
     "output_type": "execute_result"
    }
   ],
   "source": [
    "import re\n",
    "from collections import Counter\n",
    "\n",
    "def solution(str1, str2):\n",
    "    \n",
    "    answer = 0\n",
    "    \n",
    "    str1 = str1.lower()\n",
    "    str2 = str2.lower()\n",
    "    \n",
    "    set1 = []\n",
    "    set2 = []\n",
    "    for i in range(0,len(str1)-1):\n",
    "        tmp1 = str1[i:i+2]\n",
    "        tmp1 = re.sub(\"[^a-z]\",\"\", tmp1)\n",
    "        if len(tmp1) == 2:\n",
    "            set1.append(tmp1)\n",
    "        else:\n",
    "            pass\n",
    "        \n",
    "    for i in range(0,len(str2)-1):\n",
    "        tmp2 = str2[i:i+2]\n",
    "        tmp2 = re.sub(\"[^a-z]\",\"\", tmp2)\n",
    "        if len(tmp2) == 2:\n",
    "            set2.append(tmp2)\n",
    "        else:\n",
    "            pass\n",
    "        \n",
    "    if (len(set1) == 0) and (len(set2) == 0):\n",
    "        answer = 65536\n",
    "    else:\n",
    "\n",
    "        cnt1 = Counter(set1)\n",
    "        cnt2 = Counter(set2)\n",
    "        \n",
    "        inter = len(list((cnt1 & cnt2).elements()))\n",
    "        union = len(list((cnt1 | cnt2).elements()))\n",
    "\n",
    "        answer = int((inter/union) * 65536)\n",
    "            \n",
    "    return answer\n",
    "\n",
    "solution(\"aa1+aa2\",\"AAAA12\")"
   ]
  }
 ],
 "metadata": {
  "kernelspec": {
   "display_name": "free",
   "language": "python",
   "name": "free"
  },
  "language_info": {
   "codemirror_mode": {
    "name": "ipython",
    "version": 3
   },
   "file_extension": ".py",
   "mimetype": "text/x-python",
   "name": "python",
   "nbconvert_exporter": "python",
   "pygments_lexer": "ipython3",
   "version": "3.8.13"
  }
 },
 "nbformat": 4,
 "nbformat_minor": 5
}
