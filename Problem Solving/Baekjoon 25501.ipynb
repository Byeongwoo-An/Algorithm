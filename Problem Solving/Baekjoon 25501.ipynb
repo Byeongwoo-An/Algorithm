{
 "cells": [
  {
   "cell_type": "markdown",
   "id": "aa0fa797",
   "metadata": {},
   "source": [
    "# 재귀의 귀재\n",
    "https://www.acmicpc.net/problem/25501"
   ]
  },
  {
   "cell_type": "code",
   "execution_count": 7,
   "id": "4d9d12f4",
   "metadata": {
    "ExecuteTime": {
     "end_time": "2023-09-15T01:44:30.626167Z",
     "start_time": "2023-09-15T01:44:13.312100Z"
    }
   },
   "outputs": [
    {
     "name": "stdout",
     "output_type": "stream",
     "text": [
      "5\n",
      "AAA\n",
      "1 2\n",
      "ABBA\n",
      "1 3\n",
      "ABABA\n",
      "1 3\n",
      "ABCA\n",
      "0 2\n",
      "PALINDROME\n",
      "0 1\n"
     ]
    }
   ],
   "source": [
    "def recursion(s, l, r):\n",
    "    global cnt\n",
    "    cnt += 1\n",
    "    if l >= r: return 1\n",
    "    elif s[l] != s[r]: return 0\n",
    "    else:\n",
    "        return recursion(s, l+1, r-1)\n",
    "\n",
    "def isPalindrome(s):\n",
    "    return recursion(s, 0, len(s)-1)\n",
    "\n",
    "n = int(input())\n",
    "for _ in range(n):\n",
    "    cnt = 0\n",
    "    tmp = str(input())\n",
    "    print(isPalindrome(tmp), cnt)"
   ]
  }
 ],
 "metadata": {
  "kernelspec": {
   "display_name": "free",
   "language": "python",
   "name": "free"
  },
  "language_info": {
   "codemirror_mode": {
    "name": "ipython",
    "version": 3
   },
   "file_extension": ".py",
   "mimetype": "text/x-python",
   "name": "python",
   "nbconvert_exporter": "python",
   "pygments_lexer": "ipython3",
   "version": "3.8.13"
  }
 },
 "nbformat": 4,
 "nbformat_minor": 5
}
