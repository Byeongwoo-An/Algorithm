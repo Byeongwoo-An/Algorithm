{
 "cells": [
  {
   "cell_type": "markdown",
   "id": "78823d98",
   "metadata": {},
   "source": [
    "# 미로 탐색\n",
    "https://www.acmicpc.net/problem/2178"
   ]
  },
  {
   "cell_type": "code",
   "execution_count": 109,
   "id": "ef86d018",
   "metadata": {
    "ExecuteTime": {
     "end_time": "2023-09-04T05:30:37.983797Z",
     "start_time": "2023-09-04T05:30:23.379632Z"
    }
   },
   "outputs": [
    {
     "name": "stdout",
     "output_type": "stream",
     "text": [
      "4 6\n",
      "110110\n",
      "110110\n",
      "111111\n",
      "111101\n",
      "9\n"
     ]
    }
   ],
   "source": [
    "from collections import deque\n",
    "n, m = map(int, input().split())\n",
    "lst = []\n",
    "for _ in range(n):\n",
    "    lst.append(list(map(int, input())))\n",
    "\n",
    "dx = [-1, 1, 0, 0]\n",
    "dy = [0, 0, -1, 1]\n",
    "def bfs(x,y):\n",
    "    q = deque()\n",
    "    q.append((x,y))\n",
    "    while q:\n",
    "        x, y = q.popleft()\n",
    "        for i in range(4):\n",
    "            nx = x + dx[i]\n",
    "            ny = y + dy[i]\n",
    "            if nx < 0 or nx >= n or ny < 0 or ny >= m:\n",
    "                continue\n",
    "            if lst[nx][ny] == 1:\n",
    "                lst[nx][ny] = lst[x][y] + 1\n",
    "                q.append((nx,ny))\n",
    "    return lst[n-1][m-1]\n",
    "print(bfs(0,0))"
   ]
  }
 ],
 "metadata": {
  "kernelspec": {
   "display_name": "free",
   "language": "python",
   "name": "free"
  },
  "language_info": {
   "codemirror_mode": {
    "name": "ipython",
    "version": 3
   },
   "file_extension": ".py",
   "mimetype": "text/x-python",
   "name": "python",
   "nbconvert_exporter": "python",
   "pygments_lexer": "ipython3",
   "version": "3.8.13"
  }
 },
 "nbformat": 4,
 "nbformat_minor": 5
}
