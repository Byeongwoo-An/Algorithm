{
 "cells": [
  {
   "cell_type": "markdown",
   "id": "d5d4ea39",
   "metadata": {},
   "source": [
    "# 극장 좌석\n",
    "https://www.acmicpc.net/problem/2302"
   ]
  },
  {
   "cell_type": "code",
   "execution_count": 58,
   "id": "7afedb5e",
   "metadata": {
    "ExecuteTime": {
     "end_time": "2023-09-19T05:58:00.216132Z",
     "start_time": "2023-09-19T05:57:57.679305Z"
    }
   },
   "outputs": [
    {
     "name": "stdout",
     "output_type": "stream",
     "text": [
      "9\n",
      "2\n",
      "4\n",
      "7\n",
      "12\n"
     ]
    }
   ],
   "source": [
    "n = int(input())\n",
    "m = int(input())\n",
    "vip = []\n",
    "for _ in range(m):\n",
    "    vip.append(int(input()))\n",
    "\n",
    "# dp 초기화 할 때 n개가 아니라 최대의 수 혹은 100000 등으로 하기\n",
    "# n개로하면 1, 2번째 index가 없을 경우에 에러 발생함.\n",
    "d = [0]*41\n",
    "d[0] = 1\n",
    "d[1] = 1\n",
    "d[2] = 2\n",
    "for i in range(3,n+1):\n",
    "    d[i] = d[i-1] + d[i-2]\n",
    "\n",
    "result = 1\n",
    "if m > 0:\n",
    "    tmp = 0\n",
    "    for i in range(m):\n",
    "        result = result * d[vip[i]-1-tmp]\n",
    "        tmp = vip[i]\n",
    "    result = result * d[n-tmp]\n",
    "else:\n",
    "    result = d[n]\n",
    "\n",
    "print(result)"
   ]
  },
  {
   "cell_type": "raw",
   "id": "ad4a9529",
   "metadata": {},
   "source": []
  }
 ],
 "metadata": {
  "kernelspec": {
   "display_name": "Python 3 (ipykernel)",
   "language": "python",
   "name": "python3"
  },
  "language_info": {
   "codemirror_mode": {
    "name": "ipython",
    "version": 3
   },
   "file_extension": ".py",
   "mimetype": "text/x-python",
   "name": "python",
   "nbconvert_exporter": "python",
   "pygments_lexer": "ipython3",
   "version": "3.8.13"
  }
 },
 "nbformat": 4,
 "nbformat_minor": 5
}
