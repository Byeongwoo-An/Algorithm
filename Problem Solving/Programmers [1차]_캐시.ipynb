{
 "cells": [
  {
   "cell_type": "markdown",
   "id": "146d5209",
   "metadata": {},
   "source": [
    "# [1차] 캐시\n",
    "https://school.programmers.co.kr/learn/courses/30/lessons/17680"
   ]
  },
  {
   "cell_type": "code",
   "execution_count": 3,
   "id": "71537754",
   "metadata": {
    "ExecuteTime": {
     "end_time": "2023-09-22T05:10:12.430740Z",
     "start_time": "2023-09-22T05:10:12.410536Z"
    }
   },
   "outputs": [
    {
     "data": {
      "text/plain": [
       "50"
      ]
     },
     "execution_count": 3,
     "metadata": {},
     "output_type": "execute_result"
    }
   ],
   "source": [
    "def solution(cacheSize, cities):\n",
    "    time = 0\n",
    "    lower = []\n",
    "    for i in cities:\n",
    "        lower.append(i.lower())\n",
    "    \n",
    "    cache = []\n",
    "    for j in lower:\n",
    "        \n",
    "        if cacheSize > 0:\n",
    "            \n",
    "            if j in cache:\n",
    "                time += 1\n",
    "                cache.pop(cache.index(j))\n",
    "                cache.append(j)\n",
    "                \n",
    "            else:\n",
    "                time += 5\n",
    "                if len(cache) == cacheSize:\n",
    "                    cache.pop(0)\n",
    "                cache.append(j)\n",
    "                \n",
    "        else:\n",
    "            time += 5\n",
    "    return time\n",
    "solution(3,[\"Jeju\", \"Pangyo\", \"Seoul\", \"NewYork\", \"LA\", \"Jeju\", \"Pangyo\", \"Seoul\", \"NewYork\", \"LA\"])"
   ]
  }
 ],
 "metadata": {
  "kernelspec": {
   "display_name": "free",
   "language": "python",
   "name": "free"
  },
  "language_info": {
   "codemirror_mode": {
    "name": "ipython",
    "version": 3
   },
   "file_extension": ".py",
   "mimetype": "text/x-python",
   "name": "python",
   "nbconvert_exporter": "python",
   "pygments_lexer": "ipython3",
   "version": "3.8.13"
  }
 },
 "nbformat": 4,
 "nbformat_minor": 5
}
