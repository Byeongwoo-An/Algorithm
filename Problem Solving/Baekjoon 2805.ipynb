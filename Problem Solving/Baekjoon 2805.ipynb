{
 "cells": [
  {
   "cell_type": "markdown",
   "id": "b20b33d7",
   "metadata": {
    "ExecuteTime": {
     "end_time": "2023-08-11T04:38:11.457748Z",
     "start_time": "2023-08-11T04:38:11.443790Z"
    }
   },
   "source": [
    "# 2805 나무 자르기\n",
    "https://www.acmicpc.net/problem/2805"
   ]
  },
  {
   "cell_type": "code",
   "execution_count": null,
   "id": "5086bf14",
   "metadata": {},
   "outputs": [],
   "source": [
    "# 예시가 다 맞긴하나 채점 결과는 틀림\n",
    "n, m = map(int, input().split())\n",
    "tree = list(map(int, input().split()))\n",
    "\n",
    "bring = 0\n",
    "s = 0\n",
    "e = max(tree)\n",
    "\n",
    "while s <= e:\n",
    "    bring = 0\n",
    "    mid = (s + e) // 2\n",
    "    for i in tree:\n",
    "        if i < mid:\n",
    "            pass\n",
    "        else:\n",
    "            bring += i-mid\n",
    "            \n",
    "    if bring > m:\n",
    "        s = mid+1\n",
    "    # 최대한 덜 잘라야함(절단기의 높이가 최대여야함.) -> 조건을 만족하자마자 break하면 틀림\n",
    "    # 더 높은 절단기의 높이가 있을 수 있음.\n",
    "    elif bring == m:\n",
    "        break\n",
    "    else:\n",
    "        e = mid-1\n",
    "print(mid)"
   ]
  },
  {
   "cell_type": "code",
   "execution_count": 10,
   "id": "dd26f724",
   "metadata": {
    "ExecuteTime": {
     "end_time": "2023-08-11T05:13:44.285548Z",
     "start_time": "2023-08-11T05:13:40.362210Z"
    }
   },
   "outputs": [
    {
     "name": "stdout",
     "output_type": "stream",
     "text": [
      "4 7\n",
      "20 15 10 17\n",
      "15\n"
     ]
    }
   ],
   "source": [
    "# 수정\n",
    "n, m = map(int, input().split())\n",
    "tree = list(map(int, input().split()))\n",
    "\n",
    "bring = 0\n",
    "s = 0\n",
    "e = max(tree)\n",
    "\n",
    "while s <= e:\n",
    "    bring = 0\n",
    "    mid = (s + e) // 2\n",
    "    for i in tree:\n",
    "        if i>= mid:\n",
    "            bring += i-mid\n",
    "    if bring >= m:\n",
    "        s = mid+1\n",
    "    else:\n",
    "        e = mid-1\n",
    "# mid가 아니라 e(end)를 출력해야함.\n",
    "print(e)"
   ]
  }
 ],
 "metadata": {
  "kernelspec": {
   "display_name": "Python 3 (ipykernel)",
   "language": "python",
   "name": "python3"
  },
  "language_info": {
   "codemirror_mode": {
    "name": "ipython",
    "version": 3
   },
   "file_extension": ".py",
   "mimetype": "text/x-python",
   "name": "python",
   "nbconvert_exporter": "python",
   "pygments_lexer": "ipython3",
   "version": "3.8.13"
  }
 },
 "nbformat": 4,
 "nbformat_minor": 5
}
