{
 "cells": [
  {
   "cell_type": "code",
   "execution_count": 1,
   "id": "7f45cc1d",
   "metadata": {},
   "outputs": [
    {
     "data": {
      "text/plain": [
       "[0, 591]"
      ]
     },
     "execution_count": 1,
     "metadata": {},
     "output_type": "execute_result"
    }
   ],
   "source": [
    "import math\n",
    "def solution(fees, records):\n",
    "    parking = {}\n",
    "    total = {}\n",
    "    for i in records:\n",
    "        time, number, state = i.split(\" \")\n",
    "        minute = int(time[:2])*60 + int(time[-2:])\n",
    "        if state == \"IN\":\n",
    "            parking[number] = minute\n",
    "        elif state == \"OUT\":\n",
    "            try:\n",
    "                total[number] +=  minute - parking[number]\n",
    "            except:\n",
    "                total[number] =  minute - parking[number]\n",
    "            del parking[number]\n",
    "    for number, minute in parking.items():\n",
    "        try:\n",
    "            total[number] += 23*60+59 - minute\n",
    "        except:\n",
    "            total[number] = 23*60+59 - minute\n",
    "    \n",
    "    for i in total.keys():\n",
    "        if total[i] <= fees[0]:\n",
    "            total[i] = fees[1]\n",
    "        else:\n",
    "            total[i] = fees[1] + (math.ceil((total[i]-fees[0])/fees[2]))*fees[3]\n",
    "    answer = []\n",
    "    for i ,j in sorted(total.items(), key = lambda x:x[0]):\n",
    "        answer.append(j)\n",
    "    \n",
    "    return answer\n",
    "\n",
    "solution([120, 0, 60, 591], [\"16:00 3961 IN\",\"16:00 0202 IN\",\"18:00 3961 OUT\",\"18:00 0202 OUT\",\"23:58 3961 IN\"])"
   ]
  }
 ],
 "metadata": {
  "kernelspec": {
   "display_name": "Python 3 (ipykernel)",
   "language": "python",
   "name": "python3"
  },
  "language_info": {
   "codemirror_mode": {
    "name": "ipython",
    "version": 3
   },
   "file_extension": ".py",
   "mimetype": "text/x-python",
   "name": "python",
   "nbconvert_exporter": "python",
   "pygments_lexer": "ipython3",
   "version": "3.9.7"
  }
 },
 "nbformat": 4,
 "nbformat_minor": 5
}
