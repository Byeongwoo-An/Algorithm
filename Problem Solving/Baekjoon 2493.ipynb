{
 "cells": [
  {
   "cell_type": "markdown",
   "id": "2a624b27",
   "metadata": {},
   "source": [
    "# 탑\n",
    "https://www.acmicpc.net/problem/2493"
   ]
  },
  {
   "cell_type": "code",
   "execution_count": 48,
   "id": "bf70ef84",
   "metadata": {
    "ExecuteTime": {
     "end_time": "2023-10-15T09:54:57.153735Z",
     "start_time": "2023-10-15T09:54:54.426851Z"
    }
   },
   "outputs": [
    {
     "name": "stdout",
     "output_type": "stream",
     "text": [
      "5\n",
      "6 9 5 7 4\n",
      "0 0 2 2 4\n"
     ]
    }
   ],
   "source": [
    "n = int(input())\n",
    "top = list(map(int,input().split()))\n",
    "\n",
    "lst = [0]*n\n",
    "stack  = []\n",
    "for i in range(n):\n",
    "    while stack:\n",
    "        if top[stack[-1][0]] <top[i]:\n",
    "            stack.pop()\n",
    "        else:\n",
    "            lst[i] = stack[-1][0]+1\n",
    "            break\n",
    "    stack.append((i,top[i]))\n",
    "print(*lst)"
   ]
  }
 ],
 "metadata": {
  "kernelspec": {
   "display_name": "Python 3 (ipykernel)",
   "language": "python",
   "name": "python3"
  },
  "language_info": {
   "codemirror_mode": {
    "name": "ipython",
    "version": 3
   },
   "file_extension": ".py",
   "mimetype": "text/x-python",
   "name": "python",
   "nbconvert_exporter": "python",
   "pygments_lexer": "ipython3",
   "version": "3.7.13"
  }
 },
 "nbformat": 4,
 "nbformat_minor": 5
}
