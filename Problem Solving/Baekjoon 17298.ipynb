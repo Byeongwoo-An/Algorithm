{
 "cells": [
  {
   "cell_type": "markdown",
   "id": "92ad4811",
   "metadata": {
    "ExecuteTime": {
     "end_time": "2023-10-15T10:07:15.722183Z",
     "start_time": "2023-10-15T10:07:15.715202Z"
    }
   },
   "source": [
    "# 오큰수\n",
    "https://www.acmicpc.net/problem/17298"
   ]
  },
  {
   "cell_type": "code",
   "execution_count": 49,
   "id": "ccfb2100",
   "metadata": {
    "ExecuteTime": {
     "end_time": "2023-10-15T11:18:51.958755Z",
     "start_time": "2023-10-15T11:18:44.424029Z"
    }
   },
   "outputs": [
    {
     "name": "stdout",
     "output_type": "stream",
     "text": [
      "4\n",
      "3 5 2 7\n",
      "5 7 7 -1\n"
     ]
    }
   ],
   "source": [
    "n = int(input())\n",
    "number = list(map(int,input().split()))\n",
    "\n",
    "stack = []\n",
    "lst = [-1]*n\n",
    "for i in range(n-1,-1,-1):\n",
    "    while stack:\n",
    "        if stack[-1]<=number[i]:\n",
    "            stack.pop()\n",
    "        else:\n",
    "            lst[i] = stack[-1]\n",
    "            break\n",
    "    stack.append(number[i])\n",
    "print(*lst)"
   ]
  }
 ],
 "metadata": {
  "kernelspec": {
   "display_name": "Python 3 (ipykernel)",
   "language": "python",
   "name": "python3"
  },
  "language_info": {
   "codemirror_mode": {
    "name": "ipython",
    "version": 3
   },
   "file_extension": ".py",
   "mimetype": "text/x-python",
   "name": "python",
   "nbconvert_exporter": "python",
   "pygments_lexer": "ipython3",
   "version": "3.7.13"
  }
 },
 "nbformat": 4,
 "nbformat_minor": 5
}
