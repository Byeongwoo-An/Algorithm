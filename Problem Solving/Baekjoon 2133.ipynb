{
 "cells": [
  {
   "cell_type": "markdown",
   "id": "c9e4042f",
   "metadata": {},
   "source": [
    "# 타일 채우기\n",
    "https://www.acmicpc.net/problem/2133"
   ]
  },
  {
   "cell_type": "code",
   "execution_count": 43,
   "id": "7477e01e",
   "metadata": {
    "ExecuteTime": {
     "end_time": "2023-10-18T05:38:51.496025Z",
     "start_time": "2023-10-18T05:38:50.437359Z"
    }
   },
   "outputs": [
    {
     "name": "stdout",
     "output_type": "stream",
     "text": [
      "10\n",
      "571\n"
     ]
    }
   ],
   "source": [
    "n = int(input())\n",
    "dp = [0] * 31\n",
    "dp[2] = 3\n",
    "for i in range(4,n+1):\n",
    "    if i % 2 == 0:\n",
    "        dp[i] = dp[i-2]*3 + sum(dp[:i-2])*2 + 2\n",
    "    else:\n",
    "        dp[i] = 0\n",
    "print(dp[n])"
   ]
  }
 ],
 "metadata": {
  "kernelspec": {
   "display_name": "Python 3 (ipykernel)",
   "language": "python",
   "name": "python3"
  },
  "language_info": {
   "codemirror_mode": {
    "name": "ipython",
    "version": 3
   },
   "file_extension": ".py",
   "mimetype": "text/x-python",
   "name": "python",
   "nbconvert_exporter": "python",
   "pygments_lexer": "ipython3",
   "version": "3.7.13"
  }
 },
 "nbformat": 4,
 "nbformat_minor": 5
}
