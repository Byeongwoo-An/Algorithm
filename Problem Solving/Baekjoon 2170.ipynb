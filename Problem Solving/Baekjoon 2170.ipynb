{
 "cells": [
  {
   "cell_type": "markdown",
   "id": "b12a66af",
   "metadata": {},
   "source": [
    "# 선 긋기\n",
    "https://www.acmicpc.net/problem/2170"
   ]
  },
  {
   "cell_type": "code",
   "execution_count": 57,
   "id": "e53be4f2",
   "metadata": {
    "ExecuteTime": {
     "end_time": "2023-10-19T04:39:00.973982Z",
     "start_time": "2023-10-19T04:38:54.360924Z"
    }
   },
   "outputs": [
    {
     "name": "stdout",
     "output_type": "stream",
     "text": [
      "4\n",
      "1 3\n",
      "2 5\n",
      "3 5\n",
      "6 7\n",
      "5\n"
     ]
    }
   ],
   "source": [
    "n = int(input())\n",
    "line = [list(map(int, input().split())) for _ in range(n)]\n",
    "\n",
    "sort_line = sorted(line)\n",
    "s = sort_line[0][0]\n",
    "e = sort_line[0][1]\n",
    "ans = 0\n",
    "for i in sort_line:\n",
    "    if e > i[0]:\n",
    "        e = max(e, i[1])\n",
    "    else:\n",
    "        ans += e-s\n",
    "        s = i[0]\n",
    "        e = i[1]\n",
    "ans += e-s\n",
    "\n",
    "print(ans)"
   ]
  }
 ],
 "metadata": {
  "kernelspec": {
   "display_name": "Python 3 (ipykernel)",
   "language": "python",
   "name": "python3"
  },
  "language_info": {
   "codemirror_mode": {
    "name": "ipython",
    "version": 3
   },
   "file_extension": ".py",
   "mimetype": "text/x-python",
   "name": "python",
   "nbconvert_exporter": "python",
   "pygments_lexer": "ipython3",
   "version": "3.7.13"
  }
 },
 "nbformat": 4,
 "nbformat_minor": 5
}
