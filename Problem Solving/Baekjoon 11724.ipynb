{
 "cells": [
  {
   "cell_type": "markdown",
   "id": "9da65b8b",
   "metadata": {},
   "source": [
    "# 11724\n",
    "https://www.acmicpc.net/problem/11724"
   ]
  },
  {
   "cell_type": "code",
   "execution_count": 1,
   "id": "5775a938",
   "metadata": {
    "ExecuteTime": {
     "end_time": "2023-09-11T03:28:04.632262Z",
     "start_time": "2023-09-11T03:27:54.827223Z"
    }
   },
   "outputs": [
    {
     "name": "stdout",
     "output_type": "stream",
     "text": [
      "6 5\n",
      "1 2\n",
      "2 5\n",
      "5 1\n",
      "3 4\n",
      "4 6\n",
      "2\n"
     ]
    }
   ],
   "source": [
    "# 재귀 오류(sys.setrecursionlimit(10000))\n",
    "# 시간 초과(sys.stdin.readline)\n",
    "\n",
    "import sys\n",
    "sys.setrecursionlimit(10000)\n",
    "input = sys.stdin.readline\n",
    "\n",
    "n, m = map(int, input().split())\n",
    "graph = [[0]*(n+1) for _ in range(n+1)]\n",
    "for _ in range(m):\n",
    "    i, j = map(int, input().split())\n",
    "    graph[i][j] = 1\n",
    "    graph[j][i] = 1\n",
    "    \n",
    "visited = [0] * (n + 1)\n",
    "\n",
    "def dfs(v):\n",
    "    visited[v] = 1\n",
    "    for i in range(1, n+1):\n",
    "        if visited[i] == 0 and graph[v][i] == 1:\n",
    "            visited[i] = 1\n",
    "            dfs(i)\n",
    "            \n",
    "cnt = 0\n",
    "for i in range(1, n+1):\n",
    "    if visited[i] == 0:\n",
    "        dfs(i)\n",
    "        cnt += 1\n",
    "print(cnt)"
   ]
  }
 ],
 "metadata": {
  "kernelspec": {
   "display_name": "free",
   "language": "python",
   "name": "free"
  },
  "language_info": {
   "codemirror_mode": {
    "name": "ipython",
    "version": 3
   },
   "file_extension": ".py",
   "mimetype": "text/x-python",
   "name": "python",
   "nbconvert_exporter": "python",
   "pygments_lexer": "ipython3",
   "version": "3.8.13"
  }
 },
 "nbformat": 4,
 "nbformat_minor": 5
}
