{
 "cells": [
  {
   "cell_type": "markdown",
   "id": "7bb73f67",
   "metadata": {},
   "source": [
    "# 큐 2\n",
    "https://www.acmicpc.net/problem/18258"
   ]
  },
  {
   "cell_type": "code",
   "execution_count": 19,
   "id": "974d0c80",
   "metadata": {
    "ExecuteTime": {
     "end_time": "2023-09-13T03:53:45.616632Z",
     "start_time": "2023-09-13T03:53:08.720193Z"
    }
   },
   "outputs": [
    {
     "name": "stdout",
     "output_type": "stream",
     "text": [
      "15\n",
      "push 1\n",
      "push 2\n",
      "front\n",
      "1\n",
      "back\n",
      "2\n",
      "size\n",
      "2\n",
      "empty\n",
      "0\n",
      "pop\n",
      "1\n",
      "pop\n",
      "2\n",
      "pop\n",
      "-1\n",
      "size\n",
      "0\n",
      "empty\n",
      "1\n",
      "pop\n",
      "-1\n",
      "push 3\n",
      "empty\n",
      "0\n",
      "front\n",
      "3\n"
     ]
    }
   ],
   "source": [
    "from collections import deque\n",
    "import sys\n",
    "\n",
    "input = sys.stdin.readline\n",
    "n = int(input())\n",
    "q = deque()\n",
    "for _ in range(n):\n",
    "    command = input().split()\n",
    "    if command[0] == \"push\":\n",
    "        q.append(command[1])\n",
    "    elif command[0] == \"pop\":\n",
    "        if q:\n",
    "            print(q.popleft())\n",
    "        else:\n",
    "            print(-1)\n",
    "    elif command[0] == \"size\":\n",
    "        print(len(q))\n",
    "    elif command[0] == \"empty\":\n",
    "        if q:\n",
    "            print(0)\n",
    "        else:\n",
    "            print(1)\n",
    "    elif command[0] == \"front\":\n",
    "        if q:\n",
    "            print(q[0])\n",
    "        else:\n",
    "            print(-1)\n",
    "    elif command[0] == \"back\":\n",
    "        if q:\n",
    "            print(q[-1])\n",
    "        else:\n",
    "            print(-1)"
   ]
  }
 ],
 "metadata": {
  "kernelspec": {
   "display_name": "free",
   "language": "python",
   "name": "free"
  },
  "language_info": {
   "codemirror_mode": {
    "name": "ipython",
    "version": 3
   },
   "file_extension": ".py",
   "mimetype": "text/x-python",
   "name": "python",
   "nbconvert_exporter": "python",
   "pygments_lexer": "ipython3",
   "version": "3.8.13"
  }
 },
 "nbformat": 4,
 "nbformat_minor": 5
}
