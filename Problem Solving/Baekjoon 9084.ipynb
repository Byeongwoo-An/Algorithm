{
 "cells": [
  {
   "cell_type": "markdown",
   "id": "a291aa8e",
   "metadata": {},
   "source": [
    "# 동전\n",
    "https://www.acmicpc.net/problem/9084"
   ]
  },
  {
   "cell_type": "code",
   "execution_count": 34,
   "id": "ddaf5784",
   "metadata": {
    "ExecuteTime": {
     "end_time": "2023-10-18T07:56:04.496987Z",
     "start_time": "2023-10-18T07:55:37.373050Z"
    }
   },
   "outputs": [
    {
     "name": "stdout",
     "output_type": "stream",
     "text": [
      "3\n",
      "2\n",
      "1 2\n",
      "1000\n",
      "501\n",
      "3\n",
      "1 5 10\n",
      "100\n",
      "121\n",
      "2\n",
      "5 7\n",
      "22\n",
      "1\n"
     ]
    }
   ],
   "source": [
    "t = int(input())\n",
    "cnt = 0\n",
    "while cnt != t:\n",
    "    n = int(input())\n",
    "    coin = list(map(int,input().split()))\n",
    "    m = int(input())\n",
    "    dp = [0] *10001\n",
    "    dp[0] = 1\n",
    "    for i in coin:\n",
    "        for j in range(m+1):\n",
    "            if j>=i:\n",
    "                dp[j] += dp[j-i]\n",
    "    print(dp[m])\n",
    "    cnt += 1"
   ]
  }
 ],
 "metadata": {
  "kernelspec": {
   "display_name": "Python 3 (ipykernel)",
   "language": "python",
   "name": "python3"
  },
  "language_info": {
   "codemirror_mode": {
    "name": "ipython",
    "version": 3
   },
   "file_extension": ".py",
   "mimetype": "text/x-python",
   "name": "python",
   "nbconvert_exporter": "python",
   "pygments_lexer": "ipython3",
   "version": "3.7.13"
  }
 },
 "nbformat": 4,
 "nbformat_minor": 5
}
