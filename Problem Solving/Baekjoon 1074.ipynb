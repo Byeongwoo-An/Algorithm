{
 "cells": [
  {
   "cell_type": "markdown",
   "id": "0e4d3bd0",
   "metadata": {},
   "source": [
    "# Z\n",
    "https://www.acmicpc.net/problem/1074"
   ]
  },
  {
   "cell_type": "code",
   "execution_count": 3,
   "id": "f65df777",
   "metadata": {},
   "outputs": [
    {
     "name": "stdout",
     "output_type": "stream",
     "text": [
      "2 3 1\n",
      "11\n",
      "11\n",
      "11\n",
      "11\n",
      "11\n",
      "11\n",
      "11\n",
      "11\n",
      "11\n",
      "11\n",
      "11\n",
      "11\n",
      "11\n",
      "11\n",
      "11\n",
      "11\n",
      "11\n",
      "11\n",
      "11\n",
      "11\n",
      "11\n",
      "11\n",
      "11\n",
      "11\n",
      "11\n",
      "11\n",
      "11\n",
      "11\n",
      "11\n",
      "11\n",
      "11\n",
      "11\n",
      "11\n",
      "11\n",
      "11\n",
      "11\n",
      "11\n",
      "11\n",
      "11\n",
      "11\n",
      "11\n",
      "11\n",
      "11\n",
      "11\n",
      "11\n",
      "11\n",
      "11\n",
      "11\n",
      "11\n",
      "11\n",
      "11\n",
      "11\n",
      "11\n",
      "11\n"
     ]
    }
   ],
   "source": [
    "def visited(z, x, y):\n",
    "    global cnt\n",
    "\n",
    "    if x == r and y == c:\n",
    "        print(int(cnt))\n",
    "        exit(0)\n",
    "\n",
    "    # 탐색 증인 배열 중에 찾는 좌표가 없다면 좌표에 크기를 더한다.\n",
    "    if not (x <= r < x + z and y <= c < y + z):\n",
    "        cnt += z * z\n",
    "        return\n",
    "\n",
    "    # 1/2/3/4사분면을 재귀적으로 탐색\n",
    "    visited(z/2, x, y) # 1사분면\n",
    "    visited(z/2, x, y + z/2) # 2사분면\n",
    "    visited(z/2, x + z/2, y) # 3사분면\n",
    "    visited(z/2, x + z/2, y + z/2) # 4사분면\n",
    "\n",
    "\n",
    "n, r, c = map(int, input().split())\n",
    "cnt = 0\n",
    "\n",
    "# 2^n을 0, 0부터 탐색\n",
    "visited(2 ** n, 0, 0)"
   ]
  }
 ],
 "metadata": {
  "kernelspec": {
   "display_name": "Python 3 (ipykernel)",
   "language": "python",
   "name": "python3"
  },
  "language_info": {
   "codemirror_mode": {
    "name": "ipython",
    "version": 3
   },
   "file_extension": ".py",
   "mimetype": "text/x-python",
   "name": "python",
   "nbconvert_exporter": "python",
   "pygments_lexer": "ipython3",
   "version": "3.9.7"
  }
 },
 "nbformat": 4,
 "nbformat_minor": 5
}
