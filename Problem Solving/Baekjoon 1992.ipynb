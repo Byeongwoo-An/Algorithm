{
 "cells": [
  {
   "cell_type": "markdown",
   "id": "8dcdd943",
   "metadata": {},
   "source": [
    "# 쿼드트리\n",
    "https://www.acmicpc.net/problem/1992"
   ]
  },
  {
   "cell_type": "code",
   "execution_count": 6,
   "id": "06c2e1e4",
   "metadata": {},
   "outputs": [
    {
     "name": "stdout",
     "output_type": "stream",
     "text": [
      "8\n",
      "11110000\n",
      "11110000\n",
      "00011100\n",
      "00011100\n",
      "11110000\n",
      "11110000\n",
      "11110011\n",
      "11110011\n",
      "((110(0101))(0010)1(0001))"
     ]
    }
   ],
   "source": [
    "n = int(input())\n",
    "mtx = []\n",
    "for i in range(n):\n",
    "    mtx.append(list(map(int,input())))\n",
    "\n",
    "def quad(x,y,n):\n",
    "    for i in range(x, x+n):\n",
    "        for j in range(y, y+n):\n",
    "            if mtx[x][y] != mtx[i][j]:\n",
    "                print(\"(\", end=\"\")\n",
    "                quad(x,y,n//2)\n",
    "                quad(x,y+n//2, n//2)\n",
    "                quad(x+n//2,y, n//2)\n",
    "                quad(x+n//2, y+n//2, n//2)\n",
    "                print(\")\", end=\"\")\n",
    "                return\n",
    "            \n",
    "    if mtx[x][y] == 1:\n",
    "        print(1, end=\"\")\n",
    "    elif mtx[x][y] == 0:\n",
    "        print(0, end=\"\")\n",
    "        \n",
    "quad(0,0,n)"
   ]
  }
 ],
 "metadata": {
  "kernelspec": {
   "display_name": "Python 3 (ipykernel)",
   "language": "python",
   "name": "python3"
  },
  "language_info": {
   "codemirror_mode": {
    "name": "ipython",
    "version": 3
   },
   "file_extension": ".py",
   "mimetype": "text/x-python",
   "name": "python",
   "nbconvert_exporter": "python",
   "pygments_lexer": "ipython3",
   "version": "3.9.7"
  }
 },
 "nbformat": 4,
 "nbformat_minor": 5
}
