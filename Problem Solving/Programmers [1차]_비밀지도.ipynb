{
 "cells": [
  {
   "cell_type": "markdown",
   "id": "589a1c67",
   "metadata": {},
   "source": [
    "# [1차] 비밀지도\n",
    "https://school.programmers.co.kr/learn/courses/30/lessons/17681"
   ]
  },
  {
   "cell_type": "code",
   "execution_count": 25,
   "id": "8a7199fb",
   "metadata": {
    "ExecuteTime": {
     "end_time": "2023-09-21T13:25:22.356122Z",
     "start_time": "2023-09-21T13:25:22.332374Z"
    }
   },
   "outputs": [
    {
     "data": {
      "text/plain": [
       "['######', '###  #', '##  ##', ' #### ', ' #####', '### # ']"
      ]
     },
     "execution_count": 25,
     "metadata": {},
     "output_type": "execute_result"
    }
   ],
   "source": [
    "def make_mtx(n,arr):\n",
    "    mtx = [[0] for _ in range(n)]\n",
    "    for i in range(len(arr)):\n",
    "        bin = format(arr[i],'b')\n",
    "        if len(bin) != n:\n",
    "            bin = \"0\"*(n-len(bin)) + bin\n",
    "        mtx[i] = list(map(int,bin))\n",
    "    return mtx\n",
    "\n",
    "def solution(n, arr1, arr2):\n",
    "    secret_map = [[0]*n for _ in range(n)]\n",
    "    mtx1 = make_mtx(n, arr1)\n",
    "    mtx2 = make_mtx(n, arr2)\n",
    "    for i in range(n):\n",
    "        for j in range(n):\n",
    "            if mtx1[i][j]+mtx2[i][j] >= 1:\n",
    "                secret_map[i][j] = \"#\"\n",
    "            else:\n",
    "                secret_map[i][j] = \" \"\n",
    "    for i in range(n):\n",
    "        secret_map[i] = \"\".join(secret_map[i])\n",
    "        \n",
    "    return secret_map\n",
    "\n",
    "solution(6, [46, 33, 33, 22, 31, 50], [27, 56, 19, 14, 14, 10])"
   ]
  }
 ],
 "metadata": {
  "kernelspec": {
   "display_name": "free",
   "language": "python",
   "name": "free"
  },
  "language_info": {
   "codemirror_mode": {
    "name": "ipython",
    "version": 3
   },
   "file_extension": ".py",
   "mimetype": "text/x-python",
   "name": "python",
   "nbconvert_exporter": "python",
   "pygments_lexer": "ipython3",
   "version": "3.8.13"
  }
 },
 "nbformat": 4,
 "nbformat_minor": 5
}
