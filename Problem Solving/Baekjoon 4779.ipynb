{
 "cells": [
  {
   "cell_type": "markdown",
   "id": "0157a12c",
   "metadata": {},
   "source": [
    "# 칸토어 집합\n",
    "https://www.acmicpc.net/problem/4779"
   ]
  },
  {
   "cell_type": "code",
   "execution_count": null,
   "id": "f6959fca",
   "metadata": {
    "ExecuteTime": {
     "start_time": "2023-09-15T03:53:30.878Z"
    }
   },
   "outputs": [
    {
     "name": "stdout",
     "output_type": "stream",
     "text": [
      "0\n",
      "-\n",
      "1\n",
      "- -\n",
      "3\n",
      "- -   - -         - -   - -\n",
      "2\n",
      "- -   - -\n"
     ]
    }
   ],
   "source": [
    "def recursion(str_):\n",
    "    length = int(len(str_))\n",
    "    split = int(length//3)\n",
    "    if split == 0:\n",
    "        return str_\n",
    "    str_ = recursion(str_[:split]) +\" \"*split + recursion(str_[split*2:])\n",
    "    return str_\n",
    "\n",
    "while True:\n",
    "    try:\n",
    "        n = int(input())\n",
    "        tmp = \"-\"\n",
    "        length = 3**n\n",
    "        string = tmp*(length)\n",
    "        print(recursion(string))\n",
    "        \n",
    "    except EOFError:\n",
    "        break"
   ]
  },
  {
   "cell_type": "code",
   "execution_count": null,
   "id": "9ea2aed2",
   "metadata": {},
   "outputs": [],
   "source": []
  }
 ],
 "metadata": {
  "kernelspec": {
   "display_name": "Python 3 (ipykernel)",
   "language": "python",
   "name": "python3"
  },
  "language_info": {
   "codemirror_mode": {
    "name": "ipython",
    "version": 3
   },
   "file_extension": ".py",
   "mimetype": "text/x-python",
   "name": "python",
   "nbconvert_exporter": "python",
   "pygments_lexer": "ipython3",
   "version": "3.8.13"
  }
 },
 "nbformat": 4,
 "nbformat_minor": 5
}
