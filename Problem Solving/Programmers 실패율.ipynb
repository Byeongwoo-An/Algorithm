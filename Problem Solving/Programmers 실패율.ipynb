{
 "cells": [
  {
   "cell_type": "markdown",
   "id": "a242d1c0",
   "metadata": {},
   "source": [
    "# 실패율\n",
    "https://school.programmers.co.kr/learn/courses/30/lessons/42889#"
   ]
  },
  {
   "cell_type": "code",
   "execution_count": 2,
   "id": "a4429885",
   "metadata": {
    "ExecuteTime": {
     "end_time": "2023-09-23T11:56:02.713535Z",
     "start_time": "2023-09-23T11:56:02.689023Z"
    }
   },
   "outputs": [
    {
     "data": {
      "text/plain": [
       "[3, 4, 2, 1, 5]"
      ]
     },
     "execution_count": 2,
     "metadata": {},
     "output_type": "execute_result"
    }
   ],
   "source": [
    "def solution(N, stages):\n",
    "    \n",
    "    answer = {}\n",
    "    now = 1\n",
    "    \n",
    "    while now <= N:\n",
    "        \n",
    "        fail = 0\n",
    "        n = 0\n",
    "        \n",
    "        for i in stages:\n",
    "            if i > now-1 and now == i:\n",
    "                fail += 1\n",
    "                n += 1\n",
    "            elif i > now:\n",
    "                n += 1\n",
    "        \n",
    "        if n == 0:\n",
    "            answer[now] = 0\n",
    "        else:\n",
    "            rate = fail/n\n",
    "            answer[now] = rate\n",
    "        \n",
    "        now += 1\n",
    "        \n",
    "    \n",
    "    return sorted(answer, key=lambda x: answer[x], reverse=True)\n",
    "\n",
    "solution(5, [2, 1, 2, 6, 2, 4, 3, 3])"
   ]
  }
 ],
 "metadata": {
  "kernelspec": {
   "display_name": "free",
   "language": "python",
   "name": "free"
  },
  "language_info": {
   "codemirror_mode": {
    "name": "ipython",
    "version": 3
   },
   "file_extension": ".py",
   "mimetype": "text/x-python",
   "name": "python",
   "nbconvert_exporter": "python",
   "pygments_lexer": "ipython3",
   "version": "3.8.13"
  }
 },
 "nbformat": 4,
 "nbformat_minor": 5
}
