{
 "cells": [
  {
   "cell_type": "markdown",
   "id": "6fbff84f",
   "metadata": {},
   "source": [
    "# 반복수열\n",
    "https://www.acmicpc.net/problem/2331"
   ]
  },
  {
   "cell_type": "code",
   "execution_count": 211,
   "id": "21bbb86c",
   "metadata": {
    "ExecuteTime": {
     "end_time": "2023-09-06T05:19:58.919262Z",
     "start_time": "2023-09-06T05:19:54.903592Z"
    },
    "scrolled": true
   },
   "outputs": [
    {
     "name": "stdout",
     "output_type": "stream",
     "text": [
      "9999 5\n",
      "3\n"
     ]
    }
   ],
   "source": [
    "# IndexError 실수 주의할 것.\n",
    "a, p = map(int, input().split())\n",
    "visited = [0] * (((9**5)*4)+1)\n",
    "per = [a]\n",
    "\n",
    "def dfs(x):\n",
    "    visited[x] = 1\n",
    "    sum_ = 0\n",
    "    for i in range(len(str(x))):\n",
    "        sum_ += int(str(x)[i])**p\n",
    "    per.append(sum_)\n",
    "    if visited[sum_] == 0:\n",
    "        visited[sum_] = 1\n",
    "        dfs(sum_)\n",
    "    while visited[sum_] == 1:\n",
    "        break\n",
    "\n",
    "dfs(a)\n",
    "print(len(per[:per.index(per[-1])]))"
   ]
  }
 ],
 "metadata": {
  "kernelspec": {
   "display_name": "free",
   "language": "python",
   "name": "free"
  },
  "language_info": {
   "codemirror_mode": {
    "name": "ipython",
    "version": 3
   },
   "file_extension": ".py",
   "mimetype": "text/x-python",
   "name": "python",
   "nbconvert_exporter": "python",
   "pygments_lexer": "ipython3",
   "version": "3.8.13"
  }
 },
 "nbformat": 4,
 "nbformat_minor": 5
}
