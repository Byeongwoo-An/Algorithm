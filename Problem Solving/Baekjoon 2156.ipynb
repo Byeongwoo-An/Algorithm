{
 "cells": [
  {
   "cell_type": "markdown",
   "id": "d248d17e",
   "metadata": {},
   "source": [
    "# 포도주 시식\n",
    "https://www.acmicpc.net/problem/2156"
   ]
  },
  {
   "cell_type": "code",
   "execution_count": 11,
   "id": "ac1455f7",
   "metadata": {
    "ExecuteTime": {
     "end_time": "2023-09-18T03:06:41.749501Z",
     "start_time": "2023-09-18T03:06:35.307255Z"
    }
   },
   "outputs": [
    {
     "name": "stdout",
     "output_type": "stream",
     "text": [
      "6\n",
      "6\n",
      "10\n",
      "13\n",
      "9\n",
      "8\n",
      "1\n",
      "33\n"
     ]
    }
   ],
   "source": [
    "n = int(input())\n",
    "grape = [0]*10001\n",
    "\n",
    "\"\"\"\n",
    "grape = [0]*(n+1) 안됨\n",
    " n = 1일 경우 index error 발생\n",
    "\"\"\"\n",
    "\n",
    "for i in range(1,n+1):\n",
    "    grape[i] = int(input())\n",
    "    \n",
    "d = [0]*10001\n",
    "d[1] = grape[1]\n",
    "d[2] = grape[1] + grape[2]\n",
    "d[3] = max(grape[1] + grape[3], grape[2] + grape[3], d[2])\n",
    "\n",
    "for i in range(4,n+1):\n",
    "    d[i] = max(grape[i]+d[i-2], grape[i]+grape[i-1]+d[i-3], d[i-1])\n",
    "    \n",
    "print(max(d))"
   ]
  }
 ],
 "metadata": {
  "kernelspec": {
   "display_name": "Python 3 (ipykernel)",
   "language": "python",
   "name": "python3"
  },
  "language_info": {
   "codemirror_mode": {
    "name": "ipython",
    "version": 3
   },
   "file_extension": ".py",
   "mimetype": "text/x-python",
   "name": "python",
   "nbconvert_exporter": "python",
   "pygments_lexer": "ipython3",
   "version": "3.8.13"
  }
 },
 "nbformat": 4,
 "nbformat_minor": 5
}
