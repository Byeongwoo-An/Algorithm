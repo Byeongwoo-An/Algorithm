{
 "cells": [
  {
   "cell_type": "markdown",
   "id": "13209f62",
   "metadata": {},
   "source": [
    "# 주식\n",
    "https://www.acmicpc.net/problem/11501"
   ]
  },
  {
   "cell_type": "code",
   "execution_count": 36,
   "id": "7ff0a5bd",
   "metadata": {
    "ExecuteTime": {
     "end_time": "2023-10-19T07:34:13.941769Z",
     "start_time": "2023-10-19T07:34:02.402205Z"
    }
   },
   "outputs": [
    {
     "name": "stdout",
     "output_type": "stream",
     "text": [
      "3\n",
      "3\n",
      "10 7 6\n",
      "0\n",
      "3\n",
      "3 5 9\n",
      "10\n",
      "5\n",
      "1 1 3 1 2\n",
      "5\n"
     ]
    }
   ],
   "source": [
    "t = int(input())\n",
    "aa = 0\n",
    "while aa != t :\n",
    "    n = int(input())\n",
    "    stock = list(map(int, input().split()))\n",
    "    max_value = 0\n",
    "    money = 0\n",
    "    for i in range(n-1,-1,-1):\n",
    "        if stock[i] > max_value:\n",
    "            max_value = stock[i]\n",
    "        else:\n",
    "            money += max_value - stock[i]\n",
    "    print(money)\n",
    "    aa += 1"
   ]
  }
 ],
 "metadata": {
  "kernelspec": {
   "display_name": "Python 3 (ipykernel)",
   "language": "python",
   "name": "python3"
  },
  "language_info": {
   "codemirror_mode": {
    "name": "ipython",
    "version": 3
   },
   "file_extension": ".py",
   "mimetype": "text/x-python",
   "name": "python",
   "nbconvert_exporter": "python",
   "pygments_lexer": "ipython3",
   "version": "3.7.13"
  }
 },
 "nbformat": 4,
 "nbformat_minor": 5
}
