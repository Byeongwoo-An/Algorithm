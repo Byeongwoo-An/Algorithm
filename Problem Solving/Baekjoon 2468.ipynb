{
 "cells": [
  {
   "cell_type": "markdown",
   "id": "e326e4ad",
   "metadata": {},
   "source": [
    "# 안전 영역\n",
    "https://www.acmicpc.net/problem/2468"
   ]
  },
  {
   "cell_type": "markdown",
   "id": "dcab5591",
   "metadata": {},
   "source": [
    "# BFS"
   ]
  },
  {
   "cell_type": "code",
   "execution_count": 89,
   "id": "af1b572c",
   "metadata": {
    "ExecuteTime": {
     "end_time": "2023-09-08T11:28:16.354902Z",
     "start_time": "2023-09-08T11:28:00.477766Z"
    }
   },
   "outputs": [
    {
     "name": "stdout",
     "output_type": "stream",
     "text": [
      "5\n",
      "6 8 2 6 2\n",
      "3 2 3 4 6\n",
      "6 7 3 3 2\n",
      "7 2 5 3 6\n",
      "8 9 5 2 7\n",
      "5\n"
     ]
    }
   ],
   "source": [
    "from collections import deque\n",
    "\n",
    "n = int(input())\n",
    "mtx = []\n",
    "for _ in range(n):\n",
    "    mtx.append(list(map(int, input().split())))\n",
    "    \n",
    "hs = 0\n",
    "for i in range(n):\n",
    "    for j in range(n):\n",
    "        if mtx[i][j] > hs:\n",
    "            hs = mtx[i][j]\n",
    "\n",
    "dx = [0,0,-1,1]\n",
    "dy = [-1,1,0,0]\n",
    "\n",
    "q = deque()\n",
    "def bfs(x, y, h):\n",
    "    q.append((x,y))\n",
    "    visited[x][y] = 1\n",
    "    \n",
    "    while q:\n",
    "        x, y = q.popleft()\n",
    "        \n",
    "        for i in range(4):\n",
    "            nx = x + dx[i]\n",
    "            ny = y + dy[i]\n",
    "            \n",
    "            if nx < 0 or nx >= n or ny < 0 or ny >= n:\n",
    "                continue\n",
    "            \n",
    "            if mtx[nx][ny] > h and visited[nx][ny] == 0:\n",
    "                visited[nx][ny] = 1\n",
    "                q.append((nx,ny))\n",
    "                \n",
    "safe_lst = []\n",
    "\n",
    "for k in range(hs):\n",
    "    visited = [[0]*n for _ in range(n)]\n",
    "    safe = 0\n",
    "    for i in range(n):\n",
    "        for j in range(n):\n",
    "            if mtx[i][j] > k and visited[i][j] == 0:\n",
    "                bfs(i,j,k)\n",
    "                safe += 1\n",
    "    safe_lst.append(safe)\n",
    "print(max(safe_lst)) "
   ]
  },
  {
   "cell_type": "markdown",
   "id": "322097f2",
   "metadata": {},
   "source": [
    "# DFS"
   ]
  },
  {
   "cell_type": "code",
   "execution_count": 145,
   "id": "ac588b2c",
   "metadata": {
    "ExecuteTime": {
     "end_time": "2023-09-08T11:56:40.843900Z",
     "start_time": "2023-09-08T11:56:40.826875Z"
    }
   },
   "outputs": [],
   "source": [
    "import sys\n",
    "sys.setrecursionlimit(100000)\n",
    "\n",
    "n = int(input())\n",
    "mtx = []\n",
    "for _ in range(n):\n",
    "    mtx.append(list(map(int, input().split())))\n",
    "\n",
    "hs = 0\n",
    "for i in range(n):\n",
    "    for j in range(n):\n",
    "        if mtx[i][j] > hs:\n",
    "            hs = mtx[i][j]\n",
    "dx = [0,0,-1,1]\n",
    "dy = [-1,1,0,0]\n",
    "\n",
    "def dfs(x,y,h):\n",
    "    \n",
    "    visited[x][y] = 1\n",
    "    for i in range(4):\n",
    "        nx = x + dx[i]\n",
    "        ny = y + dy[i]\n",
    "        if (0 <= nx < n) and (0 <= ny < n) and mtx[nx][ny] > h and visited[nx][ny] == 0:\n",
    "            dfs(nx, ny, h)\n",
    "\n",
    "          \n",
    "safe_lst = []\n",
    "for i in range(hs):\n",
    "    visited = [[0]*n for _ in range(n)]\n",
    "    safe = 0\n",
    "    for j in range(n):\n",
    "        for k in range(n):\n",
    "            if mtx[j][k]>i and visited[j][k] == 0:\n",
    "                dfs(j,k,i)\n",
    "                safe += 1\n",
    "    safe_lst.append(safe)\n",
    "print(max(safe_lst))"
   ]
  }
 ],
 "metadata": {
  "kernelspec": {
   "display_name": "free",
   "language": "python",
   "name": "free"
  },
  "language_info": {
   "codemirror_mode": {
    "name": "ipython",
    "version": 3
   },
   "file_extension": ".py",
   "mimetype": "text/x-python",
   "name": "python",
   "nbconvert_exporter": "python",
   "pygments_lexer": "ipython3",
   "version": "3.8.13"
  }
 },
 "nbformat": 4,
 "nbformat_minor": 5
}
