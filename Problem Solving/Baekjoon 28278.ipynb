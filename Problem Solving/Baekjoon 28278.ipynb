{
 "cells": [
  {
   "cell_type": "markdown",
   "id": "c21a4182",
   "metadata": {},
   "source": [
    "# 스택 2\n",
    "https://www.acmicpc.net/problem/28278"
   ]
  },
  {
   "cell_type": "code",
   "execution_count": 63,
   "id": "674d31c1",
   "metadata": {
    "ExecuteTime": {
     "end_time": "2023-09-12T03:33:37.518286Z",
     "start_time": "2023-09-12T03:33:14.160891Z"
    }
   },
   "outputs": [
    {
     "name": "stdout",
     "output_type": "stream",
     "text": [
      "9\n",
      "4\n",
      "1\n",
      "1 3\n",
      "1 5\n",
      "3\n",
      "2\n",
      "2\n",
      "5\n",
      "5\n",
      "3\n",
      "2\n",
      "3\n",
      "2\n",
      "-1\n",
      "5\n",
      "-1\n"
     ]
    }
   ],
   "source": [
    "import sys\n",
    "input = sys.stdin.readline\n",
    "n = int(input())\n",
    "lst = []\n",
    "\n",
    "for _ in range(n):\n",
    "    tmp = list(map(int, input().split()))\n",
    "\n",
    "    if tmp[0] == 1:\n",
    "        lst.append(tmp[1])\n",
    "    elif tmp[0] == 2:\n",
    "        if lst:\n",
    "            print(lst.pop())\n",
    "        else:\n",
    "            print(-1)\n",
    "    elif tmp[0] == 3:\n",
    "        print(len(lst))\n",
    "    elif tmp[0] == 4:\n",
    "        if lst:\n",
    "            print(0)\n",
    "        else:\n",
    "            print(1)\n",
    "    elif tmp[0] == 5:\n",
    "        if lst:\n",
    "            print(lst[-1])\n",
    "        else:\n",
    "            print(-1)"
   ]
  },
  {
   "cell_type": "code",
   "execution_count": 71,
   "id": "b04d186d",
   "metadata": {
    "ExecuteTime": {
     "end_time": "2023-09-12T03:36:49.078402Z",
     "start_time": "2023-09-12T03:36:49.064402Z"
    }
   },
   "outputs": [
    {
     "name": "stdout",
     "output_type": "stream",
     "text": [
      "Empty\n",
      "Not empty\n"
     ]
    }
   ],
   "source": [
    "# list가 비어있는지 아닌지 확인\n",
    "example1 = []\n",
    "example2 = [1]\n",
    "if not example1:\n",
    "    print(\"Empty\")\n",
    "if example2:\n",
    "    print(\"Not empty\")"
   ]
  }
 ],
 "metadata": {
  "kernelspec": {
   "display_name": "free",
   "language": "python",
   "name": "free"
  },
  "language_info": {
   "codemirror_mode": {
    "name": "ipython",
    "version": 3
   },
   "file_extension": ".py",
   "mimetype": "text/x-python",
   "name": "python",
   "nbconvert_exporter": "python",
   "pygments_lexer": "ipython3",
   "version": "3.8.13"
  }
 },
 "nbformat": 4,
 "nbformat_minor": 5
}
