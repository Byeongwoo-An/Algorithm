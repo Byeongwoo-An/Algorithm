{
 "cells": [
  {
   "cell_type": "code",
   "execution_count": 1,
   "id": "790ea7d9",
   "metadata": {},
   "outputs": [
    {
     "data": {
      "text/plain": [
       "2"
      ]
     },
     "execution_count": 1,
     "metadata": {},
     "output_type": "execute_result"
    }
   ],
   "source": [
    "from itertools import permutations\n",
    "def check(user,ban):\n",
    "    for i in range(len(ban)):\n",
    "        if len(user[i]) != len(ban[i]):\n",
    "            return False\n",
    "        \n",
    "        for j in range(len(user[i])):\n",
    "            if ban[i][j] == \"*\":\n",
    "                continue\n",
    "            elif ban[i][j] != user[i][j]:\n",
    "                return False\n",
    "    return True\n",
    "            \n",
    "\n",
    "def solution(user_id, banned_id):\n",
    "    user_permutation = list(permutations(user_id, len(banned_id)))\n",
    "    cnt = []\n",
    "    for users in user_permutation:\n",
    "        if check(users, banned_id):\n",
    "            if sorted(users) not in cnt:\n",
    "                cnt.append(sorted(users))\n",
    "                \n",
    "    return len(cnt)\n",
    "solution([\"frodo\", \"fradi\", \"crodo\", \"abc123\", \"frodoc\"], [\"fr*d*\", \"abc1**\"])"
   ]
  }
 ],
 "metadata": {
  "kernelspec": {
   "display_name": "Python 3 (ipykernel)",
   "language": "python",
   "name": "python3"
  },
  "language_info": {
   "codemirror_mode": {
    "name": "ipython",
    "version": 3
   },
   "file_extension": ".py",
   "mimetype": "text/x-python",
   "name": "python",
   "nbconvert_exporter": "python",
   "pygments_lexer": "ipython3",
   "version": "3.9.7"
  }
 },
 "nbformat": 4,
 "nbformat_minor": 5
}
