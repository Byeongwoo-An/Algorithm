{
 "cells": [
  {
   "cell_type": "markdown",
   "id": "a12ab8b5",
   "metadata": {},
   "source": [
    "# 11399 ATM\n",
    "https://www.acmicpc.net/problem/11399"
   ]
  },
  {
   "cell_type": "code",
   "execution_count": 67,
   "id": "4b86c407",
   "metadata": {
    "ExecuteTime": {
     "end_time": "2023-08-01T05:51:09.757404Z",
     "start_time": "2023-08-01T05:51:05.212183Z"
    }
   },
   "outputs": [
    {
     "name": "stdout",
     "output_type": "stream",
     "text": [
      "5\n",
      "3 1 4 3 2\n",
      "32\n"
     ]
    }
   ],
   "source": [
    "# my solution\n",
    "\n",
    "n = int(input())\n",
    "p = list(map(int, input().split()))\n",
    "\n",
    "sort_p = sorted(p)\n",
    "time = [0]*(n)\n",
    "time[0] = sort_p[0]\n",
    "for i in range(1,n):\n",
    "    time[i] = time[i-1] + sort_p[i]\n",
    "print(sum(time))"
   ]
  },
  {
   "cell_type": "code",
   "execution_count": 68,
   "id": "aa64963c",
   "metadata": {
    "ExecuteTime": {
     "end_time": "2023-08-01T05:51:10.533116Z",
     "start_time": "2023-08-01T05:51:10.518972Z"
    }
   },
   "outputs": [
    {
     "name": "stdout",
     "output_type": "stream",
     "text": [
      "32\n"
     ]
    }
   ],
   "source": [
    "# other solution\n",
    "\n",
    "time = 0\n",
    "for i in range(1, n+1):\n",
    "    time += sum(sort_p[0:i])\n",
    "print(time)"
   ]
  },
  {
   "cell_type": "code",
   "execution_count": 69,
   "id": "717e5678",
   "metadata": {
    "ExecuteTime": {
     "end_time": "2023-08-01T05:51:10.845708Z",
     "start_time": "2023-08-01T05:51:10.837831Z"
    }
   },
   "outputs": [
    {
     "name": "stdout",
     "output_type": "stream",
     "text": [
      "32\n"
     ]
    }
   ],
   "source": [
    "for i in range(1, n):\n",
    "    sort_p[i] += sort_p[i-1]\n",
    "print(sum(sort_p))"
   ]
  }
 ],
 "metadata": {
  "kernelspec": {
   "display_name": "free",
   "language": "python",
   "name": "free"
  },
  "language_info": {
   "codemirror_mode": {
    "name": "ipython",
    "version": 3
   },
   "file_extension": ".py",
   "mimetype": "text/x-python",
   "name": "python",
   "nbconvert_exporter": "python",
   "pygments_lexer": "ipython3",
   "version": "3.8.13"
  }
 },
 "nbformat": 4,
 "nbformat_minor": 5
}
