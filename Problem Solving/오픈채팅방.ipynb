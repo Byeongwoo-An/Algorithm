{
 "cells": [
  {
   "cell_type": "code",
   "execution_count": 1,
   "id": "e0a4e850",
   "metadata": {},
   "outputs": [
    {
     "data": {
      "text/plain": [
       "['Prodo님이 들어왔습니다.', 'Ryan님이 들어왔습니다.', 'Prodo님이 나갔습니다.', 'Prodo님이 들어왔습니다.']"
      ]
     },
     "execution_count": 1,
     "metadata": {},
     "output_type": "execute_result"
    }
   ],
   "source": [
    "def solution(record):\n",
    "    lst = []\n",
    "    id_nick = {}\n",
    "    chat_lst = []\n",
    "    chat_dic = {\"Enter\":\"님이 들어왔습니다.\",\"Leave\": \"님이 나갔습니다.\"}\n",
    "    for i in record:\n",
    "        string = i.split(\" \")\n",
    "        chat_lst.append(list(string))\n",
    "        if string[0] == \"Enter\":\n",
    "            id_nick[string[1]] = string[2]\n",
    "        elif string[0] == \"Leave\":\n",
    "            pass\n",
    "        elif string[0] == \"Change\":\n",
    "            id_nick[string[1]] = string[2]       \n",
    "            \n",
    "    answer = []\n",
    "    for j in chat_lst:\n",
    "        if j[0] == \"Enter\":\n",
    "            answer.append(\"{}님이 들어왔습니다.\".format(id_nick[j[1]]))\n",
    "        elif j[0] == \"Leave\":\n",
    "            answer.append(\"{}님이 나갔습니다.\".format(id_nick[j[1]]))\n",
    "    return answer\n",
    "\n",
    "solution([\"Enter uid1234 Muzi\", \"Enter uid4567 Prodo\",\"Leave uid1234\",\"Enter uid1234 Prodo\",\"Change uid4567 Ryan\"])"
   ]
  }
 ],
 "metadata": {
  "kernelspec": {
   "display_name": "Python 3 (ipykernel)",
   "language": "python",
   "name": "python3"
  },
  "language_info": {
   "codemirror_mode": {
    "name": "ipython",
    "version": 3
   },
   "file_extension": ".py",
   "mimetype": "text/x-python",
   "name": "python",
   "nbconvert_exporter": "python",
   "pygments_lexer": "ipython3",
   "version": "3.9.7"
  }
 },
 "nbformat": 4,
 "nbformat_minor": 5
}
