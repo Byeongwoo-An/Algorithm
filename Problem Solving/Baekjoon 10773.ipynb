{
 "cells": [
  {
   "cell_type": "markdown",
   "id": "fd090688",
   "metadata": {},
   "source": [
    "# 제로\n",
    "https://www.acmicpc.net/problem/10773"
   ]
  },
  {
   "cell_type": "code",
   "execution_count": 9,
   "id": "61263846",
   "metadata": {
    "ExecuteTime": {
     "end_time": "2023-09-12T07:47:00.612269Z",
     "start_time": "2023-09-12T07:46:51.002546Z"
    }
   },
   "outputs": [
    {
     "name": "stdout",
     "output_type": "stream",
     "text": [
      "10\n",
      "1\n",
      "3\n",
      "5\n",
      "4\n",
      "0\n",
      "0\n",
      "7\n",
      "0\n",
      "0\n",
      "6\n",
      "7\n"
     ]
    }
   ],
   "source": [
    "import sys\n",
    "input = sys.stdin.readline\n",
    "\n",
    "k = int(input())\n",
    "total = []\n",
    "for _ in range(k):\n",
    "    tmp = int(input())\n",
    "    if tmp == 0:\n",
    "        total.pop()\n",
    "    else:\n",
    "        total.append(tmp)\n",
    "print(sum(total))"
   ]
  }
 ],
 "metadata": {
  "kernelspec": {
   "display_name": "free",
   "language": "python",
   "name": "free"
  },
  "language_info": {
   "codemirror_mode": {
    "name": "ipython",
    "version": 3
   },
   "file_extension": ".py",
   "mimetype": "text/x-python",
   "name": "python",
   "nbconvert_exporter": "python",
   "pygments_lexer": "ipython3",
   "version": "3.8.13"
  }
 },
 "nbformat": 4,
 "nbformat_minor": 5
}
