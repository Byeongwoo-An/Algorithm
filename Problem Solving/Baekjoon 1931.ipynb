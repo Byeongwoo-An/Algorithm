{
 "cells": [
  {
   "cell_type": "markdown",
   "id": "4644544c",
   "metadata": {},
   "source": [
    "# 1931 회의실 배정"
   ]
  },
  {
   "cell_type": "markdown",
   "id": "79858a67",
   "metadata": {},
   "source": [
    "https://www.acmicpc.net/problem/1931"
   ]
  },
  {
   "cell_type": "code",
   "execution_count": 19,
   "id": "11cf4656",
   "metadata": {
    "ExecuteTime": {
     "end_time": "2023-07-31T06:21:16.066801Z",
     "start_time": "2023-07-31T06:20:49.690661Z"
    }
   },
   "outputs": [
    {
     "name": "stdout",
     "output_type": "stream",
     "text": [
      "11\n",
      "1 4\n",
      "3 5\n",
      "0 6\n",
      "5 7\n",
      "3 8\n",
      "5 9\n",
      "6 10\n",
      "8 11\n",
      "8 12\n",
      "2 13\n",
      "12 14\n",
      "4\n"
     ]
    }
   ],
   "source": [
    "n = int(input())\n",
    "time = []\n",
    "for _ in range(n):\n",
    "    s, e = map(int, input().split())\n",
    "    time.append([s,e])\n",
    "\n",
    "    \n",
    "# 끝나는 시간이 같을 경우 시작 시간이 더 빠른 것 선택\n",
    "# 왜냐하면 \"회의의 시작시간과 끝나는 시간이 같을 수도 있다.\"\n",
    "# ex) [1,4], [4, 4] -> 회의 2번으로 카운트\n",
    "# [4,4], [1, 4] -> 회의 1번으로 카운트\n",
    "time = sorted(time, key=lambda x: (x[1], x[0]))\n",
    "\n",
    "cnt = 1\n",
    "end_time = time[0][1]\n",
    "for i in range(1,n):\n",
    "    if time[i][0] >= end_time:\n",
    "        cnt += 1\n",
    "        end_time = time[i][1]\n",
    "print(cnt)"
   ]
  }
 ],
 "metadata": {
  "kernelspec": {
   "display_name": "free",
   "language": "python",
   "name": "free"
  },
  "language_info": {
   "codemirror_mode": {
    "name": "ipython",
    "version": 3
   },
   "file_extension": ".py",
   "mimetype": "text/x-python",
   "name": "python",
   "nbconvert_exporter": "python",
   "pygments_lexer": "ipython3",
   "version": "3.8.13"
  }
 },
 "nbformat": 4,
 "nbformat_minor": 5
}
