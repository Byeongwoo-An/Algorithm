{
 "cells": [
  {
   "cell_type": "markdown",
   "id": "e2d1ee81",
   "metadata": {},
   "source": [
    "# 퇴사 2\n",
    "https://www.acmicpc.net/problem/15486"
   ]
  },
  {
   "cell_type": "code",
   "execution_count": 76,
   "id": "a408e3da",
   "metadata": {
    "ExecuteTime": {
     "end_time": "2023-10-18T04:22:31.961240Z",
     "start_time": "2023-10-18T04:22:22.873065Z"
    }
   },
   "outputs": [
    {
     "name": "stdout",
     "output_type": "stream",
     "text": [
      "7\n",
      "3 10\n",
      "5 20\n",
      "1 10\n",
      "1 20\n",
      "2 15\n",
      "4 40\n",
      "2 200\n",
      "45\n"
     ]
    }
   ],
   "source": [
    "n = int(input())\n",
    "lst = [[0,0]]\n",
    "for _ in range(n):\n",
    "    lst.append(list(map(int,input().split())))\n",
    "    \n",
    "dp = [0]*(n+1)\n",
    "for i in range(1, n+1):\n",
    "    dp[i] = max(dp[i],dp[i-1])\n",
    "    if (i+lst[i][0]) <= (n + 1):\n",
    "        dp[i+lst[i][0]-1] = max(dp[i-1]+lst[i][1], dp[i+lst[i][0]-1])\n",
    "print(dp[-1])"
   ]
  }
 ],
 "metadata": {
  "kernelspec": {
   "display_name": "Python 3 (ipykernel)",
   "language": "python",
   "name": "python3"
  },
  "language_info": {
   "codemirror_mode": {
    "name": "ipython",
    "version": 3
   },
   "file_extension": ".py",
   "mimetype": "text/x-python",
   "name": "python",
   "nbconvert_exporter": "python",
   "pygments_lexer": "ipython3",
   "version": "3.7.13"
  }
 },
 "nbformat": 4,
 "nbformat_minor": 5
}
