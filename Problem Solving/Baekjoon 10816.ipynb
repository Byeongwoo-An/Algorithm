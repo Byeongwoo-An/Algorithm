{
 "cells": [
  {
   "cell_type": "markdown",
   "id": "f1dbdc3a",
   "metadata": {},
   "source": [
    "# 10816 숫자 카드 2\n",
    "https://www.acmicpc.net/problem/10816"
   ]
  },
  {
   "cell_type": "code",
   "execution_count": 19,
   "id": "6f106e4e",
   "metadata": {
    "ExecuteTime": {
     "end_time": "2023-08-09T04:30:51.473402Z",
     "start_time": "2023-08-09T04:30:30.495235Z"
    }
   },
   "outputs": [
    {
     "name": "stdout",
     "output_type": "stream",
     "text": [
      "10\n",
      "6 3 2 10 10 10 -10 -10 7 3\n",
      "8\n",
      "10 9 -5 2 3 4 5 -10\n",
      "3 0 0 1 2 0 0 2\n"
     ]
    }
   ],
   "source": [
    "from collections import Counter\n",
    "n = int(input())\n",
    "int1 = list(map(int,input().split()))\n",
    "m = int(input())\n",
    "int2 = list(map(int,input().split()))\n",
    "\n",
    "sort_int1 = sorted(int1)\n",
    "counter = Counter(sort_int1)\n",
    "\n",
    "cnt = []\n",
    "for i in int2:\n",
    "    s = 0 \n",
    "    e = n-1\n",
    "    while s < e:\n",
    "        mid = (s + e) // 2\n",
    "        if i > sort_int1[mid]:\n",
    "            s = mid+1\n",
    "        else:\n",
    "            e = mid-1\n",
    "    if sort_int1[s] == i:\n",
    "        cnt.append(counter[sort_int1[s]])\n",
    "    else:\n",
    "        cnt.append(counter[i])\n",
    "print(*cnt)"
   ]
  },
  {
   "cell_type": "code",
   "execution_count": 26,
   "id": "54295e1a",
   "metadata": {
    "ExecuteTime": {
     "end_time": "2023-08-09T04:33:21.735412Z",
     "start_time": "2023-08-09T04:33:02.042424Z"
    }
   },
   "outputs": [
    {
     "name": "stdout",
     "output_type": "stream",
     "text": [
      "10\n",
      "6 3 2 10 10 10 -10 -10 7 3\n",
      "8\n",
      "10 9 -5 2 3 4 5 -10\n",
      "3 0 0 1 2 0 0 2\n"
     ]
    }
   ],
   "source": [
    "# 시간 초과\n",
    "n = int(input())\n",
    "int1 = list(map(int,input().split()))\n",
    "m = int(input())\n",
    "int2 = list(map(int,input().split()))\n",
    "\n",
    "sort_int1 = sorted(int1)\n",
    "\n",
    "cnt = []\n",
    "for i in int2:\n",
    "    s = 0 \n",
    "    e = n-1\n",
    "    counter = 0\n",
    "    while s <= e:\n",
    "        mid = (s + e) // 2\n",
    "        if i > sort_int1[mid]:\n",
    "            s = mid+1\n",
    "        else:\n",
    "            e = mid-1\n",
    "    while s < n:\n",
    "        if sort_int1[s] == i:\n",
    "            counter += 1\n",
    "            s += 1\n",
    "        else:\n",
    "            s += (n) - s\n",
    "    cnt.append(counter)\n",
    "print(*cnt)"
   ]
  },
  {
   "cell_type": "code",
   "execution_count": 25,
   "id": "ed80596b",
   "metadata": {
    "ExecuteTime": {
     "end_time": "2023-08-09T04:32:37.658823Z",
     "start_time": "2023-08-09T04:32:20.033520Z"
    }
   },
   "outputs": [
    {
     "name": "stdout",
     "output_type": "stream",
     "text": [
      "10\n",
      "6 3 2 10 10 10 -10 -10 7 3\n",
      "8\n",
      "10 9 -5 2 3 4 5 -10\n",
      "3 0 0 1 2 0 0 2\n"
     ]
    }
   ],
   "source": [
    "# 런타임 에러(IndexError)\n",
    "from collections import Counter\n",
    "n = int(input())\n",
    "int1 = list(map(int,input().split()))\n",
    "m = int(input())\n",
    "int2 = list(map(int,input().split()))\n",
    "\n",
    "sort_int1 = sorted(int1)\n",
    "counter = Counter(sort_int1)\n",
    "\n",
    "cnt = []\n",
    "for i in int2:\n",
    "    s = 0 \n",
    "    e = n-1\n",
    "    while s <= e:\n",
    "        mid = (s + e) // 2\n",
    "        if i > sort_int1[mid]:\n",
    "            s = mid+1\n",
    "        else:\n",
    "            e = mid-1\n",
    "    if sort_int1[s] == i:\n",
    "        cnt.append(counter[sort_int1[s]])\n",
    "    else:\n",
    "        cnt.append(counter[i])\n",
    "print(*cnt)"
   ]
  }
 ],
 "metadata": {
  "kernelspec": {
   "display_name": "free",
   "language": "python",
   "name": "free"
  },
  "language_info": {
   "codemirror_mode": {
    "name": "ipython",
    "version": 3
   },
   "file_extension": ".py",
   "mimetype": "text/x-python",
   "name": "python",
   "nbconvert_exporter": "python",
   "pygments_lexer": "ipython3",
   "version": "3.8.13"
  }
 },
 "nbformat": 4,
 "nbformat_minor": 5
}
