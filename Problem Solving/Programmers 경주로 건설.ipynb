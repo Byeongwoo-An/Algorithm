{
 "cells": [
  {
   "cell_type": "code",
   "execution_count": 2,
   "id": "caa1d88b",
   "metadata": {},
   "outputs": [
    {
     "data": {
      "text/plain": [
       "900"
      ]
     },
     "execution_count": 2,
     "metadata": {},
     "output_type": "execute_result"
    }
   ],
   "source": [
    "from collections import deque\n",
    "\n",
    "def solution(board):\n",
    "    def bfs(start):\n",
    "        \n",
    "        dx = [-1,1,0,0]\n",
    "        dy = [0,0,-1,1]\n",
    "        n = len(board)\n",
    "        visited = [[987654321]*n for i in range(n)]\n",
    "        visited[0][0] = 0\n",
    "        \n",
    "        q = deque([start])\n",
    "        while q:\n",
    "            x,y,c,d = q.popleft()\n",
    "            for i in range(4):\n",
    "                nx = x + dx[i]\n",
    "                ny = y + dy[i]\n",
    "                \n",
    "                if 0<=nx<n and 0<=ny<n and board[nx][ny] == 0:\n",
    "                    if i == d:\n",
    "                        nc = c + 100\n",
    "                    else:\n",
    "                        nc = c + 600\n",
    "                    if nc <= visited[nx][ny]:\n",
    "                        visited[nx][ny] = nc\n",
    "                        q.append([nx,ny,nc,i])\n",
    "                        \n",
    "        return visited[-1][-1]\n",
    "        \n",
    "        \n",
    "    \n",
    "    return min([bfs((0, 0, 0, 1)), bfs((0, 0, 0, 3))])\n",
    "\n",
    "solution([[0,0,0],[0,0,0],[0,0,0]])"
   ]
  }
 ],
 "metadata": {
  "kernelspec": {
   "display_name": "Python 3 (ipykernel)",
   "language": "python",
   "name": "python3"
  },
  "language_info": {
   "codemirror_mode": {
    "name": "ipython",
    "version": 3
   },
   "file_extension": ".py",
   "mimetype": "text/x-python",
   "name": "python",
   "nbconvert_exporter": "python",
   "pygments_lexer": "ipython3",
   "version": "3.9.7"
  }
 },
 "nbformat": 4,
 "nbformat_minor": 5
}
