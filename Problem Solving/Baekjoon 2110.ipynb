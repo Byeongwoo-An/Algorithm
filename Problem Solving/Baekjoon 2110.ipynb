{
 "cells": [
  {
   "cell_type": "markdown",
   "id": "35b62639",
   "metadata": {},
   "source": [
    "# 2110 공유기 설치\n",
    "https://www.acmicpc.net/problem/2110"
   ]
  },
  {
   "cell_type": "code",
   "execution_count": 65,
   "id": "90e6f76f",
   "metadata": {
    "ExecuteTime": {
     "end_time": "2023-08-17T05:13:31.107483Z",
     "start_time": "2023-08-17T05:13:23.382342Z"
    }
   },
   "outputs": [
    {
     "name": "stdout",
     "output_type": "stream",
     "text": [
      "5 3\n",
      "1\n",
      "2\n",
      "8\n",
      "4\n",
      "9\n",
      "3\n"
     ]
    }
   ],
   "source": [
    "import sys\n",
    "input = sys.stdin.readline\n",
    "\n",
    "# 공유기 사이의 거리가 이분 탐색의 결과가 되는 것이 포인트.\n",
    "# 따라서 start는 기능한 최소 거리, end는 최대 거리로 잡아야함.\n",
    "n, c = map(int, input().split())\n",
    "lst = []\n",
    "for _ in range(n):\n",
    "    lst.append(int(input()))\n",
    "sort_lst = sorted(lst)    \n",
    "s = 1 # 하나 이상의 빈 칸을 사이에 두고 주어진다 -> 최소 거리는 1\n",
    "e = sort_lst[-1] - sort_lst[0]\n",
    "\n",
    "result = 0\n",
    "while s <= e:\n",
    "    wifi = sort_lst[0]\n",
    "    cnt = 1\n",
    "    mid = (s+e) // 2\n",
    "    for i in range(1,n):\n",
    "        if sort_lst[i] - wifi >= mid:\n",
    "            cnt += 1\n",
    "            wifi = sort_lst[i]\n",
    "    if cnt >= c:\n",
    "        result = mid\n",
    "        s = mid + 1\n",
    "    else:\n",
    "        e = mid - 1\n",
    "print(result)"
   ]
  }
 ],
 "metadata": {
  "kernelspec": {
   "display_name": "free",
   "language": "python",
   "name": "free"
  },
  "language_info": {
   "codemirror_mode": {
    "name": "ipython",
    "version": 3
   },
   "file_extension": ".py",
   "mimetype": "text/x-python",
   "name": "python",
   "nbconvert_exporter": "python",
   "pygments_lexer": "ipython3",
   "version": "3.8.13"
  }
 },
 "nbformat": 4,
 "nbformat_minor": 5
}
