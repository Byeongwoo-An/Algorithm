{
 "cells": [
  {
   "cell_type": "markdown",
   "id": "4acd847a",
   "metadata": {},
   "source": [
    "# 숫자 문자열과 영단어\n",
    "https://school.programmers.co.kr/learn/courses/30/lessons/81301"
   ]
  },
  {
   "cell_type": "code",
   "execution_count": 12,
   "id": "d514de7d",
   "metadata": {
    "ExecuteTime": {
     "end_time": "2023-09-21T12:07:42.397132Z",
     "start_time": "2023-09-21T12:07:42.379179Z"
    }
   },
   "outputs": [
    {
     "data": {
      "text/plain": [
       "234567"
      ]
     },
     "execution_count": 12,
     "metadata": {},
     "output_type": "execute_result"
    }
   ],
   "source": [
    "def solution(s):\n",
    "\n",
    "    dic = {\"zero\":0, \"one\":1,\"two\":2,\"three\":3,\"four\":4,\"five\":5,\"six\":6,\"seven\":7,\"eight\":8,\"nine\":9}\n",
    "    for i in dic.keys():\n",
    "        if i in s:\n",
    "            s = s.replace(s[s.find(i):s.find(i)+len(i)],str(dic[i]))\n",
    "\n",
    "    return int(s)\n",
    "solution(\"2three45sixseven\")"
   ]
  }
 ],
 "metadata": {
  "kernelspec": {
   "display_name": "free",
   "language": "python",
   "name": "free"
  },
  "language_info": {
   "codemirror_mode": {
    "name": "ipython",
    "version": 3
   },
   "file_extension": ".py",
   "mimetype": "text/x-python",
   "name": "python",
   "nbconvert_exporter": "python",
   "pygments_lexer": "ipython3",
   "version": "3.8.13"
  }
 },
 "nbformat": 4,
 "nbformat_minor": 5
}
