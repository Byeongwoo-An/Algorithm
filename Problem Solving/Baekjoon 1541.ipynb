{
 "cells": [
  {
   "cell_type": "markdown",
   "id": "7ac97087",
   "metadata": {},
   "source": [
    "# 1541 잃어버린 괄호\n",
    "https://www.acmicpc.net/problem/1541"
   ]
  },
  {
   "cell_type": "code",
   "execution_count": 46,
   "id": "acb91ff5",
   "metadata": {
    "ExecuteTime": {
     "end_time": "2023-08-02T02:38:18.547081Z",
     "start_time": "2023-08-02T02:38:07.560410Z"
    }
   },
   "outputs": [
    {
     "name": "stdout",
     "output_type": "stream",
     "text": [
      "55-50+40\n",
      "-35\n"
     ]
    }
   ],
   "source": [
    "lst = input().split('-') # \"가장 처음과 마지막 문자는 숫자이다.\" -> 초항이 음수인 경우는 고려 X\n",
    "total = 0\n",
    "for i in range(len(lst)):\n",
    "    if i == 0:\n",
    "        for j in lst[i].split('+'):\n",
    "            total += int(j)\n",
    "    else:\n",
    "        for k in lst[i].split('+'):\n",
    "            total -= int(k)\n",
    "print(total)"
   ]
  }
 ],
 "metadata": {
  "kernelspec": {
   "display_name": "free",
   "language": "python",
   "name": "free"
  },
  "language_info": {
   "codemirror_mode": {
    "name": "ipython",
    "version": 3
   },
   "file_extension": ".py",
   "mimetype": "text/x-python",
   "name": "python",
   "nbconvert_exporter": "python",
   "pygments_lexer": "ipython3",
   "version": "3.8.13"
  }
 },
 "nbformat": 4,
 "nbformat_minor": 5
}
