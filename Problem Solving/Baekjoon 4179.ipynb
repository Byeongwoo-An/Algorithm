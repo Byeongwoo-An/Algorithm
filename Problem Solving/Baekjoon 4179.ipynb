{
 "cells": [
  {
   "cell_type": "markdown",
   "id": "adc8ff6b",
   "metadata": {},
   "source": [
    "# 불!\n",
    "https://www.acmicpc.net/problem/4179"
   ]
  },
  {
   "cell_type": "code",
   "execution_count": 76,
   "id": "68d64c38",
   "metadata": {
    "ExecuteTime": {
     "end_time": "2023-10-14T18:00:56.662195Z",
     "start_time": "2023-10-14T18:00:45.789597Z"
    }
   },
   "outputs": [
    {
     "name": "stdout",
     "output_type": "stream",
     "text": [
      "4 4\n",
      "####\n",
      "#JF#\n",
      "#..#\n",
      "#..#\n",
      "3\n"
     ]
    }
   ],
   "source": [
    "from collections import deque\n",
    "\n",
    "r, c = map(int,input().split()) # r 행, c 열\n",
    "maze = [list(map(str,input()))for _ in range(r)]\n",
    "\n",
    "visited_j = [[0] * c for _ in range(r)]\n",
    "visited_f = [[0] * c for _ in range(r)]\n",
    "\n",
    "qj = deque()\n",
    "qf = deque()\n",
    "\n",
    "for i in range(r):\n",
    "    for j in range(c):\n",
    "        if maze[i][j] == \"J\":\n",
    "            visited_j[i][j] = 1\n",
    "            qj.append((i,j))\n",
    "        elif maze[i][j] == \"F\":\n",
    "            visited_f[i][j] = 1\n",
    "            qf.append((i,j))\n",
    "            \n",
    "dx = [-1, 1, 0 ,0]\n",
    "dy = [0, 0, -1, 1]\n",
    "def bfs():\n",
    "    while qf:\n",
    "        x, y = qf.popleft()\n",
    "        \n",
    "        for i in range(4):\n",
    "            nx = x + dx[i]\n",
    "            ny = y + dy[i]\n",
    "            if 0 <= nx < r and 0 <= ny < c:\n",
    "                if visited_f[nx][ny] == 0 and maze[nx][ny] != \"#\":\n",
    "                    visited_f[nx][ny] = visited_f[x][y] + 1\n",
    "                    qf.append((nx, ny))\n",
    "    while qj:\n",
    "        x, y = qj.popleft()\n",
    "\n",
    "        for i in range(4):\n",
    "            nx = x + dx[i]\n",
    "            ny = y + dy[i]\n",
    "            if 0 <= nx < r and 0 <= ny < c:\n",
    "                if visited_j[nx][ny] == 0 and maze[nx][ny] != \"#\":\n",
    "                    if visited_f[nx][ny] == 0 or visited_f[nx][ny] > visited_j[x][y] + 1:\n",
    "                        visited_j[nx][ny] = visited_j[x][y] + 1\n",
    "                        qj.append((nx, ny))\n",
    "            else:\n",
    "                return visited_j[x][y]\n",
    "    return \"IMPOSSIBLE\"\n",
    "print(bfs())"
   ]
  }
 ],
 "metadata": {
  "kernelspec": {
   "display_name": "Python 3 (ipykernel)",
   "language": "python",
   "name": "python3"
  },
  "language_info": {
   "codemirror_mode": {
    "name": "ipython",
    "version": 3
   },
   "file_extension": ".py",
   "mimetype": "text/x-python",
   "name": "python",
   "nbconvert_exporter": "python",
   "pygments_lexer": "ipython3",
   "version": "3.7.13"
  }
 },
 "nbformat": 4,
 "nbformat_minor": 5
}
