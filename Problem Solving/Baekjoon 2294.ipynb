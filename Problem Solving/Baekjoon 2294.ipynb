{
 "cells": [
  {
   "cell_type": "markdown",
   "id": "3db5aa15",
   "metadata": {},
   "source": [
    "# 동전 2\n",
    "https://www.acmicpc.net/problem/2294"
   ]
  },
  {
   "cell_type": "code",
   "execution_count": 57,
   "id": "e03819e2",
   "metadata": {
    "ExecuteTime": {
     "end_time": "2023-10-18T06:49:02.209827Z",
     "start_time": "2023-10-18T06:48:58.558395Z"
    }
   },
   "outputs": [
    {
     "name": "stdout",
     "output_type": "stream",
     "text": [
      "3 15\n",
      "1\n",
      "2\n",
      "12\n",
      "3\n"
     ]
    }
   ],
   "source": [
    "n, k = map(int,input().split())\n",
    "coin = []\n",
    "for _ in range(n):\n",
    "    coin.append(int(input()))\n",
    "\n",
    "dp = [987654321] * 10001\n",
    "dp[0] = 0\n",
    "\n",
    "for i in coin:\n",
    "    for j in range(i,k+1):\n",
    "        dp[j] = min(dp[j], dp[j-i]+1)\n",
    "\n",
    "if dp[k] == 987654321:\n",
    "    print(-1)\n",
    "else:\n",
    "    print(dp[k])"
   ]
  }
 ],
 "metadata": {
  "kernelspec": {
   "display_name": "Python 3 (ipykernel)",
   "language": "python",
   "name": "python3"
  },
  "language_info": {
   "codemirror_mode": {
    "name": "ipython",
    "version": 3
   },
   "file_extension": ".py",
   "mimetype": "text/x-python",
   "name": "python",
   "nbconvert_exporter": "python",
   "pygments_lexer": "ipython3",
   "version": "3.7.13"
  }
 },
 "nbformat": 4,
 "nbformat_minor": 5
}
