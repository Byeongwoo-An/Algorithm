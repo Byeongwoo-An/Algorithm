{
 "cells": [
  {
   "cell_type": "markdown",
   "id": "a645099c",
   "metadata": {},
   "source": [
    "# 빈도 정렬\n",
    "https://www.acmicpc.net/problem/2910"
   ]
  },
  {
   "cell_type": "code",
   "execution_count": 49,
   "id": "2b92947e",
   "metadata": {},
   "outputs": [
    {
     "name": "stdout",
     "output_type": "stream",
     "text": [
      "9 77\n",
      "11 33 11 77 54 11 25 25 33\n"
     ]
    }
   ],
   "source": [
    "n, c = map(int,input().split())\n",
    "lst = list(map(int, input().split()))\n",
    "dic = {}\n",
    "for i in lst:\n",
    "    if i not in dic.keys():\n",
    "        dic[i] = 1\n",
    "    else:\n",
    "        dic[i] += 1\n",
    "        \n",
    "sort = sorted(dic.items(), key=lambda x:x[1],reverse=True)\n",
    "result = []\n",
    "for i,j in sort:\n",
    "    for k in range(j):\n",
    "        result.append(i)\n",
    "print(*result)"
   ]
  }
 ],
 "metadata": {
  "kernelspec": {
   "display_name": "Python 3 (ipykernel)",
   "language": "python",
   "name": "python3"
  },
  "language_info": {
   "codemirror_mode": {
    "name": "ipython",
    "version": 3
   },
   "file_extension": ".py",
   "mimetype": "text/x-python",
   "name": "python",
   "nbconvert_exporter": "python",
   "pygments_lexer": "ipython3",
   "version": "3.9.7"
  }
 },
 "nbformat": 4,
 "nbformat_minor": 5
}
