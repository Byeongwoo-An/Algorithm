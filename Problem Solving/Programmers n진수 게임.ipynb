{
 "cells": [
  {
   "cell_type": "code",
   "execution_count": 3,
   "id": "9cd79ad7",
   "metadata": {},
   "outputs": [
    {
     "data": {
      "text/plain": [
       "'02468ACE11111111'"
      ]
     },
     "execution_count": 3,
     "metadata": {},
     "output_type": "execute_result"
    }
   ],
   "source": [
    "candidate = \"0123456789ABCDEF\"\n",
    "\n",
    "def convert(number, n):\n",
    "    x = number//n\n",
    "    y = int(number%n)\n",
    "\n",
    "    if x == 0:\n",
    "        return candidate[y]\n",
    "    else:\n",
    "        return convert(x,n)+candidate[y]\n",
    "\n",
    "def solution(n, t, m, p):\n",
    "    string = \"\"\n",
    "    for num in range(m*t): # m*t: 모든 턴의 수\n",
    "        string+=convert(num, n)\n",
    "\n",
    "    answer = \"\"\n",
    "    idx = p - 1\n",
    "    while len(answer) != t:\n",
    "        answer += string[idx]\n",
    "        idx += m\n",
    "        if idx >= len(string):\n",
    "            idx = 0\n",
    "    \n",
    "\n",
    "    return answer\n",
    "solution(16, 16, 2, 1)"
   ]
  }
 ],
 "metadata": {
  "kernelspec": {
   "display_name": "Python 3 (ipykernel)",
   "language": "python",
   "name": "python3"
  },
  "language_info": {
   "codemirror_mode": {
    "name": "ipython",
    "version": 3
   },
   "file_extension": ".py",
   "mimetype": "text/x-python",
   "name": "python",
   "nbconvert_exporter": "python",
   "pygments_lexer": "ipython3",
   "version": "3.9.7"
  }
 },
 "nbformat": 4,
 "nbformat_minor": 5
}
