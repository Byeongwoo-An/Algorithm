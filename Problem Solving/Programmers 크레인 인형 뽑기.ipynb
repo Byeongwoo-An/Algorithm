{
 "cells": [
  {
   "cell_type": "code",
   "execution_count": 1,
   "id": "25ae1a85",
   "metadata": {
    "ExecuteTime": {
     "end_time": "2023-10-05T05:50:14.976526Z",
     "start_time": "2023-10-05T05:50:14.938490Z"
    }
   },
   "outputs": [
    {
     "data": {
      "text/plain": [
       "4"
      ]
     },
     "execution_count": 1,
     "metadata": {},
     "output_type": "execute_result"
    }
   ],
   "source": [
    "def solution(board, moves):\n",
    "    stack = []\n",
    "    for i in moves:\n",
    "        for j in range(len(board)):\n",
    "            if board[j][i-1] > 0:\n",
    "                stack.append(board[j][i-1])\n",
    "                board[j][i-1] = 0\n",
    "                break\n",
    "        continue\n",
    "    n = 0\n",
    "    cnt = 0\n",
    "    \n",
    "    while True:\n",
    "        if len(stack) == 0:\n",
    "            break\n",
    "        if stack[n] == stack[n+1]:\n",
    "            stack.pop(n)\n",
    "            stack.pop(n)\n",
    "            n = 0\n",
    "            cnt += 2\n",
    "        else:\n",
    "            n += 1\n",
    "        if n == len(stack)-1:\n",
    "            break\n",
    "            \n",
    "    return cnt\n",
    "solution([[0,0,0,0,0],[0,0,1,0,3],[0,2,5,0,1],[4,2,4,4,2],[3,5,1,3,1]], [1,5,3,5,1,2,1,4])"
   ]
  }
 ],
 "metadata": {
  "kernelspec": {
   "display_name": "Python 3 (ipykernel)",
   "language": "python",
   "name": "python3"
  },
  "language_info": {
   "codemirror_mode": {
    "name": "ipython",
    "version": 3
   },
   "file_extension": ".py",
   "mimetype": "text/x-python",
   "name": "python",
   "nbconvert_exporter": "python",
   "pygments_lexer": "ipython3",
   "version": "3.7.13"
  }
 },
 "nbformat": 4,
 "nbformat_minor": 5
}
