{
 "cells": [
  {
   "cell_type": "markdown",
   "id": "6745e1aa",
   "metadata": {},
   "source": [
    "# 13305 주유소\n",
    "https://www.acmicpc.net/problem/13305"
   ]
  },
  {
   "cell_type": "code",
   "execution_count": 95,
   "id": "708e1161",
   "metadata": {
    "ExecuteTime": {
     "end_time": "2023-08-07T03:54:05.572197Z",
     "start_time": "2023-08-07T03:54:00.352864Z"
    }
   },
   "outputs": [
    {
     "name": "stdout",
     "output_type": "stream",
     "text": [
      "4\n",
      "2 3 1\n",
      "5 2 4 1\n"
     ]
    }
   ],
   "source": [
    "n = int(input())\n",
    "dist = list(map(int, input().split()))\n",
    "oil = list(map(int, input().split()))"
   ]
  },
  {
   "cell_type": "code",
   "execution_count": 96,
   "id": "80ff712d",
   "metadata": {
    "ExecuteTime": {
     "end_time": "2023-08-07T03:55:28.258722Z",
     "start_time": "2023-08-07T03:55:28.251735Z"
    }
   },
   "outputs": [
    {
     "name": "stdout",
     "output_type": "stream",
     "text": [
      "18\n"
     ]
    }
   ],
   "source": [
    "# subtask 17점\n",
    "cost = 0\n",
    "km = 0\n",
    "for i in range(len(dist)):\n",
    "    if km == sum(dist):\n",
    "        break\n",
    "    if oil[i] == min(oil[i:-1]):\n",
    "        cost += oil[i]*sum(dist[i:])\n",
    "        km += sum(dist[i:])\n",
    "    else:\n",
    "        cost += oil[i]*dist[i]\n",
    "        km += dist[i]\n",
    "print(cost)\n",
    "# 반례를 못찾겠음."
   ]
  },
  {
   "cell_type": "code",
   "execution_count": 104,
   "id": "48e3f863",
   "metadata": {
    "ExecuteTime": {
     "end_time": "2023-08-07T03:57:17.639876Z",
     "start_time": "2023-08-07T03:57:17.625083Z"
    }
   },
   "outputs": [
    {
     "name": "stdout",
     "output_type": "stream",
     "text": [
      "18\n"
     ]
    }
   ],
   "source": [
    "# other solution\n",
    "cost = 0\n",
    "lowest = oil[0]\n",
    "for i in range(len(dist)):\n",
    "    if oil[i] < lowest:\n",
    "        lowest = oil[i]\n",
    "    cost += lowest * dist[i]\n",
    "print(cost)"
   ]
  }
 ],
 "metadata": {
  "kernelspec": {
   "display_name": "free",
   "language": "python",
   "name": "free"
  },
  "language_info": {
   "codemirror_mode": {
    "name": "ipython",
    "version": 3
   },
   "file_extension": ".py",
   "mimetype": "text/x-python",
   "name": "python",
   "nbconvert_exporter": "python",
   "pygments_lexer": "ipython3",
   "version": "3.8.13"
  }
 },
 "nbformat": 4,
 "nbformat_minor": 5
}
