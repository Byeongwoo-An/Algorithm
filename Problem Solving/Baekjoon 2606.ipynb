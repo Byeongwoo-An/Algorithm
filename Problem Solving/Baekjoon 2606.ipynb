{
 "cells": [
  {
   "cell_type": "markdown",
   "id": "b864f0b5",
   "metadata": {},
   "source": [
    "# 바이러스\n",
    "https://www.acmicpc.net/problem/2606"
   ]
  },
  {
   "cell_type": "code",
   "execution_count": 13,
   "id": "4b41fa24",
   "metadata": {
    "ExecuteTime": {
     "end_time": "2023-09-11T01:42:49.327139Z",
     "start_time": "2023-09-11T01:42:40.390005Z"
    }
   },
   "outputs": [
    {
     "name": "stdout",
     "output_type": "stream",
     "text": [
      "7\n",
      "6\n",
      "1 2\n",
      "2 3\n",
      "1 5\n",
      "5 2\n",
      "5 6\n",
      "4 7\n",
      "4\n"
     ]
    }
   ],
   "source": [
    "n = int(input())\n",
    "m = int(input())\n",
    "graph = [[0]*(n+1) for _ in range(n+1)]\n",
    "for i in range(m):\n",
    "    j, k = map(int, input().split())\n",
    "    graph[j][k] = 1\n",
    "    graph[k][j] = 1\n",
    "visited = [0] * (n+1)\n",
    "def dfs(v):\n",
    "    visited[v] = 1\n",
    "    for i in range(1,n+1):\n",
    "        if graph[v][i] == 1 and visited[i] == 0:\n",
    "            visited[i] = 1\n",
    "            dfs(i)\n",
    "dfs(1) \n",
    "print(sum(visited) - 1)"
   ]
  }
 ],
 "metadata": {
  "kernelspec": {
   "display_name": "free",
   "language": "python",
   "name": "free"
  },
  "language_info": {
   "codemirror_mode": {
    "name": "ipython",
    "version": 3
   },
   "file_extension": ".py",
   "mimetype": "text/x-python",
   "name": "python",
   "nbconvert_exporter": "python",
   "pygments_lexer": "ipython3",
   "version": "3.8.13"
  }
 },
 "nbformat": 4,
 "nbformat_minor": 5
}
