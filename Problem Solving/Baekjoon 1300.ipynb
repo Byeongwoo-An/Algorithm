{
 "cells": [
  {
   "cell_type": "markdown",
   "id": "49618e25",
   "metadata": {},
   "source": [
    "# 1300 K번째 수\n",
    "https://www.acmicpc.net/problem/1300"
   ]
  },
  {
   "cell_type": "code",
   "execution_count": 79,
   "id": "22facd9b",
   "metadata": {
    "ExecuteTime": {
     "end_time": "2023-08-18T04:41:29.392913Z",
     "start_time": "2023-08-18T04:41:27.204769Z"
    }
   },
   "outputs": [
    {
     "name": "stdout",
     "output_type": "stream",
     "text": [
      "3\n",
      "7\n",
      "6\n"
     ]
    }
   ],
   "source": [
    "import sys\n",
    "\n",
    "# K번쨰 index의 값을 mid로 두고 이것보다 작은 값의 개수를 구한 뒤, 이를 K와 비교.\n",
    "input = sys.stdin.readline\n",
    "n = int(input())\n",
    "k = int(input())\n",
    "\n",
    "s = 1\n",
    "e = n*n\n",
    "\n",
    "result = 0\n",
    "while s <= e:\n",
    "    cnt = 0\n",
    "    mid = (s+e) // 2\n",
    "    for i in range(1, n+1):\n",
    "        cnt += min(mid//i, n) # key point\n",
    "\n",
    "    if cnt >= k:\n",
    "        result = mid\n",
    "        e = mid - 1\n",
    "    else:\n",
    "        s = mid +1\n",
    "print(result)"
   ]
  }
 ],
 "metadata": {
  "kernelspec": {
   "display_name": "free",
   "language": "python",
   "name": "free"
  },
  "language_info": {
   "codemirror_mode": {
    "name": "ipython",
    "version": 3
   },
   "file_extension": ".py",
   "mimetype": "text/x-python",
   "name": "python",
   "nbconvert_exporter": "python",
   "pygments_lexer": "ipython3",
   "version": "3.8.13"
  }
 },
 "nbformat": 4,
 "nbformat_minor": 5
}
