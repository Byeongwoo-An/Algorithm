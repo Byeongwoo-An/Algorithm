{
 "cells": [
  {
   "cell_type": "markdown",
   "id": "92b90365",
   "metadata": {},
   "source": [
    "# 튜플\n",
    "https://school.programmers.co.kr/learn/courses/30/lessons/64065"
   ]
  },
  {
   "cell_type": "code",
   "execution_count": 3,
   "id": "07078891",
   "metadata": {
    "ExecuteTime": {
     "end_time": "2023-09-23T05:31:39.219765Z",
     "start_time": "2023-09-23T05:31:39.210735Z"
    }
   },
   "outputs": [],
   "source": [
    "# 내 풀이"
   ]
  },
  {
   "cell_type": "code",
   "execution_count": 4,
   "id": "26ae3003",
   "metadata": {
    "ExecuteTime": {
     "end_time": "2023-09-23T05:31:39.401366Z",
     "start_time": "2023-09-23T05:31:39.393386Z"
    }
   },
   "outputs": [
    {
     "data": {
      "text/plain": [
       "[3, 2, 4, 1]"
      ]
     },
     "execution_count": 4,
     "metadata": {},
     "output_type": "execute_result"
    }
   ],
   "source": [
    "def solution(s):\n",
    "    answer = []\n",
    "    \n",
    "    tmp = s[2:-2].split(\"},{\")\n",
    "    lst = []\n",
    "    for i in tmp:\n",
    "        a = i.split(\",\")\n",
    "        lst.append(a)\n",
    "        \n",
    "    i = 0\n",
    "    while len(answer) != len(lst):\n",
    "        for i in range(len(lst)):\n",
    "            if len(answer) == len(lst[i])-1:\n",
    "                for j in lst[i]:\n",
    "                    if not int(j) in answer:\n",
    "                        answer.append(int(j))\n",
    "        i += 1\n",
    "        if i == len(lst)-1:\n",
    "            i = 0\n",
    "\n",
    "    return answer\n",
    "\n",
    "solution(\"{{4,2,3},{3},{2,3,4,1},{2,3}}\")"
   ]
  },
  {
   "cell_type": "code",
   "execution_count": 5,
   "id": "69198bd4",
   "metadata": {
    "ExecuteTime": {
     "end_time": "2023-09-23T05:31:39.583909Z",
     "start_time": "2023-09-23T05:31:39.562997Z"
    }
   },
   "outputs": [
    {
     "data": {
      "text/plain": [
       "[3, 2, 4, 1]"
      ]
     },
     "execution_count": 5,
     "metadata": {},
     "output_type": "execute_result"
    }
   ],
   "source": [
    "# Others\n",
    "def solution(s):\n",
    "    answer = []\n",
    "    \n",
    "    tmp1 = s[2:-2].split(\"},{\")\n",
    "    lst = []\n",
    "    for i in tmp1:\n",
    "        tmp2 = i.split(\",\")\n",
    "        lst.append(tmp2)\n",
    "    \n",
    "    lst = sorted(lst, key = lambda x: len(x))\n",
    "    \n",
    "    for i in lst:\n",
    "        for j in i:\n",
    "            if not int(j) in answer:\n",
    "                answer.append(int(j))\n",
    "                \n",
    "    return answer\n",
    "\n",
    "solution(\"{{4,2,3},{3},{2,3,4,1},{2,3}}\")"
   ]
  }
 ],
 "metadata": {
  "kernelspec": {
   "display_name": "free",
   "language": "python",
   "name": "free"
  },
  "language_info": {
   "codemirror_mode": {
    "name": "ipython",
    "version": 3
   },
   "file_extension": ".py",
   "mimetype": "text/x-python",
   "name": "python",
   "nbconvert_exporter": "python",
   "pygments_lexer": "ipython3",
   "version": "3.8.13"
  }
 },
 "nbformat": 4,
 "nbformat_minor": 5
}
