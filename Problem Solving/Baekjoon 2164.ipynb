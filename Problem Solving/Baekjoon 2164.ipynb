{
 "cells": [
  {
   "cell_type": "markdown",
   "id": "a01ea7c0",
   "metadata": {},
   "source": [
    "# 카드 2\n",
    "https://www.acmicpc.net/problem/2164"
   ]
  },
  {
   "cell_type": "code",
   "execution_count": 9,
   "id": "10e1a561",
   "metadata": {
    "ExecuteTime": {
     "end_time": "2023-09-13T04:00:30.718622Z",
     "start_time": "2023-09-13T04:00:29.307974Z"
    }
   },
   "outputs": [
    {
     "name": "stdout",
     "output_type": "stream",
     "text": [
      "6\n",
      "4\n"
     ]
    }
   ],
   "source": [
    "from collections import deque\n",
    "\n",
    "n = int(input())\n",
    "q = deque()\n",
    "\n",
    "for i in range(1,n+1):\n",
    "    q.append(i)\n",
    "\n",
    "while len(q) != 1:\n",
    "    q.popleft()\n",
    "    tmp = q.popleft()\n",
    "    q.append(tmp)\n",
    "\n",
    "print(q[0])"
   ]
  }
 ],
 "metadata": {
  "kernelspec": {
   "display_name": "free",
   "language": "python",
   "name": "free"
  },
  "language_info": {
   "codemirror_mode": {
    "name": "ipython",
    "version": 3
   },
   "file_extension": ".py",
   "mimetype": "text/x-python",
   "name": "python",
   "nbconvert_exporter": "python",
   "pygments_lexer": "ipython3",
   "version": "3.8.13"
  }
 },
 "nbformat": 4,
 "nbformat_minor": 5
}
