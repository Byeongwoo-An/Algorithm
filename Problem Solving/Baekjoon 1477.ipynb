{
 "cells": [
  {
   "cell_type": "markdown",
   "id": "c9911db2",
   "metadata": {},
   "source": [
    "# 휴게소 세우기\n",
    "https://www.acmicpc.net/problem/1477"
   ]
  },
  {
   "cell_type": "code",
   "execution_count": 70,
   "id": "9386bf92",
   "metadata": {
    "ExecuteTime": {
     "end_time": "2023-10-19T10:17:33.872986Z",
     "start_time": "2023-10-19T10:17:29.230867Z"
    }
   },
   "outputs": [
    {
     "name": "stdout",
     "output_type": "stream",
     "text": [
      "6 7 800\n",
      "622 411 201 555 755 82\n",
      "70\n"
     ]
    }
   ],
   "source": [
    "n, m, l = map(int, input().split())\n",
    "rest = list(map(int,input().split()))\n",
    "rest.append(l)\n",
    "rest.insert(0,0)\n",
    "rest = sorted(rest)\n",
    "\n",
    "s = 1\n",
    "e = l-1\n",
    "result = 0\n",
    "while s <= e:\n",
    "    mid = (s+e)//2\n",
    "    cnt = 0\n",
    "    for i in range(1, len(rest)):\n",
    "        if rest[i] - rest[i-1] > mid:\n",
    "            cnt += (rest[i]-rest[i-1]-1)//mid\n",
    "    if cnt > m:\n",
    "        s = mid + 1\n",
    "    else:\n",
    "        e = mid - 1\n",
    "        result = mid\n",
    "print(result)"
   ]
  }
 ],
 "metadata": {
  "kernelspec": {
   "display_name": "Python 3 (ipykernel)",
   "language": "python",
   "name": "python3"
  },
  "language_info": {
   "codemirror_mode": {
    "name": "ipython",
    "version": 3
   },
   "file_extension": ".py",
   "mimetype": "text/x-python",
   "name": "python",
   "nbconvert_exporter": "python",
   "pygments_lexer": "ipython3",
   "version": "3.7.13"
  }
 },
 "nbformat": 4,
 "nbformat_minor": 5
}
