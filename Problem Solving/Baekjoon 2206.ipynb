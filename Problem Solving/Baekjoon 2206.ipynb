{
 "cells": [
  {
   "cell_type": "markdown",
   "id": "3adc5fe6",
   "metadata": {},
   "source": [
    "# 벽 부수고 이동하기\n",
    "https://www.acmicpc.net/problem/2206"
   ]
  },
  {
   "cell_type": "code",
   "execution_count": 144,
   "id": "2769cdae",
   "metadata": {
    "ExecuteTime": {
     "end_time": "2023-10-12T07:13:58.434545Z",
     "start_time": "2023-10-12T07:13:42.240428Z"
    }
   },
   "outputs": [
    {
     "name": "stdout",
     "output_type": "stream",
     "text": [
      "6 4\n",
      "0100\n",
      "1110\n",
      "1000\n",
      "0000\n",
      "0111\n",
      "0000\n",
      "15\n"
     ]
    }
   ],
   "source": [
    "from collections import deque\n",
    "\n",
    "n, m = map(int,input().split())\n",
    "wall = [list(map(int,input())) for _ in range(n)]\n",
    "\n",
    "visited = [[[0,0] for _ in range(m)] for _ in range(n)]\n",
    "visited[0][0][0] = 1\n",
    "\n",
    "dx = [-1, 1, 0, 0]\n",
    "dy = [0, 0, -1, 1]\n",
    "def bfs(v):\n",
    "    q = deque([v])\n",
    "    while q:\n",
    "        x, y, z = q.popleft()\n",
    "        if x == n - 1 and y == m - 1:\n",
    "            return visited[x][y][z]\n",
    "        for i in range(4):\n",
    "            nx = dx[i] + x\n",
    "            ny = dy[i] + y\n",
    "            if 0 <= nx < n and 0 <= ny < m:\n",
    "                if wall[nx][ny] == 1 and z == 0:\n",
    "                    visited[nx][ny][1] = visited[x][y][0] + 1\n",
    "                    q.append((nx,ny,1))\n",
    "                elif wall[nx][ny] == 0 and visited[nx][ny][z] == 0:\n",
    "                    visited[nx][ny][z] = visited[x][y][z] + 1\n",
    "                    q.append((nx,ny,z))\n",
    "    return -1\n",
    "\n",
    "print(bfs((0,0,0)))"
   ]
  },
  {
   "cell_type": "code",
   "execution_count": 145,
   "id": "e606adc7",
   "metadata": {
    "ExecuteTime": {
     "end_time": "2023-10-12T07:25:27.486047Z",
     "start_time": "2023-10-12T07:25:27.480058Z"
    }
   },
   "outputs": [
    {
     "data": {
      "text/plain": [
       "[[[1, 3], [0, 2], [0, 3], [0, 4]],\n",
       " [[0, 2], [0, 0], [0, 0], [0, 5]],\n",
       " [[0, 0], [0, 8], [0, 7], [0, 6]],\n",
       " [[0, 10], [0, 9], [0, 8], [0, 7]],\n",
       " [[0, 11], [0, 0], [0, 0], [0, 0]],\n",
       " [[0, 12], [0, 13], [0, 14], [0, 15]]]"
      ]
     },
     "execution_count": 145,
     "metadata": {},
     "output_type": "execute_result"
    }
   ],
   "source": [
    "visited"
   ]
  },
  {
   "cell_type": "code",
   "execution_count": null,
   "id": "810b70dd",
   "metadata": {},
   "outputs": [],
   "source": []
  }
 ],
 "metadata": {
  "kernelspec": {
   "display_name": "Python 3 (ipykernel)",
   "language": "python",
   "name": "python3"
  },
  "language_info": {
   "codemirror_mode": {
    "name": "ipython",
    "version": 3
   },
   "file_extension": ".py",
   "mimetype": "text/x-python",
   "name": "python",
   "nbconvert_exporter": "python",
   "pygments_lexer": "ipython3",
   "version": "3.7.13"
  }
 },
 "nbformat": 4,
 "nbformat_minor": 5
}
