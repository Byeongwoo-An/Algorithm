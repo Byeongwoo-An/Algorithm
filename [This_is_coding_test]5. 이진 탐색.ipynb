{
 "cells": [
  {
   "cell_type": "markdown",
   "id": "22dadb01",
   "metadata": {},
   "source": [
    "# 이진 탐색"
   ]
  },
  {
   "cell_type": "code",
   "execution_count": 2,
   "id": "ef9669ea",
   "metadata": {
    "ExecuteTime": {
     "end_time": "2023-02-21T06:15:27.045368Z",
     "start_time": "2023-02-21T06:15:18.315642Z"
    }
   },
   "outputs": [
    {
     "name": "stdout",
     "output_type": "stream",
     "text": [
      "10 7\n",
      "1 3 5 7 9 11 13 15 17 19\n",
      "4\n"
     ]
    }
   ],
   "source": [
    "def binary_search(array, target, start, end):\n",
    "    if start > end:\n",
    "        return None\n",
    "    mid = (start+end)//2\n",
    "    \n",
    "    if array[mid] == target:\n",
    "        return mid\n",
    "    elif array[mid] > target:\n",
    "        return binary_search(array, target, start, mid - 1)\n",
    "    else:\n",
    "        return binary_search(array, target, mid + 1, end)\n",
    "n, target = list(map(int, input().split()))\n",
    "array = list(map(int, input().split()))\n",
    "\n",
    "result = binary_search(array, target, 0, n-1)\n",
    "if result == None:\n",
    "    print(\"원소가 존재하지 않습니다.\")\n",
    "else:\n",
    "    print(result+1)"
   ]
  },
  {
   "cell_type": "code",
   "execution_count": 16,
   "id": "6c936c86",
   "metadata": {
    "ExecuteTime": {
     "end_time": "2023-02-21T06:34:13.260335Z",
     "start_time": "2023-02-21T06:34:13.249677Z"
    }
   },
   "outputs": [
    {
     "name": "stdout",
     "output_type": "stream",
     "text": [
      "\n"
     ]
    }
   ],
   "source": [
    "# 주피터에서 작동 안함\n",
    "import sys\n",
    "input_data = sys.stdin.readline().rstrip()\n",
    "print(input_data)"
   ]
  },
  {
   "cell_type": "markdown",
   "id": "0bfedf05",
   "metadata": {},
   "source": [
    "# 부품 찾기"
   ]
  },
  {
   "cell_type": "code",
   "execution_count": 39,
   "id": "8fa34ecb",
   "metadata": {
    "ExecuteTime": {
     "end_time": "2023-02-21T07:29:53.282689Z",
     "start_time": "2023-02-21T07:29:43.420625Z"
    }
   },
   "outputs": [
    {
     "name": "stdout",
     "output_type": "stream",
     "text": [
      "5\n",
      "8 3 7 9 2\n",
      "3\n",
      "5 7 9\n",
      "no yes yes "
     ]
    }
   ],
   "source": [
    "def binary(arr, tar, start, end):\n",
    "    if start > end:\n",
    "        return 'no'\n",
    "    mid = (start+end) // 2\n",
    "    \n",
    "    if arr[mid] == tar:\n",
    "        return 'yes'\n",
    "    elif arr[mid] > tar:\n",
    "        return binary(arr, tar, start, mid - 1)\n",
    "    else:\n",
    "        return binary(arr, tar, mid + 1,end)\n",
    "\n",
    "n = int(input())\n",
    "lst = list(map(int, input().split()))\n",
    "m = int(input())\n",
    "target = list(map(int, input().split()))\n",
    "\n",
    "lst.sort()\n",
    "\n",
    "for i in range(len(target)):\n",
    "    print(binary(lst, target[i],0,n-1),end=' ')"
   ]
  },
  {
   "cell_type": "markdown",
   "id": "23ac6c84",
   "metadata": {},
   "source": [
    "#### set 활용"
   ]
  },
  {
   "cell_type": "code",
   "execution_count": 42,
   "id": "07782631",
   "metadata": {
    "ExecuteTime": {
     "end_time": "2023-02-21T07:35:44.918606Z",
     "start_time": "2023-02-21T07:35:33.145457Z"
    }
   },
   "outputs": [
    {
     "name": "stdout",
     "output_type": "stream",
     "text": [
      "5\n",
      "8 3 7 9 2\n",
      "3\n",
      "5 7 9\n",
      "no yes yes "
     ]
    }
   ],
   "source": [
    "n = int(input())\n",
    "array = list(map(int,input().split()))\n",
    "\n",
    "m = int(input())\n",
    "x = list(map(int, input().split()))\n",
    "\n",
    "for i in x:\n",
    "    if i in array:\n",
    "        print('yes', end=' ')\n",
    "    else:\n",
    "        print('no', end=' ')"
   ]
  },
  {
   "cell_type": "markdown",
   "id": "f361dc87",
   "metadata": {},
   "source": [
    "# 떡볶이 떡 만들기"
   ]
  },
  {
   "cell_type": "code",
   "execution_count": 67,
   "id": "6cd17456",
   "metadata": {
    "ExecuteTime": {
     "end_time": "2023-02-21T08:43:25.660374Z",
     "start_time": "2023-02-21T08:43:17.876281Z"
    }
   },
   "outputs": [
    {
     "name": "stdout",
     "output_type": "stream",
     "text": [
      "4 6\n",
      "19 15 10 17\n",
      "15\n"
     ]
    }
   ],
   "source": [
    "n, m = map(int, input().split())\n",
    "lst = list(map(int,input().split()))\n",
    "\n",
    "start = 0\n",
    "end = max(lst)\n",
    "result = 0\n",
    "\n",
    "while(start <= end):\n",
    "    total = 0\n",
    "    mid = (start + end) // 2\n",
    "    for x in lst:\n",
    "        if x > mid:\n",
    "            total += x - mid\n",
    "    if total < m:\n",
    "        end = mid - 1\n",
    "    else:\n",
    "        result = mid\n",
    "        start = mid +1\n",
    "print(result)"
   ]
  }
 ],
 "metadata": {
  "kernelspec": {
   "display_name": "Python 3 (ipykernel)",
   "language": "python",
   "name": "python3"
  },
  "language_info": {
   "codemirror_mode": {
    "name": "ipython",
    "version": 3
   },
   "file_extension": ".py",
   "mimetype": "text/x-python",
   "name": "python",
   "nbconvert_exporter": "python",
   "pygments_lexer": "ipython3",
   "version": "3.8.13"
  }
 },
 "nbformat": 4,
 "nbformat_minor": 5
}
