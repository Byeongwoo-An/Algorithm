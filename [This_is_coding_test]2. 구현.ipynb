{
 "cells": [
  {
   "cell_type": "markdown",
   "id": "9b57a87f",
   "metadata": {},
   "source": [
    "# 상하좌우"
   ]
  },
  {
   "cell_type": "code",
   "execution_count": 47,
   "id": "86fc90f0",
   "metadata": {
    "ExecuteTime": {
     "end_time": "2023-01-09T09:55:12.129152Z",
     "start_time": "2023-01-09T09:55:07.648303Z"
    }
   },
   "outputs": [
    {
     "name": "stdout",
     "output_type": "stream",
     "text": [
      "5\n",
      "R R R U D D\n",
      "3 4\n"
     ]
    }
   ],
   "source": [
    "n = int(input())\n",
    "a = list(map(str, input().split()))\n",
    "init = [1,1]\n",
    "for i in a:\n",
    "    if i == 'R':\n",
    "        init[1] += 1\n",
    "    elif i == 'L':\n",
    "        init[1] -= 1\n",
    "    elif i == 'U':\n",
    "        init[0] -= 1\n",
    "    else:\n",
    "        init[0] += 1\n",
    "    \n",
    "    if init[0] >= n:\n",
    "        init[0] -= 1\n",
    "    elif init[1] >= n:\n",
    "        init[1] -= 1\n",
    "    elif init[0] <= 0:\n",
    "        init[0] += 1\n",
    "    elif init[1] <= 0:\n",
    "        init[1] += 1\n",
    "    else:\n",
    "        pass\n",
    "print(*init)"
   ]
  },
  {
   "cell_type": "code",
   "execution_count": 221,
   "id": "7166ab88",
   "metadata": {
    "ExecuteTime": {
     "end_time": "2023-01-10T02:23:11.962038Z",
     "start_time": "2023-01-10T02:23:08.328168Z"
    }
   },
   "outputs": [
    {
     "name": "stdout",
     "output_type": "stream",
     "text": [
      "5\n",
      "R R R U D D\n",
      "3 4\n"
     ]
    }
   ],
   "source": [
    "# N 입력받기\n",
    "n = int(input())\n",
    "x, y = 1, 1\n",
    "plans = input().split()\n",
    "\n",
    "# L, R, U, D에 따른 이동 방향\n",
    "dx = [0, 0, -1, 1]\n",
    "dy = [-1, 1, 0, 0]\n",
    "move_types = ['L', 'R', 'U', 'D']\n",
    "\n",
    "# 이동 계획을 하나씩 확인\n",
    "for plan in plans:\n",
    "    # 이동 후 좌표 구하기\n",
    "    for i in range(len(move_types)):\n",
    "        if plan == move_types[i]:\n",
    "            nx = x + dx[i]\n",
    "            ny = y + dy[i]\n",
    "    # 공간을 벗어나는 경우 무시\n",
    "    if nx < 1 or ny < 1 or nx > n or ny > n:\n",
    "        continue\n",
    "    # 이동 수행\n",
    "    x, y = nx, ny\n",
    "\n",
    "print(x, y)"
   ]
  },
  {
   "cell_type": "code",
   "execution_count": 224,
   "id": "bcdd4f45",
   "metadata": {
    "ExecuteTime": {
     "end_time": "2023-01-10T03:56:26.090854Z",
     "start_time": "2023-01-10T03:56:21.362622Z"
    }
   },
   "outputs": [
    {
     "name": "stdout",
     "output_type": "stream",
     "text": [
      "5\n",
      "R R R U D D\n",
      "3 4\n"
     ]
    }
   ],
   "source": [
    "n = int(input())\n",
    "a = list(map(str, input().split()))\n",
    "init_x, init_y = 1,1\n",
    "for i in a:\n",
    "    if i == 'R':\n",
    "        new_x = init_x\n",
    "        new_y = init_y + 1\n",
    "    elif i == 'L':\n",
    "        new_x = init_x\n",
    "        new_y = init_y - 1\n",
    "    elif i == 'U':\n",
    "        new_y = init_y\n",
    "        new_x = init_x - 1\n",
    "    else:\n",
    "        new_y = init_y\n",
    "        new_x = init_x + 1\n",
    "        \n",
    "    if new_x < 1 | new_y < 1 | new_y > n | new_x > n:\n",
    "        continue\n",
    "    init_x, init_y = new_x, new_y\n",
    "print(x,y)"
   ]
  },
  {
   "cell_type": "markdown",
   "id": "543d50dc",
   "metadata": {},
   "source": [
    "# 시각"
   ]
  },
  {
   "cell_type": "code",
   "execution_count": 134,
   "id": "10a75752",
   "metadata": {
    "ExecuteTime": {
     "end_time": "2023-01-09T12:55:23.065507Z",
     "start_time": "2023-01-09T12:55:22.509891Z"
    }
   },
   "outputs": [
    {
     "name": "stdout",
     "output_type": "stream",
     "text": [
      "5\n",
      "11475\n"
     ]
    }
   ],
   "source": [
    "n = int(input())\n",
    "\n",
    "m = list(range(0,60,1))\n",
    "s = list(range(0,60,1))\n",
    "cnt = 0\n",
    "for i in range(n+1):\n",
    "    for j in m:\n",
    "        for k in s:\n",
    "            if '3' in (str(i)):\n",
    "                cnt += 1\n",
    "                pass\n",
    "            elif '3' in (str(j)):\n",
    "                cnt += 1\n",
    "                pass\n",
    "            elif '3' in (str(k)):\n",
    "                cnt += 1\n",
    "                pass\n",
    "            else:\n",
    "                pass\n",
    "print(cnt)"
   ]
  },
  {
   "cell_type": "code",
   "execution_count": 135,
   "id": "9bcdd113",
   "metadata": {
    "ExecuteTime": {
     "end_time": "2023-01-09T12:55:25.279629Z",
     "start_time": "2023-01-09T12:55:24.797724Z"
    }
   },
   "outputs": [
    {
     "name": "stdout",
     "output_type": "stream",
     "text": [
      "5\n",
      "11475\n"
     ]
    }
   ],
   "source": [
    "n = int(input())\n",
    "\n",
    "m = list(range(0,60,1))\n",
    "s = list(range(0,60,1))\n",
    "cnt = 0\n",
    "for i in range(n+1):\n",
    "    for j in m:\n",
    "        for k in s:\n",
    "            if '3' in (str(i)+str(j)+str(k)):\n",
    "                cnt += 1\n",
    "print(cnt)"
   ]
  },
  {
   "cell_type": "markdown",
   "id": "4d3af67d",
   "metadata": {},
   "source": [
    "# 왕실의 나이트"
   ]
  },
  {
   "cell_type": "code",
   "execution_count": 217,
   "id": "799b811e",
   "metadata": {
    "ExecuteTime": {
     "end_time": "2023-01-09T16:00:26.454605Z",
     "start_time": "2023-01-09T16:00:25.700259Z"
    }
   },
   "outputs": [
    {
     "name": "stdout",
     "output_type": "stream",
     "text": [
      "a1\n",
      "2\n"
     ]
    }
   ],
   "source": [
    "loc = str(input())\n",
    "x = list(range(1,9,1))\n",
    "y = list(range(1,9,1))\n",
    "trans = {'a':1,'b':2,'c':3,'d':4,'e':5,'f':6,'g':7,'h':8}\n",
    "init_x = trans[loc[0]]\n",
    "init_y = int(loc[1])\n",
    "move_x = [2,-2,1,-1]\n",
    "move_y = [1,-1,2,-2]\n",
    "new = []\n",
    "for i in move_x:\n",
    "    for j in move_y:\n",
    "        if abs(i) != abs(j):\n",
    "            moved_x = init_x + i\n",
    "            moved_y = init_y + j\n",
    "            new.append([moved_x,moved_y])\n",
    "cnt = 0\n",
    "for i in range(len(new)):\n",
    "    if (new[i][0] > 8) | (new[i][0]< 1):\n",
    "        cnt += 1\n",
    "    elif (new[i][1] > 8) | (new[i][1]< 1):\n",
    "        cnt += 1\n",
    "    else:\n",
    "        pass\n",
    "print(len(new) - cnt)"
   ]
  },
  {
   "cell_type": "code",
   "execution_count": 218,
   "id": "73c5c0bc",
   "metadata": {
    "ExecuteTime": {
     "end_time": "2023-01-09T16:00:28.968438Z",
     "start_time": "2023-01-09T16:00:28.232963Z"
    }
   },
   "outputs": [
    {
     "name": "stdout",
     "output_type": "stream",
     "text": [
      "a1\n",
      "2\n"
     ]
    }
   ],
   "source": [
    "# 현재 나이트의 위치 입력받기\n",
    "input_data = input()\n",
    "row = int(input_data[1])\n",
    "# 알파벳 숫자로 바꾸기 아스키 코드 활용\n",
    "column = int(ord(input_data[0])) - int(ord('a')) + 1\n",
    "\n",
    "# 나이트가 이동할 수 있는 8가지 방향 정의\n",
    "steps = [(-2, -1), (-1, -2), (1, -2), (2, -1), (2, 1), (1, 2), (-1, 2), (-2, 1)]\n",
    "\n",
    "# 8가지 방향에 대하여 각 위치로 이동이 가능한지 확인\n",
    "result = 0\n",
    "for step in steps:\n",
    "    # 이동하고자 하는 위치 확인\n",
    "    next_row = row + step[0]\n",
    "    next_column = column + step[1]\n",
    "    # 해당 위치로 이동이 가능하다면 카운트 증가\n",
    "    if next_row >= 1 and next_row <= 8 and next_column >= 1 and next_column <= 8:\n",
    "        result += 1\n",
    "\n",
    "print(result)"
   ]
  },
  {
   "cell_type": "code",
   "execution_count": 179,
   "id": "18843901",
   "metadata": {
    "ExecuteTime": {
     "end_time": "2023-01-09T15:46:18.976901Z",
     "start_time": "2023-01-09T15:46:18.966801Z"
    }
   },
   "outputs": [],
   "source": [
    "# pop은 인덱스, remove는 값 입력"
   ]
  },
  {
   "cell_type": "markdown",
   "id": "49883e21",
   "metadata": {},
   "source": [
    "# 게임 개발"
   ]
  },
  {
   "cell_type": "code",
   "execution_count": 262,
   "id": "ededd9cb",
   "metadata": {
    "ExecuteTime": {
     "end_time": "2023-01-10T05:29:10.641028Z",
     "start_time": "2023-01-10T05:29:10.635022Z"
    }
   },
   "outputs": [],
   "source": [
    "# 못풀었음"
   ]
  },
  {
   "cell_type": "code",
   "execution_count": 271,
   "id": "7a5e71c2",
   "metadata": {
    "ExecuteTime": {
     "end_time": "2023-01-10T05:46:28.904486Z",
     "start_time": "2023-01-10T05:46:12.452075Z"
    }
   },
   "outputs": [
    {
     "name": "stdout",
     "output_type": "stream",
     "text": [
      "4 4\n",
      "1 1 0\n",
      "1 1 1 1\n",
      "1 0 0 1\n",
      "1 1 0 1\n",
      "1 1 1 1\n",
      "3\n"
     ]
    }
   ],
   "source": [
    "n, m = map(int,input().split())\n",
    "d = [[0] * m for _ in range(n)]\n",
    "x, y, direction = map(int,input().split())\n",
    "d[x][y] = 1\n",
    "array = []\n",
    "for i in range(n):\n",
    "    array.append(list(map(int,input().split())))\n",
    "dx = [-1,0,1,0]\n",
    "dy = [0,1,0,-1]\n",
    "def turn_left():\n",
    "    global direction\n",
    "    direction -= 1\n",
    "    if direction == -1:\n",
    "        direction = 3\n",
    "count = 1\n",
    "turn_time = 0\n",
    "while True:\n",
    "    turn_left()\n",
    "    nx = x + dx[direction]\n",
    "    ny = y + dy[direction]\n",
    "    if d[nx][ny] == 0 and array[nx][ny] == 0:\n",
    "        d[nx][ny] = 1\n",
    "        x = nx\n",
    "        y = ny\n",
    "        count += 1\n",
    "        turn_time = 0\n",
    "        continue\n",
    "    else:\n",
    "        turn_time += 1\n",
    "    if turn_time == 4:\n",
    "        nx = x - dx[direction]\n",
    "        ny = y - dy[direction]\n",
    "        \n",
    "        if array[nx][ny] == 0:\n",
    "            x = nx\n",
    "            y = ny\n",
    "        else:\n",
    "            break\n",
    "        turn_time = 0\n",
    "print(count)"
   ]
  }
 ],
 "metadata": {
  "kernelspec": {
   "display_name": "Python 3 (ipykernel)",
   "language": "python",
   "name": "python3"
  },
  "language_info": {
   "codemirror_mode": {
    "name": "ipython",
    "version": 3
   },
   "file_extension": ".py",
   "mimetype": "text/x-python",
   "name": "python",
   "nbconvert_exporter": "python",
   "pygments_lexer": "ipython3",
   "version": "3.8.13"
  }
 },
 "nbformat": 4,
 "nbformat_minor": 5
}
