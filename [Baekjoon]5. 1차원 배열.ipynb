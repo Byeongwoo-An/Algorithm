{
 "cells": [
  {
   "cell_type": "markdown",
   "metadata": {},
   "source": [
    "# 10818"
   ]
  },
  {
   "cell_type": "code",
   "execution_count": 18,
   "metadata": {},
   "outputs": [
    {
     "name": "stdout",
     "output_type": "stream",
     "text": [
      "5\n",
      "20 10 35 30 7\n",
      "7 35\n"
     ]
    }
   ],
   "source": [
    "N = int(input())\n",
    "a = map(int,input().split())\n",
    "b = list(a)\n",
    "print(min(b),max(b))"
   ]
  },
  {
   "cell_type": "markdown",
   "metadata": {},
   "source": [
    "# 2562"
   ]
  },
  {
   "cell_type": "code",
   "execution_count": 38,
   "metadata": {},
   "outputs": [
    {
     "name": "stdout",
     "output_type": "stream",
     "text": [
      "3\n",
      "29\n",
      "38\n",
      "12\n",
      "57\n",
      "74\n",
      "40\n",
      "85\n",
      "61\n",
      "85\n",
      "8\n"
     ]
    }
   ],
   "source": [
    "lst = []\n",
    "for _ in range(9):\n",
    "    a = int(input())\n",
    "    lst.append(a)\n",
    "print(max(lst))\n",
    "print(lst.index(max(lst))+1)"
   ]
  },
  {
   "cell_type": "code",
   "execution_count": 39,
   "metadata": {},
   "outputs": [
    {
     "name": "stdout",
     "output_type": "stream",
     "text": [
      "3\n",
      "29\n",
      "38\n",
      "12\n",
      "57\n",
      "74\n",
      "40\n",
      "85\n",
      "61\n",
      "85\n",
      "8\n"
     ]
    }
   ],
   "source": [
    "lst = []\n",
    "for _ in range(9):\n",
    "    lst.append(int(input()))\n",
    "print(max(lst))\n",
    "print(lst.index(max(lst))+1)"
   ]
  },
  {
   "cell_type": "markdown",
   "metadata": {},
   "source": [
    "# 2577"
   ]
  },
  {
   "cell_type": "code",
   "execution_count": 63,
   "metadata": {},
   "outputs": [
    {
     "name": "stdout",
     "output_type": "stream",
     "text": [
      "150\n",
      "266\n",
      "427\n",
      "3\n",
      "1\n",
      "0\n",
      "2\n",
      "0\n",
      "0\n",
      "0\n",
      "2\n",
      "0\n",
      "0\n"
     ]
    }
   ],
   "source": [
    "A = int(input())\n",
    "B = int(input())\n",
    "C = int(input())\n",
    "D = A*B*C\n",
    "_0 = 0\n",
    "_1 = 0\n",
    "_2 = 0\n",
    "_3 = 0\n",
    "_4 = 0\n",
    "_5 = 0\n",
    "_6 = 0\n",
    "_7 = 0\n",
    "_8 = 0\n",
    "_9 = 0\n",
    "for i in str(D):\n",
    "    if i == '0':\n",
    "        _0 += 1\n",
    "    elif i == '1':\n",
    "        _1 += 1\n",
    "    elif i == '2':\n",
    "        _2 += 1\n",
    "    elif i == '3':\n",
    "        _3 += 1\n",
    "    elif i == '4':\n",
    "        _4 += 1\n",
    "    elif i == '5':\n",
    "        _5 += 1\n",
    "    elif i == '6':\n",
    "        _6 += 1\n",
    "    elif i == '7':\n",
    "        _7 += 1\n",
    "    elif i == '8':\n",
    "        _8 += 1\n",
    "    else:\n",
    "        _9 += 1\n",
    "print(_0)\n",
    "print(_1)\n",
    "print(_2)\n",
    "print(_3)\n",
    "print(_4)\n",
    "print(_5)\n",
    "print(_6)\n",
    "print(_7)\n",
    "print(_8)\n",
    "print(_9)"
   ]
  },
  {
   "cell_type": "code",
   "execution_count": 4,
   "metadata": {},
   "outputs": [
    {
     "name": "stdout",
     "output_type": "stream",
     "text": [
      "150\n",
      "266\n",
      "427\n",
      "3\n",
      "1\n",
      "0\n",
      "2\n",
      "0\n",
      "0\n",
      "0\n",
      "2\n",
      "0\n",
      "0\n"
     ]
    }
   ],
   "source": [
    "A = int(input())\n",
    "B = int(input())\n",
    "C = int(input())\n",
    "D = list(str(A*B*C))\n",
    "for i in range(10):\n",
    "    print(D.count(str(i)))"
   ]
  },
  {
   "cell_type": "markdown",
   "metadata": {},
   "source": [
    "# 3052"
   ]
  },
  {
   "cell_type": "code",
   "execution_count": 17,
   "metadata": {},
   "outputs": [
    {
     "name": "stdout",
     "output_type": "stream",
     "text": [
      "39\n",
      "40\n",
      "41\n",
      "42\n",
      "43\n",
      "44\n",
      "82\n",
      "83\n",
      "84\n",
      "85\n",
      "6\n"
     ]
    }
   ],
   "source": [
    "lst = []\n",
    "for i in range(10):\n",
    "    A = int(input())\n",
    "    lst.append(A%42)\n",
    "print(len(set(lst)))"
   ]
  },
  {
   "cell_type": "markdown",
   "metadata": {},
   "source": [
    "# 1546"
   ]
  },
  {
   "cell_type": "code",
   "execution_count": 45,
   "metadata": {},
   "outputs": [
    {
     "name": "stdout",
     "output_type": "stream",
     "text": [
      "3\n",
      "40 80 60\n",
      "75.0\n"
     ]
    }
   ],
   "source": [
    "N = int(input())\n",
    "score = list(map(int,input().split()))\n",
    "lst = []\n",
    "for i in score:\n",
    "    a = (i/max(score)) *100\n",
    "    lst.append(a)\n",
    "print(sum(lst)/len(lst))"
   ]
  },
  {
   "cell_type": "code",
   "execution_count": 48,
   "metadata": {},
   "outputs": [
    {
     "name": "stdout",
     "output_type": "stream",
     "text": [
      "3\n",
      "40 80 60\n",
      "75.0\n"
     ]
    }
   ],
   "source": [
    "N = int(input())\n",
    "score = list(map(int,input().split()))\n",
    "print((sum(score)/max(score) * 100)/N)"
   ]
  },
  {
   "cell_type": "markdown",
   "metadata": {},
   "source": [
    "# 8958"
   ]
  },
  {
   "cell_type": "code",
   "execution_count": 82,
   "metadata": {},
   "outputs": [
    {
     "name": "stdout",
     "output_type": "stream",
     "text": [
      "5\n",
      "OOXXOXXOOO\n",
      "10\n",
      "OOXXOOXXOO\n",
      "9\n",
      "OXOXOXOXOXOXOX\n",
      "7\n",
      "OOOOOOOOOO\n",
      "55\n",
      "OOOOXOOOOXOOOOX\n",
      "30\n"
     ]
    }
   ],
   "source": [
    "N = int(input())\n",
    "for _ in range(N):\n",
    "    a = input()\n",
    "    count = 0\n",
    "    lst = []\n",
    "    for i in a:\n",
    "        if i == 'O':\n",
    "            count += 1\n",
    "            lst.append(count)\n",
    "        else:\n",
    "            count = 0\n",
    "            lst.append(count)\n",
    "    print(sum(lst))"
   ]
  },
  {
   "cell_type": "markdown",
   "metadata": {},
   "source": [
    "# 4344"
   ]
  },
  {
   "cell_type": "code",
   "execution_count": 101,
   "metadata": {},
   "outputs": [
    {
     "name": "stdout",
     "output_type": "stream",
     "text": [
      "5\n",
      "5 50 50 70 80 100\n",
      "40.000%\n",
      "7 100 95 90 80 70 60 50\n",
      "57.143%\n",
      "3 70 90 80\n",
      "33.333%\n",
      "3 70 90 81\n",
      "66.667%\n",
      "9 100 99 98 97 96 95 94 93 91\n",
      "55.556%\n"
     ]
    }
   ],
   "source": [
    "C = int(input())\n",
    "for _ in range(C):\n",
    "    N = list(map(int,input().split()))\n",
    "    count = 0\n",
    "    for i in N[1:]:\n",
    "        if i > sum(N[1:])/(len(N)-1):\n",
    "            count += 1\n",
    "    print('{:.3f}%'.format(round((count/(len(N)-1))*100,3)))"
   ]
  }
 ],
 "metadata": {
  "kernelspec": {
   "display_name": "Python 3",
   "language": "python",
   "name": "python3"
  },
  "language_info": {
   "codemirror_mode": {
    "name": "ipython",
    "version": 3
   },
   "file_extension": ".py",
   "mimetype": "text/x-python",
   "name": "python",
   "nbconvert_exporter": "python",
   "pygments_lexer": "ipython3",
   "version": "3.7.6"
  }
 },
 "nbformat": 4,
 "nbformat_minor": 4
}
