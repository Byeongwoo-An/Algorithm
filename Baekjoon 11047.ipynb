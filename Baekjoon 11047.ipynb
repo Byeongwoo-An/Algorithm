{
 "cells": [
  {
   "cell_type": "markdown",
   "id": "864877a8",
   "metadata": {},
   "source": [
    "# 11047 동전0"
   ]
  },
  {
   "cell_type": "code",
   "execution_count": 17,
   "id": "c2c26b30",
   "metadata": {
    "ExecuteTime": {
     "end_time": "2023-07-29T10:35:13.438253Z",
     "start_time": "2023-07-29T10:34:55.229338Z"
    }
   },
   "outputs": [
    {
     "name": "stdout",
     "output_type": "stream",
     "text": [
      "10 4790\n",
      "1\n",
      "5\n",
      "10\n",
      "50\n",
      "100\n",
      "500\n",
      "1000\n",
      "5000\n",
      "10000\n",
      "50000\n",
      "12\n"
     ]
    }
   ],
   "source": [
    "n, k = map(int, input().split())\n",
    "coin = []\n",
    "for _ in range(n):\n",
    "    tmp = int(input())\n",
    "    coin.append(tmp)\n",
    "cnt = 0\n",
    "for i in coin[::-1]:\n",
    "    cnt += k // i\n",
    "    k %= i\n",
    "print(cnt)"
   ]
  }
 ],
 "metadata": {
  "kernelspec": {
   "display_name": "free",
   "language": "python",
   "name": "free"
  },
  "language_info": {
   "codemirror_mode": {
    "name": "ipython",
    "version": 3
   },
   "file_extension": ".py",
   "mimetype": "text/x-python",
   "name": "python",
   "nbconvert_exporter": "python",
   "pygments_lexer": "ipython3",
   "version": "3.8.13"
  }
 },
 "nbformat": 4,
 "nbformat_minor": 5
}
