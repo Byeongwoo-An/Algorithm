{
 "cells": [
  {
   "cell_type": "markdown",
   "id": "f156e96f",
   "metadata": {},
   "source": [
    "# 이분 탐색"
   ]
  },
  {
   "cell_type": "code",
   "execution_count": 491,
   "id": "b196985c",
   "metadata": {},
   "outputs": [
    {
     "name": "stdout",
     "output_type": "stream",
     "text": [
      "30 57\n",
      "6 32 38 1 28 76 51 8 98 88 74 60 65 57 97 63 56 99 85 5 13 100 61 36 44 50 62 41 91 9 \n",
      "16\n"
     ]
    }
   ],
   "source": [
    "t, m = map(int, input().split())\n",
    "n = list(map(int, input().split()))\n",
    "n.sort()\n",
    "n\n",
    "lt = 0\n",
    "rt = t-1\n",
    "while lt<=rt:\n",
    "    mid = (lt+rt)//2\n",
    "    if n[mid] == m:\n",
    "        print(mid+1)\n",
    "        break\n",
    "    elif n[mid]>m:\n",
    "        rt = mid - 1\n",
    "    else:\n",
    "        lt = mid + 1"
   ]
  },
  {
   "cell_type": "markdown",
   "id": "cc8ab343",
   "metadata": {},
   "source": [
    "# 랜선자르기"
   ]
  },
  {
   "cell_type": "code",
   "execution_count": 492,
   "id": "332d7e4f",
   "metadata": {},
   "outputs": [
    {
     "name": "stdout",
     "output_type": "stream",
     "text": [
      "5 10\n",
      "273\n",
      "401\n",
      "753\n",
      "345\n",
      "105\n",
      "150\n"
     ]
    }
   ],
   "source": [
    "k, n = map(int, input().split())\n",
    "lst = []\n",
    "for i in range(k):\n",
    "    ele = int(input())\n",
    "    lst.append(ele)\n",
    "lt = 1\n",
    "rt = max(lst)\n",
    "total = []\n",
    "while lt <= rt:\n",
    "    mid = (lt+rt)//2\n",
    "    cnt = 0\n",
    "    for i in lst:\n",
    "        cnt += i//mid\n",
    "    if cnt>=n:\n",
    "        total.append(mid)\n",
    "        lt = mid+1\n",
    "    else:\n",
    "        rt = mid-1\n",
    "print(max(total))"
   ]
  },
  {
   "cell_type": "markdown",
   "id": "ea31f2d8",
   "metadata": {},
   "source": [
    "# 뮤직비디오"
   ]
  },
  {
   "cell_type": "code",
   "execution_count": 493,
   "id": "8e8277dd",
   "metadata": {},
   "outputs": [
    {
     "name": "stdout",
     "output_type": "stream",
     "text": [
      "10 3\n",
      "6 5 8 5 6 8 7 6 6 7 \n",
      "24\n"
     ]
    }
   ],
   "source": [
    "n, m = map(int, input().split())\n",
    "length = list(map(int, input().split()))\n",
    "lt = length[0]\n",
    "rt = sum(length)\n",
    "\n",
    "def dvd(mid):\n",
    "    cnt = 1\n",
    "    summ = 0\n",
    "    for i in length:\n",
    "        if summ+i>mid:\n",
    "            cnt += 1\n",
    "            summ = i\n",
    "        else:\n",
    "            summ += i\n",
    "    return cnt\n",
    "\n",
    "total = []\n",
    "while lt <= rt:\n",
    "    mid = (lt+rt)//2\n",
    "    if dvd(mid) <= m:\n",
    "        total.append(mid)\n",
    "        rt = mid - 1\n",
    "    else:\n",
    "        lt = mid + 1\n",
    "print(min(total))"
   ]
  },
  {
   "cell_type": "markdown",
   "id": "76b9848f",
   "metadata": {},
   "source": [
    "# 마구간 정하기"
   ]
  },
  {
   "cell_type": "code",
   "execution_count": 226,
   "id": "01ac2087",
   "metadata": {},
   "outputs": [
    {
     "name": "stdout",
     "output_type": "stream",
     "text": [
      "5 3\n",
      "1\n",
      "2\n",
      "8\n",
      "4\n",
      "9\n",
      "3\n"
     ]
    }
   ],
   "source": [
    "n, c = map(int, input().split())\n",
    "xi = []\n",
    "for i in range(n):\n",
    "    d = int(input())\n",
    "    xi.append(d)\n",
    "xi.sort()\n",
    "lt = xi[0]\n",
    "rt = xi[-1]\n",
    "\n",
    "def count(lenn):\n",
    "    cnt = 1\n",
    "    endpoint=xi[0]\n",
    "    for i in range(n):\n",
    "        if xi[i]-endpoint>=lenn:\n",
    "            cnt += 1\n",
    "            endpoint=xi[i]\n",
    "    return cnt\n",
    "\n",
    "while lt<=rt:\n",
    "    mid = (lt+rt)//2\n",
    "    if count(mid)>=c:\n",
    "        res = mid\n",
    "        lt = mid+1\n",
    "    else:\n",
    "        rt = mid-1\n",
    "print(res)"
   ]
  },
  {
   "cell_type": "markdown",
   "id": "48de1bb1",
   "metadata": {},
   "source": [
    "# 회의실 배정"
   ]
  },
  {
   "cell_type": "code",
   "execution_count": 246,
   "id": "11202a80",
   "metadata": {},
   "outputs": [
    {
     "name": "stdout",
     "output_type": "stream",
     "text": [
      "5\n",
      "1 4\n",
      "2 3\n",
      "3 5\n",
      "4 6\n",
      "5 7\n",
      "3\n"
     ]
    }
   ],
   "source": [
    "n = int(input())\n",
    "lst = []\n",
    "for i in range(n):\n",
    "    s,e = map(int, input().split())\n",
    "    lst.append((s,e))\n",
    "lst.sort(key=lambda x:(x[1],x[0]))\n",
    "et = 0\n",
    "cnt = 0\n",
    "for s,e in lst:\n",
    "    if s >= et:\n",
    "        cnt += 1\n",
    "        et = e\n",
    "print(cnt)"
   ]
  },
  {
   "cell_type": "markdown",
   "id": "389eda5b",
   "metadata": {},
   "source": [
    "# 씨름 선수"
   ]
  },
  {
   "cell_type": "code",
   "execution_count": 257,
   "id": "ca42aa31",
   "metadata": {},
   "outputs": [
    {
     "name": "stdout",
     "output_type": "stream",
     "text": [
      "5\n",
      "172 67\n",
      "183 65\n",
      "180 70\n",
      "170 72\n",
      "181 60\n",
      "3\n"
     ]
    }
   ],
   "source": [
    "n = int(input())\n",
    "lst = []\n",
    "for i in range(n):\n",
    "    h,w = map(int, input().split())\n",
    "    lst.append((h,w))\n",
    "lst.sort(reverse=True)\n",
    "weight = 0\n",
    "cnt = 0\n",
    "for h,w in lst:\n",
    "    if w > weight:\n",
    "        cnt += 1\n",
    "        weight = w\n",
    "print(cnt)"
   ]
  },
  {
   "cell_type": "markdown",
   "id": "a171e792",
   "metadata": {},
   "source": [
    "# 창고 정리"
   ]
  },
  {
   "cell_type": "code",
   "execution_count": 312,
   "id": "41fc25f0",
   "metadata": {},
   "outputs": [
    {
     "name": "stdout",
     "output_type": "stream",
     "text": [
      "100\n",
      "64 75 66 52 11 57 87 92 92 28 51 88 78 97 26 49 56 69 99 61 77 60 30 78 31 77 44 55 98 97 61 26 15 85 24 40 75 87 36 81 75 75 57 32 40 54 88 10 68 17 48 72 67 11 73 20 22 56 85 24 53 38 83 53 70 94 24 64 91 80 60 46 57 49 73 59 20 48 48 37 98 89 10 85 46 13 53 44 46 85 21 13 87 39 19 97 58 80 66 37 \n",
      "120\n",
      "62\n"
     ]
    }
   ],
   "source": [
    "l = int(input())\n",
    "box = list(map(int,input().split()))\n",
    "m = int(input())\n",
    "box.sort()\n",
    "for i in range(m):\n",
    "    box[-1] = box[-1] -1\n",
    "    box[0] = box[0] + 1\n",
    "    box.sort()\n",
    "print(box[-1] - box[0])"
   ]
  },
  {
   "cell_type": "markdown",
   "id": "d14e2d83",
   "metadata": {},
   "source": [
    "# 침몰하는 타이타닉"
   ]
  },
  {
   "cell_type": "code",
   "execution_count": 379,
   "id": "64d91dc8",
   "metadata": {},
   "outputs": [
    {
     "name": "stdout",
     "output_type": "stream",
     "text": [
      "10 150\n",
      "86 95 107 67 38 49 116 22 78 53\n",
      "5\n"
     ]
    }
   ],
   "source": [
    "n,m= map(int, input().split())\n",
    "w = list(map(int,input().split()))\n",
    "w.sort()\n",
    "\n",
    "cnt = 0\n",
    "while w:\n",
    "    if len(w)==1:\n",
    "        cnt+=1\n",
    "        break\n",
    "    if w[0]+w[-1]>m:\n",
    "        w.pop()\n",
    "        cnt+=1\n",
    "    else:\n",
    "        w.pop(0)\n",
    "        w.pop()\n",
    "        cnt+=1\n",
    "print(cnt)"
   ]
  },
  {
   "cell_type": "markdown",
   "id": "ca872e7d",
   "metadata": {},
   "source": [
    "# 증가수열 만들기"
   ]
  },
  {
   "cell_type": "markdown",
   "id": "98658b17",
   "metadata": {},
   "source": [
    "##### Myself"
   ]
  },
  {
   "cell_type": "code",
   "execution_count": 296,
   "id": "daa7c9a4",
   "metadata": {},
   "outputs": [
    {
     "name": "stdout",
     "output_type": "stream",
     "text": [
      "5\n",
      "1 2 3 4 5\n",
      "5\n",
      "LLLLL\n"
     ]
    }
   ],
   "source": [
    "length = int(input())\n",
    "lst = list(map(int, input().split()))\n",
    "\n",
    "lt = 0\n",
    "rt = length-1\n",
    "last = 0\n",
    "seq = \"\"\n",
    "temp = []\n",
    "while lt<=rt:\n",
    "    if (lst[lt]<lst[rt] and lst[lt]>last):\n",
    "        temp.append(lst[lt])\n",
    "        seq += \"L\"\n",
    "        last = lst[lt]\n",
    "        lt += 1\n",
    "    elif (lst[lt]<lst[rt] and lst[lt]<last and lst[rt]>last):\n",
    "        temp.append(lst[rt])\n",
    "        seq += \"R\"\n",
    "        last = lst[rt]\n",
    "        rt -= 1\n",
    "    else:\n",
    "        pass\n",
    "    if (lst[rt]<lst[lt] and lst[rt]>last):\n",
    "        temp.append(lst[rt])\n",
    "        seq += \"R\"\n",
    "        last = lst[rt]\n",
    "        rt -= 1\n",
    "    elif (lst[rt]<lst[lt] and lst[rt]<last and lst[lt]>last):\n",
    "        temp.append(lst[lt])\n",
    "        seq += \"L\"\n",
    "        last = lst[lt]\n",
    "        lt += 1\n",
    "    if lst[lt] < last and lst[rt] < last:\n",
    "        break\n",
    "    if lst[lt] == lst[rt]:\n",
    "        temp.append(lst[lt])\n",
    "        seq += \"L\"\n",
    "        break\n",
    "print(len(temp))\n",
    "print(seq)"
   ]
  },
  {
   "cell_type": "markdown",
   "id": "46428004",
   "metadata": {},
   "source": [
    "##### Solution"
   ]
  },
  {
   "cell_type": "code",
   "execution_count": 266,
   "id": "8c436fbd",
   "metadata": {},
   "outputs": [
    {
     "name": "stdout",
     "output_type": "stream",
     "text": [
      "5\n",
      "1 2 3 4 5\n",
      "5\n",
      "LLLLL\n"
     ]
    }
   ],
   "source": [
    "n = int(input())\n",
    "a = list(map(int, input().split()))\n",
    "\n",
    "lt = 0\n",
    "rt = n-1\n",
    "\n",
    "last = 0\n",
    "tmp = []\n",
    "s = ''\n",
    "\n",
    "while lt <= rt:\n",
    "    if a[lt] > last:\n",
    "        tmp.append((a[lt], 'L'))\n",
    "    if a[rt] > last:\n",
    "        tmp.append((a[rt], 'R'))\n",
    "    tmp.sort()\n",
    "\n",
    "    if len(tmp) == 0:\n",
    "        break\n",
    "    else:\n",
    "        s = s + tmp[0][1]\n",
    "        last = tmp[0][0]\n",
    "        if tmp[0][1] == 'L':\n",
    "            lt += 1\n",
    "        else:\n",
    "            rt -= 1\n",
    "    tmp.clear()\n",
    "\n",
    "print(len(s))\n",
    "print(s)"
   ]
  },
  {
   "cell_type": "markdown",
   "id": "0bb1a63f",
   "metadata": {},
   "source": [
    "# 역수열"
   ]
  },
  {
   "cell_type": "code",
   "execution_count": 488,
   "id": "a8d4d169",
   "metadata": {},
   "outputs": [
    {
     "name": "stdout",
     "output_type": "stream",
     "text": [
      "50\n",
      "6 21 9 23 2 7 23 0 25 4 16 13 35 2 2 14 2 11 18 1 19 5 1 11 4 17 8 11 16 1 13 15 17 2 14 7 9 5 5 7 2 0 5 1 5 2 0 1 0 0 \n",
      "8 42 5 20 14 15 1 10 17 6 3 23 30 47 34 22 25 41 44 12 49 18 2 11 38 16 4 27 39 7 24 36 46 9 28 19 48 37 21 40 31 26 43 29 50 32 35 13 45 33\n"
     ]
    }
   ],
   "source": [
    "n = int(input())\n",
    "re = list(map(int, input().split()))\n",
    "ori = list(range(1,n+1,1))\n",
    "rt = n-1\n",
    "temp = [0]*n\n",
    "\n",
    "while rt>=0:\n",
    "    if re[rt] == 0:\n",
    "        tempp = temp.copy()\n",
    "        for i in range(n-1):\n",
    "            temp[i+1] = tempp[i]\n",
    "            temp[0]=ori[rt]\n",
    "        rt -= 1\n",
    "    else:\n",
    "        tempp = temp.copy()\n",
    "        temp[re[rt]+1:] = tempp[re[rt]:]\n",
    "        temp[re[rt]] = ori[rt]\n",
    "        rt -= 1\n",
    "result = temp[:n]\n",
    "print(*result,sep=\" \")"
   ]
  }
 ],
 "metadata": {
  "kernelspec": {
   "display_name": "Python 3 (ipykernel)",
   "language": "python",
   "name": "python3"
  },
  "language_info": {
   "codemirror_mode": {
    "name": "ipython",
    "version": 3
   },
   "file_extension": ".py",
   "mimetype": "text/x-python",
   "name": "python",
   "nbconvert_exporter": "python",
   "pygments_lexer": "ipython3",
   "version": "3.9.7"
  }
 },
 "nbformat": 4,
 "nbformat_minor": 5
}
