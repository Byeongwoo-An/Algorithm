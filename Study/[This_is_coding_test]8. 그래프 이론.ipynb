{
 "cells": [
  {
   "cell_type": "markdown",
   "id": "1de17d5a",
   "metadata": {},
   "source": [
    "# 서로소 집합 알고리즘"
   ]
  },
  {
   "cell_type": "code",
   "execution_count": 3,
   "id": "9bb3e73d",
   "metadata": {
    "ExecuteTime": {
     "end_time": "2023-02-27T07:36:20.626241Z",
     "start_time": "2023-02-27T07:36:11.082881Z"
    }
   },
   "outputs": [
    {
     "name": "stdout",
     "output_type": "stream",
     "text": [
      "6 4\n",
      "1 4\n",
      "2 3\n",
      "2 4\n",
      "5 6\n",
      "각 원소가 속한 집합: 1 1 1 1 5 5 \n",
      "부모 테이블: 1 1 2 1 5 5 "
     ]
    }
   ],
   "source": [
    "def find_parent(parent, x):\n",
    "        if parent[x] != x:\n",
    "            return find_parent(parent, parent[x])\n",
    "        return x\n",
    "\n",
    "def union_parent(parent, a, b):\n",
    "    a = find_parent(parent, a)\n",
    "    b = find_parent(parent, b)\n",
    "    \n",
    "    if a < b:\n",
    "        parent[b] = a\n",
    "    else:\n",
    "        parent[a] = b\n",
    "\n",
    "v, e = map(int, input().split())\n",
    "parent = [0] * (v+1)\n",
    "\n",
    "for i in range(1, v+1):\n",
    "    parent[i] = i\n",
    "    \n",
    "for i in range(e):\n",
    "    a, b = map(int, input().split())\n",
    "    union_parent(parent, a, b)\n",
    "    \n",
    "print('각 원소가 속한 집합: ', end ='')\n",
    "for i in range(1, v+1):\n",
    "    print(find_parent(parent,i), end=' ')\n",
    "print()\n",
    "\n",
    "print('부모 테이블: ', end='')\n",
    "for i in range(1,v+1):\n",
    "    print(parent[i], end=' ')"
   ]
  },
  {
   "cell_type": "markdown",
   "id": "c45d41fc",
   "metadata": {},
   "source": [
    "# 경로 압축 기법"
   ]
  },
  {
   "cell_type": "code",
   "execution_count": 6,
   "id": "3c900631",
   "metadata": {
    "ExecuteTime": {
     "end_time": "2023-02-27T07:41:00.368271Z",
     "start_time": "2023-02-27T07:40:51.886691Z"
    }
   },
   "outputs": [
    {
     "name": "stdout",
     "output_type": "stream",
     "text": [
      "6 4\n",
      "1 4\n",
      "2 3\n",
      "2 4\n",
      "5 6\n",
      "각 원소가 속한 집합: 1 1 1 1 5 5 \n",
      "부모 테이블: 1 1 2 1 5 5 "
     ]
    }
   ],
   "source": [
    "def find_parent(parent, x):\n",
    "    if parent[x] != x:\n",
    "        return find_parent(parent, parent[x])\n",
    "    return parent[x]\n",
    "\n",
    "def union_parent(parent, a, b):\n",
    "    a = find_parent(parent, a)\n",
    "    b = find_parent(parent, b)\n",
    "    \n",
    "    if a < b:\n",
    "        parent[b] = a\n",
    "    else:\n",
    "        parent[a] = b\n",
    "\n",
    "v, e = map(int, input().split())\n",
    "parent = [0] * (v+1)\n",
    "\n",
    "for i in range(1, v+1):\n",
    "    parent[i] = i\n",
    "    \n",
    "for i in range(e):\n",
    "    a, b = map(int, input().split())\n",
    "    union_parent(parent, a, b)\n",
    "    \n",
    "print('각 원소가 속한 집합: ', end ='')\n",
    "for i in range(1, v+1):\n",
    "    print(find_parent(parent,i), end=' ')\n",
    "print()\n",
    "\n",
    "print('부모 테이블: ', end='')\n",
    "for i in range(1,v+1):\n",
    "    print(parent[i], end=' ')"
   ]
  },
  {
   "cell_type": "markdown",
   "id": "24c2dbcd",
   "metadata": {},
   "source": [
    "# 서로소 집합을 활용한 사이클 판별"
   ]
  },
  {
   "cell_type": "code",
   "execution_count": 7,
   "id": "2911589d",
   "metadata": {
    "ExecuteTime": {
     "end_time": "2023-02-27T07:44:44.808333Z",
     "start_time": "2023-02-27T07:44:39.508189Z"
    }
   },
   "outputs": [
    {
     "name": "stdout",
     "output_type": "stream",
     "text": [
      "3 3\n",
      "1 2\n",
      "1 3\n",
      "2 3\n",
      "사이클이 발생했습니다.\n"
     ]
    }
   ],
   "source": [
    "def find_parent(parent, x):\n",
    "    if parent[x] != x:\n",
    "        return find_parent(parent, parent[x])\n",
    "    return parent[x]\n",
    "\n",
    "def union_parent(parent, a, b):\n",
    "    a = find_parent(parent, a)\n",
    "    b = find_parent(parent, b)\n",
    "    \n",
    "    if a < b:\n",
    "        parent[b] = a\n",
    "    else:\n",
    "        parent[a] = b\n",
    "\n",
    "v, e = map(int, input().split())\n",
    "parent = [0] * (v+1)\n",
    "\n",
    "for i in range(1, v+1):\n",
    "    parent[i] = i\n",
    "    \n",
    "cycle = False\n",
    "    \n",
    "for i in range(e):\n",
    "    a, b = map(int, input().split())\n",
    "    if find_parent(parent,a) == find_parent(parent, b):\n",
    "        cycle = True\n",
    "        break\n",
    "    else:\n",
    "        union_parent(parent, a, b)\n",
    "if cycle:\n",
    "    print(\"사이클이 발생했습니다.\")\n",
    "else:\n",
    "    print('사이클이 발생하지 않았습니다.')"
   ]
  },
  {
   "cell_type": "markdown",
   "id": "3fde32c6",
   "metadata": {},
   "source": [
    "# 크루스칼 알고리즘"
   ]
  },
  {
   "cell_type": "code",
   "execution_count": 9,
   "id": "5aedc7d1",
   "metadata": {
    "ExecuteTime": {
     "end_time": "2023-02-27T08:13:26.353264Z",
     "start_time": "2023-02-27T08:13:01.515162Z"
    }
   },
   "outputs": [
    {
     "name": "stdout",
     "output_type": "stream",
     "text": [
      "7 9\n",
      "1 2 29\n",
      "1 5 75\n",
      "2 3 35\n",
      "2 6 34\n",
      "3 4 7\n",
      "4 6 23\n",
      "4 7 13\n",
      "5 6 53\n",
      "6 7 25\n",
      "159\n"
     ]
    }
   ],
   "source": [
    "def find_parent(parent,x):\n",
    "    if parent[x] != x:\n",
    "        parent[x] = find_parent(parent, parent[x])\n",
    "    return parent[x]\n",
    "\n",
    "def union_parent(parent, a, b):\n",
    "    a = find_parent(parent, a)\n",
    "    b = find_parent(parent, b)\n",
    "    if a < b:\n",
    "        parent[b] = a\n",
    "    else:\n",
    "        parent[a] = b\n",
    "\n",
    "v, e = map(int, input().split())\n",
    "parent = [0] * (v+1)\n",
    "\n",
    "edges = []\n",
    "result = 0\n",
    "\n",
    "for i in range(1, v+1):\n",
    "    parent[i] = i\n",
    "\n",
    "for i in range(e):\n",
    "    a, b, cost = map(int, input().split())\n",
    "    edges.append((cost,a,b))\n",
    "    \n",
    "edges.sort()\n",
    "\n",
    "for edge in edges:\n",
    "    cost, a, b = edge\n",
    "    if find_parent(parent,a) != find_parent(parent,b):\n",
    "        union_parent(parent, a, b)\n",
    "        result += cost\n",
    "print(result)"
   ]
  },
  {
   "cell_type": "markdown",
   "id": "90a9b7ee",
   "metadata": {},
   "source": [
    "# 위상 정렬"
   ]
  },
  {
   "cell_type": "code",
   "execution_count": 10,
   "id": "8f3e7dd3",
   "metadata": {
    "ExecuteTime": {
     "end_time": "2023-03-06T10:11:28.053242Z",
     "start_time": "2023-03-06T10:11:28.042088Z"
    }
   },
   "outputs": [],
   "source": [
    "from collections import deque"
   ]
  },
  {
   "cell_type": "code",
   "execution_count": 14,
   "id": "8fa139aa",
   "metadata": {
    "ExecuteTime": {
     "end_time": "2023-03-06T10:15:49.391867Z",
     "start_time": "2023-03-06T10:15:33.854786Z"
    }
   },
   "outputs": [
    {
     "name": "stdout",
     "output_type": "stream",
     "text": [
      "7 8\n",
      "1 2\n",
      "1 5\n",
      "2 3\n",
      "2 6\n",
      "3 4\n",
      "4 7\n",
      "5 6\n",
      "6 4\n",
      "1 2 5 3 6 4 7 "
     ]
    }
   ],
   "source": [
    "v, e = map(int,input().split())\n",
    "indegree = [0] * (v+1)\n",
    "graph = [[] for i in range(v+1)]\n",
    "\n",
    "for _ in range(e):\n",
    "    a, b = map(int, input().split())\n",
    "    graph[a].append(b)\n",
    "    indegree[b] += 1\n",
    "\n",
    "def topology_sort():\n",
    "    result = []\n",
    "    q = deque()\n",
    "    \n",
    "    for i in range(1,v+1):\n",
    "        if indegree[i] == 0:\n",
    "            q.append(i)\n",
    "    while q:\n",
    "        now = q.popleft()\n",
    "        result.append(now)\n",
    "        for i in graph[now]:\n",
    "            indegree[i] -= 1\n",
    "            if indegree[i] == 0:\n",
    "                q.append(i)\n",
    "    for i in result:\n",
    "        print(i, end=' ')\n",
    "topology_sort()"
   ]
  }
 ],
 "metadata": {
  "kernelspec": {
   "display_name": "Python 3 (ipykernel)",
   "language": "python",
   "name": "python3"
  },
  "language_info": {
   "codemirror_mode": {
    "name": "ipython",
    "version": 3
   },
   "file_extension": ".py",
   "mimetype": "text/x-python",
   "name": "python",
   "nbconvert_exporter": "python",
   "pygments_lexer": "ipython3",
   "version": "3.8.13"
  }
 },
 "nbformat": 4,
 "nbformat_minor": 5
}
