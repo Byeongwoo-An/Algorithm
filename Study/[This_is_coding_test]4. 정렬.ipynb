{
 "cells": [
  {
   "cell_type": "markdown",
   "id": "e90f9663",
   "metadata": {},
   "source": [
    "# 선택 정렬"
   ]
  },
  {
   "cell_type": "code",
   "execution_count": 1,
   "id": "8a798570",
   "metadata": {
    "ExecuteTime": {
     "end_time": "2023-02-21T06:09:36.528755Z",
     "start_time": "2023-02-21T06:09:36.504624Z"
    }
   },
   "outputs": [
    {
     "data": {
      "text/plain": [
       "[0, 1, 2, 3, 4, 5, 6, 7, 8, 9]"
      ]
     },
     "execution_count": 1,
     "metadata": {},
     "output_type": "execute_result"
    }
   ],
   "source": [
    "array = [7,5,9,0,3,1,6,2,4,8]\n",
    "\n",
    "for i in range(len(array)):\n",
    "    min_index = i\n",
    "    for j in range(i+1, len(array)):\n",
    "        if array[min_index] > array[j]:\n",
    "            min_index = j\n",
    "    array[i], array[min_index] = array[min_index], array[i]\n",
    "array"
   ]
  },
  {
   "cell_type": "markdown",
   "id": "d08bc6c9",
   "metadata": {},
   "source": [
    "# 삽입 정렬"
   ]
  },
  {
   "cell_type": "code",
   "execution_count": 2,
   "id": "c0fd7478",
   "metadata": {
    "ExecuteTime": {
     "end_time": "2023-02-21T06:09:37.848171Z",
     "start_time": "2023-02-21T06:09:37.837850Z"
    }
   },
   "outputs": [
    {
     "data": {
      "text/plain": [
       "[0, 1, 2, 3, 4, 5, 6, 7, 8, 9]"
      ]
     },
     "execution_count": 2,
     "metadata": {},
     "output_type": "execute_result"
    }
   ],
   "source": [
    "array = [7,5,9,0,3,1,6,2,4,8]\n",
    "\n",
    "for i in range(1,len(array)):\n",
    "    for j in range(i,0,-1):\n",
    "        if array[j] < array[j-1]:\n",
    "            array[j], array[j-1] = array[j-1],array[j]\n",
    "        else:\n",
    "            break\n",
    "array"
   ]
  },
  {
   "cell_type": "markdown",
   "id": "cc5163fa",
   "metadata": {},
   "source": [
    "# 퀵 정렬"
   ]
  },
  {
   "cell_type": "code",
   "execution_count": 10,
   "id": "438d4149",
   "metadata": {},
   "outputs": [
    {
     "data": {
      "text/plain": [
       "[0, 1, 2, 3, 4, 5, 6, 7, 8, 9]"
      ]
     },
     "execution_count": 10,
     "metadata": {},
     "output_type": "execute_result"
    }
   ],
   "source": [
    "array = [5,7,9,0,3,1,6,2,4,8]\n",
    "\n",
    "def quick_sort(array, start, end):\n",
    "    if start >= end:\n",
    "        return\n",
    "    pivot = start\n",
    "    left = start+1\n",
    "    right = end\n",
    "    \n",
    "    while left <= right:\n",
    "        while left <= end and array[left] <= array[pivot]:\n",
    "            left += 1\n",
    "        while right> start and array[right] >= array[pivot]:\n",
    "            right -= 1\n",
    "        if left > right:\n",
    "            array[right], array[pivot] = array[pivot], array[right]\n",
    "        else:\n",
    "            array[left], array[right] = array[right], array[left]\n",
    "            \n",
    "    quick_sort(array,start, right-1)\n",
    "    quick_sort(array,right+1, end)\n",
    "    \n",
    "quick_sort(array,0,len(array)-1)\n",
    "array"
   ]
  },
  {
   "cell_type": "code",
   "execution_count": 12,
   "id": "eef52644",
   "metadata": {},
   "outputs": [
    {
     "data": {
      "text/plain": [
       "[0, 1, 2, 3, 4, 5, 6, 7, 8, 9]"
      ]
     },
     "execution_count": 12,
     "metadata": {},
     "output_type": "execute_result"
    }
   ],
   "source": [
    "array = [5,7,9,0,3,1,6,2,4,8]\n",
    "def quick_sort(array):\n",
    "    if len(array) <= 1:\n",
    "        return array\n",
    "    \n",
    "    pivot = array[0]\n",
    "    tail = array[1:]\n",
    "    \n",
    "    left_side = [x for x in tail if x <= pivot]\n",
    "    right_side = [x for x in tail if x > pivot]\n",
    "    \n",
    "    return quick_sort(left_side) + [pivot] + quick_sort(right_side)\n",
    "\n",
    "quick_sort(array)"
   ]
  },
  {
   "cell_type": "markdown",
   "id": "7ac19234",
   "metadata": {},
   "source": [
    "# 계수 정렬"
   ]
  },
  {
   "cell_type": "code",
   "execution_count": 23,
   "id": "c75922a9",
   "metadata": {},
   "outputs": [
    {
     "name": "stdout",
     "output_type": "stream",
     "text": [
      "0012234556789"
     ]
    }
   ],
   "source": [
    "array = [7,5,9,0,3,1,6,2,4,8,0,5,2]\n",
    "count = [0]*(max(array)+1)\n",
    "\n",
    "for i in range(len(array)):\n",
    "    count[array[i]] += 1\n",
    "\n",
    "for i in range(len(count)):\n",
    "    for j in range(count[i]):\n",
    "        print(i, end='')"
   ]
  },
  {
   "cell_type": "markdown",
   "id": "1a9948d9",
   "metadata": {},
   "source": [
    "# 위에서 아래로"
   ]
  },
  {
   "cell_type": "code",
   "execution_count": 58,
   "id": "7cbab517",
   "metadata": {},
   "outputs": [
    {
     "name": "stdout",
     "output_type": "stream",
     "text": [
      "3\n",
      "15\n",
      "27\n",
      "12\n",
      "27 15 12\n"
     ]
    }
   ],
   "source": [
    "n = int(input())\n",
    "num = []\n",
    "for _ in range(n):\n",
    "    num.append(int(input()))\n",
    "print(*sorted(num)[::-1])\n",
    "\n",
    "# sorted(array, reverse=True)"
   ]
  },
  {
   "cell_type": "markdown",
   "id": "1cb374b2",
   "metadata": {},
   "source": [
    "# 성적이 낮은 순서로 학생 출력하기"
   ]
  },
  {
   "cell_type": "code",
   "execution_count": 88,
   "id": "186c3512",
   "metadata": {},
   "outputs": [
    {
     "name": "stdout",
     "output_type": "stream",
     "text": [
      "2\n",
      "홍길동 95\n",
      "이순신 77\n",
      "이순신 홍길동 "
     ]
    }
   ],
   "source": [
    "n = int(input())\n",
    "lst = []\n",
    "for _ in range(n):\n",
    "    lst.append((tuple(map(str,input().split()))))\n",
    "    \n",
    "def setting(data):\n",
    "    return data[1]\n",
    "\n",
    "result = sorted(lst,key=setting)\n",
    "\n",
    "for student in result:\n",
    "    print(student[0],end=' ')"
   ]
  },
  {
   "cell_type": "code",
   "execution_count": 89,
   "id": "9d2720cf",
   "metadata": {},
   "outputs": [
    {
     "name": "stdout",
     "output_type": "stream",
     "text": [
      "2\n",
      "홍길동 95\n",
      "이순신 77\n",
      "이순신 홍길동 "
     ]
    }
   ],
   "source": [
    "n = int(input())\n",
    "lst = []\n",
    "for _ in range(n):\n",
    "    input_data = input().split()\n",
    "    lst.append((input_data[0], int(input_data[1])))\n",
    "\n",
    "array = sorted(lst, key=lambda student: student[1])\n",
    "\n",
    "for student in array:\n",
    "    print(student[0], end=' ')"
   ]
  },
  {
   "cell_type": "markdown",
   "id": "41ed327f",
   "metadata": {},
   "source": [
    "# 두 배열의 원소 교체"
   ]
  },
  {
   "cell_type": "code",
   "execution_count": 141,
   "id": "226f67f4",
   "metadata": {},
   "outputs": [
    {
     "name": "stdout",
     "output_type": "stream",
     "text": [
      "5 3 \n",
      "1 2 5 4 3\n",
      "5 5 6 6 5\n",
      "26\n"
     ]
    }
   ],
   "source": [
    "n, k = map(int,input().split())\n",
    "a = list(map(int, input().split()))\n",
    "b = list(map(int, input().split()))\n",
    "\n",
    "for _ in range(k):\n",
    "    \n",
    "    sort_a = sorted(a)\n",
    "    sort_b = sorted(b)\n",
    "    \n",
    "    if sort_a[0] >= sort_b[-1]:\n",
    "        break\n",
    "        \n",
    "    pop_a = sort_a.pop(0)\n",
    "    sort_a\n",
    "    \n",
    "    pop_b = sort_b.pop(-1)\n",
    "    sort_b\n",
    "        \n",
    "    sort_a.append(pop_b)\n",
    "    sort_b.append(pop_a)\n",
    "    \n",
    "    a = sort_a\n",
    "    b = sort_b\n",
    "print(sum(a))"
   ]
  },
  {
   "cell_type": "code",
   "execution_count": 140,
   "id": "aae3f848",
   "metadata": {},
   "outputs": [
    {
     "name": "stdout",
     "output_type": "stream",
     "text": [
      "5 3\n",
      "1 2 5 4 3\n",
      "5 5 6 6 5\n",
      "26\n"
     ]
    }
   ],
   "source": [
    "n, k = map(int,input().split())\n",
    "a = list(map(int, input().split()))\n",
    "b = list(map(int, input().split()))\n",
    "\n",
    "a.sort()\n",
    "b.sort(reverse=True)\n",
    "\n",
    "for i in range(k):\n",
    "    if a[i] < b[i]:\n",
    "        a[i], b[i] = b[i],a[i]\n",
    "    else:\n",
    "        break\n",
    "\n",
    "print(sum(a))"
   ]
  }
 ],
 "metadata": {
  "kernelspec": {
   "display_name": "Python 3 (ipykernel)",
   "language": "python",
   "name": "python3"
  },
  "language_info": {
   "codemirror_mode": {
    "name": "ipython",
    "version": 3
   },
   "file_extension": ".py",
   "mimetype": "text/x-python",
   "name": "python",
   "nbconvert_exporter": "python",
   "pygments_lexer": "ipython3",
   "version": "3.8.13"
  }
 },
 "nbformat": 4,
 "nbformat_minor": 5
}
