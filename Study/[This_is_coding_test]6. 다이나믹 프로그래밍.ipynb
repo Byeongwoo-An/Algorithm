{
 "cells": [
  {
   "cell_type": "markdown",
   "id": "d6ad1196",
   "metadata": {},
   "source": [
    "# 피보나치 함수"
   ]
  },
  {
   "cell_type": "code",
   "execution_count": 8,
   "id": "8d5a93ef",
   "metadata": {
    "ExecuteTime": {
     "end_time": "2023-02-22T07:54:13.605413Z",
     "start_time": "2023-02-22T07:54:13.586381Z"
    }
   },
   "outputs": [
    {
     "data": {
      "text/plain": [
       "8"
      ]
     },
     "execution_count": 8,
     "metadata": {},
     "output_type": "execute_result"
    }
   ],
   "source": [
    "def fibo(x):\n",
    "    if x==1 or x==2:\n",
    "        return 1\n",
    "    return fibo(x-1) + fibo(x-2)\n",
    "fibo(6)"
   ]
  },
  {
   "cell_type": "code",
   "execution_count": 15,
   "id": "c421bb79",
   "metadata": {
    "ExecuteTime": {
     "end_time": "2023-02-22T08:02:54.656415Z",
     "start_time": "2023-02-22T08:02:54.649945Z"
    }
   },
   "outputs": [
    {
     "data": {
      "text/plain": [
       "218922995834555169026"
      ]
     },
     "execution_count": 15,
     "metadata": {},
     "output_type": "execute_result"
    }
   ],
   "source": [
    "d = [0]*100\n",
    "\n",
    "def fibo(x):\n",
    "    if x == 1 or x == 2:\n",
    "        return 1\n",
    "    \n",
    "    if d[x] != 0:\n",
    "        return d[x]\n",
    "    \n",
    "    d[x] = fibo(x-1) + fibo(x-2)\n",
    "    return d[x]\n",
    "\n",
    "fibo(99)"
   ]
  },
  {
   "cell_type": "code",
   "execution_count": 16,
   "id": "79dcb5ec",
   "metadata": {
    "ExecuteTime": {
     "end_time": "2023-02-22T08:11:08.746087Z",
     "start_time": "2023-02-22T08:11:08.732144Z"
    }
   },
   "outputs": [
    {
     "name": "stdout",
     "output_type": "stream",
     "text": [
      "218922995834555169026\n"
     ]
    }
   ],
   "source": [
    "d = [0]*100\n",
    "\n",
    "d[1] = 1\n",
    "d[2] = 1\n",
    "n = 99\n",
    "\n",
    "for i in range(3,n+1):\n",
    "    d[i] = d[i-1] + d[i-2]\n",
    "print(d[n])"
   ]
  },
  {
   "cell_type": "markdown",
   "id": "79d01cf4",
   "metadata": {},
   "source": [
    "# 1로 만들기"
   ]
  },
  {
   "cell_type": "code",
   "execution_count": 17,
   "id": "6ffc7643",
   "metadata": {
    "ExecuteTime": {
     "end_time": "2023-02-22T08:14:15.852490Z",
     "start_time": "2023-02-22T08:14:13.191499Z"
    }
   },
   "outputs": [
    {
     "name": "stdout",
     "output_type": "stream",
     "text": [
      "26\n"
     ]
    }
   ],
   "source": [
    "x = int(input())"
   ]
  },
  {
   "cell_type": "code",
   "execution_count": 19,
   "id": "e9aa2993",
   "metadata": {
    "ExecuteTime": {
     "end_time": "2023-02-22T09:26:38.179304Z",
     "start_time": "2023-02-22T09:26:38.160235Z"
    }
   },
   "outputs": [
    {
     "name": "stdout",
     "output_type": "stream",
     "text": [
      "3\n"
     ]
    }
   ],
   "source": [
    "d = [0]*30001\n",
    "\n",
    "for i in range(2,x+1):\n",
    "    d[i] = d[i-1] + 1\n",
    "    if i%2 == 0:\n",
    "        d[i] = min(d[i], d[i//2] + 1)\n",
    "    if i%3 == 0:\n",
    "        d[i] = min(d[i], d[i//3] + 1)\n",
    "    if i%5 == 0:\n",
    "        d[i] = min(d[i], d[i//5] + 1)\n",
    "\n",
    "print(d[x])"
   ]
  },
  {
   "cell_type": "markdown",
   "id": "06560f8b",
   "metadata": {},
   "source": [
    "# 개미 전사"
   ]
  },
  {
   "cell_type": "code",
   "execution_count": 53,
   "id": "c4bee467",
   "metadata": {
    "ExecuteTime": {
     "end_time": "2023-02-22T11:11:08.911435Z",
     "start_time": "2023-02-22T11:11:07.857743Z"
    }
   },
   "outputs": [
    {
     "name": "stdout",
     "output_type": "stream",
     "text": [
      "10\n",
      "1 4 9 10 2 3 9 8 6 4\n",
      "29\n"
     ]
    }
   ],
   "source": [
    "n = int(input())\n",
    "k = list(map(int, input().split()))\n",
    "\n",
    "for i in range(2,len(k)):\n",
    "    k[i] = k[i] + k[i-2] \n",
    "print(max(k[-1],k[-2]))"
   ]
  },
  {
   "cell_type": "markdown",
   "id": "e3963783",
   "metadata": {},
   "source": [
    "# 바닥 공사"
   ]
  },
  {
   "cell_type": "code",
   "execution_count": 57,
   "id": "615fa743",
   "metadata": {
    "ExecuteTime": {
     "end_time": "2023-02-23T05:52:08.207472Z",
     "start_time": "2023-02-23T05:52:07.068203Z"
    }
   },
   "outputs": [
    {
     "name": "stdout",
     "output_type": "stream",
     "text": [
      "3\n",
      "5\n"
     ]
    }
   ],
   "source": [
    "n = int(input())\n",
    "d = [0] * 1001\n",
    "d[1] = 1\n",
    "d[2] = 3\n",
    "for i in range(3,n+1):\n",
    "    d[i] = (d[i-1] + 2 * d[i-2]) % 796796\n",
    "print(d[n])"
   ]
  },
  {
   "cell_type": "markdown",
   "id": "4c3bee7f",
   "metadata": {},
   "source": [
    "# 효율적인 화폐 구성"
   ]
  },
  {
   "cell_type": "code",
   "execution_count": 84,
   "id": "ff66643b",
   "metadata": {
    "ExecuteTime": {
     "end_time": "2023-02-23T07:10:56.431156Z",
     "start_time": "2023-02-23T07:10:54.143697Z"
    }
   },
   "outputs": [
    {
     "name": "stdout",
     "output_type": "stream",
     "text": [
      "2 15\n",
      "2\n",
      "3\n",
      "5\n"
     ]
    }
   ],
   "source": [
    "# 정수 N, M을 입력 받기\n",
    "n, m = map(int, input().split())\n",
    "# N개의 화폐 단위 정보를 입력 받기\n",
    "array = []\n",
    "for i in range(n):\n",
    "    array.append(int(input()))\n",
    "\n",
    "# 한 번 계산된 결과를 저장하기 위한 DP 테이블 초기화\n",
    "d = [10001] * (m + 1)\n",
    "\n",
    "# 다이나믹 프로그래밍(Dynamic Programming) 진행(보텀업)\n",
    "d[0] = 0\n",
    "for i in range(n):\n",
    "    for j in range(array[i], m + 1):\n",
    "        if d[j - array[i]] != 10001: # (i - k)원을 만드는 방법이 존재하는 경우\n",
    "            d[j] = min(d[j], d[j - array[i]] + 1)\n",
    "\n",
    "# 계산된 결과 출력\n",
    "if d[m] == 10001: # 최종적으로 M원을 만드는 방법이 없는 경우\n",
    "    print(-1)\n",
    "else:\n",
    "    print(d[m])"
   ]
  }
 ],
 "metadata": {
  "kernelspec": {
   "display_name": "Python 3 (ipykernel)",
   "language": "python",
   "name": "python3"
  },
  "language_info": {
   "codemirror_mode": {
    "name": "ipython",
    "version": 3
   },
   "file_extension": ".py",
   "mimetype": "text/x-python",
   "name": "python",
   "nbconvert_exporter": "python",
   "pygments_lexer": "ipython3",
   "version": "3.8.13"
  }
 },
 "nbformat": 4,
 "nbformat_minor": 5
}
