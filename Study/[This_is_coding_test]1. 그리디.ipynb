{
 "cells": [
  {
   "cell_type": "markdown",
   "id": "9d617381",
   "metadata": {},
   "source": [
    "# 큰 수의 법칙"
   ]
  },
  {
   "cell_type": "code",
   "execution_count": 35,
   "id": "54269bfa",
   "metadata": {
    "ExecuteTime": {
     "end_time": "2023-01-07T05:42:56.762959Z",
     "start_time": "2023-01-07T05:42:45.277565Z"
    }
   },
   "outputs": [
    {
     "name": "stdout",
     "output_type": "stream",
     "text": [
      "5 8 3\n",
      "2 4 5 4 6\n",
      "46\n"
     ]
    }
   ],
   "source": [
    "n, m, k = map(int,input().split())\n",
    "lst = list(map(int,input().split()))\n",
    "lst.sort()\n",
    "result = (lst[-1]*k)*(m%k) + (lst[-2]*1)*(m-(k*(m%k)))\n",
    "print(result)"
   ]
  },
  {
   "cell_type": "markdown",
   "id": "2c963d59",
   "metadata": {},
   "source": [
    "# 숫자 카드 게임"
   ]
  },
  {
   "cell_type": "code",
   "execution_count": 60,
   "id": "fd13e682",
   "metadata": {
    "ExecuteTime": {
     "end_time": "2023-01-07T06:00:58.503470Z",
     "start_time": "2023-01-07T06:00:46.485034Z"
    }
   },
   "outputs": [
    {
     "name": "stdout",
     "output_type": "stream",
     "text": [
      "3 3\n",
      "3 1 2\n",
      "4 1 4\n",
      "2 2 2\n",
      "2\n"
     ]
    }
   ],
   "source": [
    "n, m = map(int,input().split())\n",
    "lst = []\n",
    "for i in range(n):\n",
    "    row = list(map(int,input().split()))\n",
    "    lst.append(row)\n",
    "min_lst = []\n",
    "for i in range(n):\n",
    "    tmp = min(lst[i])\n",
    "    min_lst.append(tmp)\n",
    "result = max(min_lst)\n",
    "print(result)"
   ]
  },
  {
   "cell_type": "code",
   "execution_count": 65,
   "id": "55092e09",
   "metadata": {
    "ExecuteTime": {
     "end_time": "2023-01-07T06:05:02.116799Z",
     "start_time": "2023-01-07T06:04:54.367189Z"
    }
   },
   "outputs": [
    {
     "name": "stdout",
     "output_type": "stream",
     "text": [
      "3 3\n",
      "3 1 2\n",
      "4 1 4\n",
      "2 2 2\n",
      "2\n"
     ]
    }
   ],
   "source": [
    "n, m = map(int,input().split())\n",
    "result = 0\n",
    "for i in range(n):\n",
    "    row = list(map(int,input().split()))\n",
    "    tmp = min(row)\n",
    "    result = max(result, tmp)\n",
    "print(result)"
   ]
  },
  {
   "cell_type": "markdown",
   "id": "255be701",
   "metadata": {},
   "source": [
    "# 1이 될 때까지 "
   ]
  },
  {
   "cell_type": "code",
   "execution_count": 29,
   "id": "2b61219e",
   "metadata": {
    "ExecuteTime": {
     "end_time": "2023-01-07T06:15:49.180753Z",
     "start_time": "2023-01-07T06:15:47.607874Z"
    }
   },
   "outputs": [
    {
     "name": "stdout",
     "output_type": "stream",
     "text": [
      "17 4\n"
     ]
    }
   ],
   "source": [
    "n, k = map(int,input().split())"
   ]
  },
  {
   "cell_type": "code",
   "execution_count": 30,
   "id": "3d06ab89",
   "metadata": {
    "ExecuteTime": {
     "end_time": "2023-01-07T06:15:49.648393Z",
     "start_time": "2023-01-07T06:15:49.642409Z"
    }
   },
   "outputs": [
    {
     "name": "stdout",
     "output_type": "stream",
     "text": [
      "3\n"
     ]
    }
   ],
   "source": [
    "cnt = 0\n",
    "while n != 1:\n",
    "    if n%k == 0:\n",
    "        n = n//k\n",
    "        cnt += 1\n",
    "    else:\n",
    "        n -= 1\n",
    "        cnt += 1\n",
    "print(cnt)"
   ]
  }
 ],
 "metadata": {
  "kernelspec": {
   "display_name": "Python 3 (ipykernel)",
   "language": "python",
   "name": "python3"
  },
  "language_info": {
   "codemirror_mode": {
    "name": "ipython",
    "version": 3
   },
   "file_extension": ".py",
   "mimetype": "text/x-python",
   "name": "python",
   "nbconvert_exporter": "python",
   "pygments_lexer": "ipython3",
   "version": "3.8.13"
  }
 },
 "nbformat": 4,
 "nbformat_minor": 5
}
